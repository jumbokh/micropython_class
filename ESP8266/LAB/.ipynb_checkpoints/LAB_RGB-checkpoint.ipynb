{
 "cells": [
  {
   "cell_type": "code",
   "execution_count": 1,
   "metadata": {},
   "outputs": [
    {
     "name": "stdout",
     "output_type": "stream",
     "text": [
      "\u001b[34m** WebSocket connected **\n",
      "\u001b[0mPassword: \n",
      "WebREPL connected\n",
      ">>> \u001b[34mReady.\n",
      "\u001b[0m"
     ]
    }
   ],
   "source": [
    "#%serialcnnect to --port COM11\n",
    "%websocketconnect --password 1234 ws://192.168.43.126:8266"
   ]
  },
  {
   "cell_type": "code",
   "execution_count": null,
   "metadata": {},
   "outputs": [],
   "source": [
    "from machine import Pin\n",
    "import time\n",
    " \n",
    "ledR = Pin(6, Pin.OUT)\n",
    "ledG = Pin(7, Pin.OUT)\n",
    "ledB = Pin(8, Pin.OUT)\n",
    " \n",
    "def turn(r, g, b):\n",
    "    ledR.value(r)\n",
    "    ledG.value(g)\n",
    "    ledB.value(b)\n",
    " \n",
    "while True:\n",
    "    turn(1, 0, 0)\n",
    "    time.sleep(0.5)\n",
    "    turn(0, 1, 0)\n",
    "    time.sleep(0.5)\n",
    "    turn(0, 0, 1)\n",
    "    time.sleep(0.5)"
   ]
  }
 ],
 "metadata": {
  "kernelspec": {
   "display_name": "MicroPython - USB",
   "language": "micropython",
   "name": "micropython"
  },
  "language_info": {
   "codemirror_mode": "python",
   "file_extension": ".py",
   "mimetype": "text/python",
   "name": "micropython"
  }
 },
 "nbformat": 4,
 "nbformat_minor": 2
}
