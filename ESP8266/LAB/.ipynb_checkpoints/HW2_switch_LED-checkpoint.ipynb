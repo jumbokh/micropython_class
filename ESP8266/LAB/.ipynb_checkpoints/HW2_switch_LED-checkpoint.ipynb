{
 "cells": [
  {
   "cell_type": "code",
   "execution_count": 1,
   "metadata": {},
   "outputs": [
    {
     "name": "stdout",
     "output_type": "stream",
     "text": [
      "\u001b[34mConnecting to --port=COM4 --baud=115200 \u001b[0m\n",
      "\u001b[34mReady.\n",
      "\u001b[0m"
     ]
    }
   ],
   "source": [
    "%serialconnect to --port=COM4 --baud=115200"
   ]
  },
  {
   "cell_type": "code",
   "execution_count": 2,
   "metadata": {},
   "outputs": [],
   "source": [
    "from machine import Pin\n",
    "import time\n",
    "\n",
    "p2 = Pin(5, Pin.OUT)\n",
    "button = machine.Pin(12, machine.Pin.IN, machine.Pin.PULL_UP)"
   ]
  },
  {
   "cell_type": "code",
   "execution_count": null,
   "metadata": {},
   "outputs": [
    {
     "name": "stdout",
     "output_type": "stream",
     "text": [
      "Button pressed!\n",
      "Button released!\n",
      "Button pressed!\n",
      "Button released!\n",
      ".Button pressed!\n",
      "Button released!\n",
      "Button pressed!\n",
      "Button released!\n",
      ".."
     ]
    }
   ],
   "source": [
    "'''按Ctrl-C 中斷，或執行上方 kernel restart'''\n",
    "while True:\n",
    "    first = button.value()\n",
    "    time.sleep(0.01)\n",
    "    second = button.value()\n",
    "    if first and not second:\n",
    "        p2.value(1)\n",
    "        time.sleep(0.2)\n",
    "        print('Button pressed!')\n",
    "    elif not first and second:\n",
    "        p2.value(0)\n",
    "        time.sleep(0.2)\n",
    "        print('Button released!')"
   ]
  },
  {
   "cell_type": "code",
   "execution_count": null,
   "metadata": {},
   "outputs": [],
   "source": []
  }
 ],
 "metadata": {
  "kernelspec": {
   "display_name": "MicroPython - USB",
   "language": "micropython",
   "name": "micropython"
  },
  "language_info": {
   "codemirror_mode": "python",
   "file_extension": ".py",
   "mimetype": "text/python",
   "name": "micropython"
  }
 },
 "nbformat": 4,
 "nbformat_minor": 2
}
