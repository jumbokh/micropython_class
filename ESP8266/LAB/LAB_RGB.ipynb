{
 "cells": [
  {
   "cell_type": "code",
   "execution_count": 4,
   "metadata": {},
   "outputs": [
    {
     "name": "stdout",
     "output_type": "stream",
     "text": [
      "\u001b[34mConnecting to --port=COM4 --baud=115200 \u001b[0m\n",
      "\u001b[34mReady.\n",
      "\u001b[0m"
     ]
    }
   ],
   "source": [
    "%serialconnect to --port COM4\n",
    "#%websocketconnect --password 1234 ws://192.168.43.121:8266"
   ]
  },
  {
   "cell_type": "code",
   "execution_count": 6,
   "metadata": {},
   "outputs": [
    {
     "name": "stdout",
     "output_type": "stream",
     "text": [
      "WebREPL daemon started on ws://192.168.4.1:8266\n",
      "WebREPL daemon started on ws://192.168.43.121:8266\n",
      "Started webrepl in normal mode\n"
     ]
    }
   ],
   "source": [
    "import webrepl\n",
    "webrepl.start()"
   ]
  },
  {
   "cell_type": "code",
   "execution_count": 7,
   "metadata": {},
   "outputs": [
    {
     "name": "stdout",
     "output_type": "stream",
     "text": [
      "\u001b[34mattempt to exit paste mode\n",
      "\u001b[0m\u001b[34m[\\r\\x03\\x02] \u001b[0mb'\\r\\nMicroPython v1.10-8-g8b7039d7d on 2019-01-26; ESP module with ESP8266\\r\\nType \"help()\" for more information.\\r\\n>>> '\u001b[34m\n",
      "Closing serial Serial<id=0x101e75d0, open=True>(port='COM4', baudrate=115200, bytesize=8, parity='N', stopbits=1, timeout=0.5, xonxoff=False, rtscts=False, dsrdtr=False)\n",
      "\u001b[0m"
     ]
    }
   ],
   "source": [
    "%disconnect"
   ]
  },
  {
   "cell_type": "code",
   "execution_count": 8,
   "metadata": {},
   "outputs": [
    {
     "name": "stdout",
     "output_type": "stream",
     "text": [
      "\u001b[34m** WebSocket connected **\n",
      "\u001b[0mPassword: \n",
      "WebREPL connected\n",
      ">>> \u001b[34mReady.\n",
      "\u001b[0m"
     ]
    }
   ],
   "source": [
    "%websocketconnect --password 1234 ws://192.168.43.121:8266"
   ]
  },
  {
   "cell_type": "code",
   "execution_count": 9,
   "metadata": {},
   "outputs": [
    {
     "name": "stderr",
     "output_type": "stream",
     "text": [
      "Traceback (most recent call last):\n",
      "  File \"<stdin>\", line 4, in <module>\n",
      "ValueError: invalid pin\n"
     ]
    }
   ],
   "source": [
    "from machine import Pin\n",
    "import time\n",
    " \n",
    "ledR = Pin(6, Pin.OUT)\n",
    "ledG = Pin(7, Pin.OUT)\n",
    "ledB = Pin(8, Pin.OUT)\n",
    " \n",
    "def turn(r, g, b):\n",
    "    ledR.value(r)\n",
    "    ledG.value(g)\n",
    "    ledB.value(b)\n",
    " \n",
    "while True:\n",
    "    turn(1, 0, 0)\n",
    "    time.sleep(0.5)\n",
    "    turn(0, 1, 0)\n",
    "    time.sleep(0.5)\n",
    "    turn(0, 0, 1)\n",
    "    time.sleep(0.5)"
   ]
  },
  {
   "cell_type": "code",
   "execution_count": 10,
   "metadata": {},
   "outputs": [
    {
     "name": "stdout",
     "output_type": "stream",
     "text": [
      "\u001b[34mattempt to exit paste mode\n",
      "\u001b[0m\u001b[34m[\\r\\x03\\x02] \u001b[0m\n",
      "MicroPython v1.10-8-g8b7039d7d on 2019-01-26; ESP module with ESP8266\n",
      "Type \"help()\" for more information.\n",
      ">>> \u001b[34m\n",
      "Closing websocket <websocket._core.WebSocket object at 0x101E7670>\n",
      "\u001b[0m"
     ]
    }
   ],
   "source": [
    "%disconnect"
   ]
  },
  {
   "cell_type": "code",
   "execution_count": null,
   "metadata": {},
   "outputs": [],
   "source": []
  }
 ],
 "metadata": {
  "kernelspec": {
   "display_name": "MicroPython - USB",
   "language": "micropython",
   "name": "micropython"
  },
  "language_info": {
   "codemirror_mode": "python",
   "file_extension": ".py",
   "mimetype": "text/python",
   "name": "micropython"
  }
 },
 "nbformat": 4,
 "nbformat_minor": 2
}
