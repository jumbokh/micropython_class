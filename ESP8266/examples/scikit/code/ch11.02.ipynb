{
 "cells": [
  {
   "cell_type": "code",
   "execution_count": 1,
   "metadata": {},
   "outputs": [],
   "source": [
    "%matplotlib inline\n",
    "import matplotlib.pyplot as plt\n",
    "import numpy as np"
   ]
  },
  {
   "cell_type": "code",
   "execution_count": 2,
   "metadata": {},
   "outputs": [
    {
     "name": "stdout",
     "output_type": "stream",
     "text": [
      "loading documents ...\n",
      "summary: 3949 documents in 4 categories.\n",
      "done in 1.6556117534637451 seconds\n"
     ]
    }
   ],
   "source": [
    "from time import time\n",
    "from sklearn.datasets import load_files\n",
    "\n",
    "print(\"loading documents ...\")\n",
    "t = time()\n",
    "docs = load_files('datasets/clustering/data')\n",
    "print(\"summary: {0} documents in {1} categories.\".format(\n",
    "    len(docs.data), len(docs.target_names)))\n",
    "print(\"done in {0} seconds\".format(time() - t))"
   ]
  },
  {
   "cell_type": "code",
   "execution_count": 3,
   "metadata": {},
   "outputs": [
    {
     "name": "stdout",
     "output_type": "stream",
     "text": [
      "vectorizing documents ...\n",
      "n_samples: 3949, n_features: 20000\n",
      "number of non-zero features in sample [datasets/clustering/data/sci.electronics/11902-54322]: 56\n",
      "done in 1.1966149806976318 seconds\n"
     ]
    }
   ],
   "source": [
    "from sklearn.feature_extraction.text import TfidfVectorizer\n",
    "\n",
    "max_features = 20000\n",
    "print(\"vectorizing documents ...\")\n",
    "t = time()\n",
    "vectorizer = TfidfVectorizer(max_df=0.4, \n",
    "                             min_df=2, \n",
    "                             max_features=max_features, \n",
    "                             encoding='latin-1')\n",
    "X = vectorizer.fit_transform((d for d in docs.data))\n",
    "print(\"n_samples: %d, n_features: %d\" % X.shape)\n",
    "print(\"number of non-zero features in sample [{0}]: {1}\".format(\n",
    "    docs.filenames[0], X[0].getnnz()))\n",
    "print(\"done in {0} seconds\".format(time() - t))"
   ]
  },
  {
   "cell_type": "code",
   "execution_count": 4,
   "metadata": {
    "scrolled": false
   },
   "outputs": [
    {
     "name": "stdout",
     "output_type": "stream",
     "text": [
      "clustering documents ...\n",
      "Initialization complete\n",
      "Iteration  0, inertia 7496.565\n",
      "Iteration  1, inertia 3847.013\n",
      "Iteration  2, inertia 3835.994\n",
      "Iteration  3, inertia 3830.140\n",
      "Iteration  4, inertia 3826.278\n",
      "Iteration  5, inertia 3823.618\n",
      "Iteration  6, inertia 3821.034\n",
      "Iteration  7, inertia 3819.546\n",
      "Iteration  8, inertia 3819.050\n",
      "Iteration  9, inertia 3818.717\n",
      "Iteration 10, inertia 3818.569\n",
      "Iteration 11, inertia 3818.489\n",
      "Iteration 12, inertia 3818.423\n",
      "Iteration 13, inertia 3818.297\n",
      "Iteration 14, inertia 3818.015\n",
      "Iteration 15, inertia 3817.802\n",
      "Iteration 16, inertia 3817.771\n",
      "Iteration 17, inertia 3817.755\n",
      "Converged at iteration 17: center shift 0.000000e+00 within tolerance 4.896692e-07\n",
      "Initialization complete\n",
      "Iteration  0, inertia 7483.723\n",
      "Iteration  1, inertia 3847.489\n",
      "Iteration  2, inertia 3832.363\n",
      "Iteration  3, inertia 3822.926\n",
      "Iteration  4, inertia 3820.334\n",
      "Iteration  5, inertia 3819.360\n",
      "Iteration  6, inertia 3818.850\n",
      "Iteration  7, inertia 3818.490\n",
      "Iteration  8, inertia 3818.172\n",
      "Iteration  9, inertia 3818.018\n",
      "Iteration 10, inertia 3817.934\n",
      "Iteration 11, inertia 3817.888\n",
      "Iteration 12, inertia 3817.833\n",
      "Iteration 13, inertia 3817.765\n",
      "Iteration 14, inertia 3817.721\n",
      "Iteration 15, inertia 3817.710\n",
      "Iteration 16, inertia 3817.701\n",
      "Iteration 17, inertia 3817.696\n",
      "Iteration 18, inertia 3817.687\n",
      "Iteration 19, inertia 3817.667\n",
      "Iteration 20, inertia 3817.644\n",
      "Iteration 21, inertia 3817.626\n",
      "Iteration 22, inertia 3817.603\n",
      "Iteration 23, inertia 3817.581\n",
      "Iteration 24, inertia 3817.556\n",
      "Iteration 25, inertia 3817.546\n",
      "Iteration 26, inertia 3817.536\n",
      "Iteration 27, inertia 3817.530\n",
      "Converged at iteration 27: center shift 0.000000e+00 within tolerance 4.896692e-07\n",
      "Initialization complete\n",
      "Iteration  0, inertia 7470.720\n",
      "Iteration  1, inertia 3843.572\n",
      "Iteration  2, inertia 3831.059\n",
      "Iteration  3, inertia 3825.473\n",
      "Iteration  4, inertia 3823.623\n",
      "Iteration  5, inertia 3822.945\n",
      "Iteration  6, inertia 3822.652\n",
      "Iteration  7, inertia 3822.402\n",
      "Iteration  8, inertia 3822.240\n",
      "Iteration  9, inertia 3822.160\n",
      "Iteration 10, inertia 3822.107\n",
      "Iteration 11, inertia 3822.071\n",
      "Iteration 12, inertia 3822.042\n",
      "Iteration 13, inertia 3822.031\n",
      "Iteration 14, inertia 3822.026\n",
      "Iteration 15, inertia 3822.023\n",
      "Iteration 16, inertia 3822.004\n",
      "Iteration 17, inertia 3821.990\n",
      "Iteration 18, inertia 3821.973\n",
      "Iteration 19, inertia 3821.957\n",
      "Iteration 20, inertia 3821.952\n",
      "Iteration 21, inertia 3821.945\n",
      "Iteration 22, inertia 3821.937\n",
      "Iteration 23, inertia 3821.927\n",
      "Converged at iteration 23: center shift 0.000000e+00 within tolerance 4.896692e-07\n"
     ]
    },
    {
     "data": {
      "text/plain": [
       "KMeans(algorithm='auto', copy_x=True, init='k-means++', max_iter=100,\n",
       "    n_clusters=4, n_init=3, n_jobs=None, precompute_distances='auto',\n",
       "    random_state=None, tol=0.01, verbose=1)"
      ]
     },
     "execution_count": 4,
     "metadata": {},
     "output_type": "execute_result"
    },
    {
     "name": "stdout",
     "output_type": "stream",
     "text": [
      "kmean: k=4, cost=3817\n",
      "done in 27.911179780960083 seconds\n"
     ]
    }
   ],
   "source": [
    "from sklearn.cluster import KMeans\n",
    "\n",
    "print(\"clustering documents ...\")\n",
    "t = time()\n",
    "n_clusters = 4\n",
    "kmean = KMeans(n_clusters=n_clusters, \n",
    "               max_iter=100,\n",
    "               tol=0.01,\n",
    "               verbose=1,\n",
    "               n_init=3)\n",
    "kmean.fit(X);\n",
    "print(\"kmean: k={}, cost={}\".format(n_clusters, int(kmean.inertia_)))\n",
    "print(\"done in {0} seconds\".format(time() - t))"
   ]
  },
  {
   "cell_type": "code",
   "execution_count": 5,
   "metadata": {},
   "outputs": [
    {
     "data": {
      "text/plain": [
       "3949"
      ]
     },
     "execution_count": 5,
     "metadata": {},
     "output_type": "execute_result"
    }
   ],
   "source": [
    "len(kmean.labels_)"
   ]
  },
  {
   "cell_type": "code",
   "execution_count": 6,
   "metadata": {},
   "outputs": [
    {
     "data": {
      "text/plain": [
       "array([1, 1, 1, 3, 0, 3, 0, 1, 3, 3], dtype=int32)"
      ]
     },
     "execution_count": 6,
     "metadata": {},
     "output_type": "execute_result"
    }
   ],
   "source": [
    "kmean.labels_[1000:1010]"
   ]
  },
  {
   "cell_type": "code",
   "execution_count": 7,
   "metadata": {},
   "outputs": [
    {
     "data": {
      "text/plain": [
       "array(['datasets/clustering/data/sci.crypt/10888-15289',\n",
       "       'datasets/clustering/data/sci.crypt/11490-15880',\n",
       "       'datasets/clustering/data/sci.crypt/11270-15346',\n",
       "       'datasets/clustering/data/sci.electronics/12383-53525',\n",
       "       'datasets/clustering/data/sci.space/13826-60862',\n",
       "       'datasets/clustering/data/sci.electronics/11631-54106',\n",
       "       'datasets/clustering/data/sci.space/14235-61437',\n",
       "       'datasets/clustering/data/sci.crypt/11508-15928',\n",
       "       'datasets/clustering/data/sci.space/13593-60824',\n",
       "       'datasets/clustering/data/sci.electronics/12304-52801'],\n",
       "      dtype='<U52')"
      ]
     },
     "execution_count": 7,
     "metadata": {},
     "output_type": "execute_result"
    }
   ],
   "source": [
    "docs.filenames[1000:1010]"
   ]
  },
  {
   "cell_type": "code",
   "execution_count": 8,
   "metadata": {},
   "outputs": [
    {
     "name": "stdout",
     "output_type": "stream",
     "text": [
      "Top terms per cluster:\n",
      "Cluster 0: space henry nasa toronto pat shuttle zoo moon spencer gov\n",
      "Cluster 1: key clipper encryption chip government will keys escrow we nsa\n",
      "Cluster 2: msg she my pitt gordon geb banks her he has\n",
      "Cluster 3: any my by know me your like anyone do out\n"
     ]
    }
   ],
   "source": [
    "from __future__ import print_function\n",
    "\n",
    "print(\"Top terms per cluster:\")\n",
    "\n",
    "order_centroids = kmean.cluster_centers_.argsort()[:, ::-1]\n",
    "\n",
    "terms = vectorizer.get_feature_names()\n",
    "for i in range(n_clusters):\n",
    "    print(\"Cluster %d:\" % i, end='')\n",
    "    for ind in order_centroids[i, :10]:\n",
    "        print(' %s' % terms[ind], end='')\n",
    "    print()"
   ]
  },
  {
   "cell_type": "code",
   "execution_count": 9,
   "metadata": {},
   "outputs": [
    {
     "data": {
      "text/plain": [
       "array([[3, 2, 0, 1],\n",
       "       [3, 1, 2, 0],\n",
       "       [1, 2, 3, 0]])"
      ]
     },
     "execution_count": 9,
     "metadata": {},
     "output_type": "execute_result"
    }
   ],
   "source": [
    "a = np.array([[20, 10, 30, 40], [100, 300, 200, 400], [1, 5, 3, 2]])\n",
    "a.argsort()[:, ::-1]"
   ]
  },
  {
   "cell_type": "code",
   "execution_count": 10,
   "metadata": {},
   "outputs": [
    {
     "data": {
      "text/plain": [
       "array([3, 1, 2, 0])"
      ]
     },
     "execution_count": 10,
     "metadata": {},
     "output_type": "execute_result"
    }
   ],
   "source": [
    "a = np.array([10, 30, 20, 40])\n",
    "a.argsort()[::-1]"
   ]
  },
  {
   "cell_type": "code",
   "execution_count": 11,
   "metadata": {},
   "outputs": [
    {
     "name": "stdout",
     "output_type": "stream",
     "text": [
      "Adjusted Rand-Index for random sample: 0.167\n",
      "Adjusted Rand-Index for same structure sample: 1.000\n"
     ]
    }
   ],
   "source": [
    "from sklearn import metrics\n",
    "\n",
    "label_true = np.random.randint(1, 4, 6)\n",
    "label_pred = np.random.randint(1, 4, 6)\n",
    "print(\"Adjusted Rand-Index for random sample: %.3f\"\n",
    "      % metrics.adjusted_rand_score(label_true, label_pred))\n",
    "label_true = [1, 1, 3, 3, 2, 2]\n",
    "label_pred = [3, 3, 2, 2, 1, 1]\n",
    "print(\"Adjusted Rand-Index for same structure sample: %.3f\"\n",
    "      % metrics.adjusted_rand_score(label_true, label_pred))"
   ]
  },
  {
   "cell_type": "code",
   "execution_count": 12,
   "metadata": {},
   "outputs": [
    {
     "name": "stdout",
     "output_type": "stream",
     "text": [
      "Homogeneity score for same structure sample: 1.000\n",
      "Homogeneity score for each cluster come from only one class: 1.000\n",
      "Homogeneity score for each cluster come from two class: 0.000\n",
      "Homogeneity score for random sample: 0.315\n"
     ]
    }
   ],
   "source": [
    "from sklearn import metrics\n",
    "\n",
    "label_true = [1, 1, 2, 2]\n",
    "label_pred = [2, 2, 1, 1]\n",
    "print(\"Homogeneity score for same structure sample: %.3f\"\n",
    "      % metrics.homogeneity_score(label_true, label_pred))\n",
    "label_true = [1, 1, 2, 2]\n",
    "label_pred = [0, 1, 2, 3]\n",
    "print(\"Homogeneity score for each cluster come from only one class: %.3f\"\n",
    "      % metrics.homogeneity_score(label_true, label_pred))\n",
    "label_true = [1, 1, 2, 2]\n",
    "label_pred = [1, 2, 1, 2]\n",
    "print(\"Homogeneity score for each cluster come from two class: %.3f\"\n",
    "      % metrics.homogeneity_score(label_true, label_pred))\n",
    "label_true = np.random.randint(1, 4, 6)\n",
    "label_pred = np.random.randint(1, 4, 6)\n",
    "print(\"Homogeneity score for random sample: %.3f\"\n",
    "      % metrics.homogeneity_score(label_true, label_pred))"
   ]
  },
  {
   "cell_type": "code",
   "execution_count": 13,
   "metadata": {},
   "outputs": [
    {
     "name": "stdout",
     "output_type": "stream",
     "text": [
      "Completeness score for same structure sample: 1.000\n",
      "Completeness score for each class assign to only one cluster: 1.000\n",
      "Completeness score for each class assign to two class: 0.000\n",
      "Completeness score for random sample: 0.290\n"
     ]
    }
   ],
   "source": [
    "from sklearn import metrics\n",
    "\n",
    "label_true = [1, 1, 2, 2]\n",
    "label_pred = [2, 2, 1, 1]\n",
    "print(\"Completeness score for same structure sample: %.3f\"\n",
    "      % metrics.completeness_score(label_true, label_pred))\n",
    "label_true = [0, 1, 2, 3]\n",
    "label_pred = [1, 1, 2, 2]\n",
    "print(\"Completeness score for each class assign to only one cluster: %.3f\"\n",
    "      % metrics.completeness_score(label_true, label_pred))\n",
    "label_true = [1, 1, 2, 2]\n",
    "label_pred = [1, 2, 1, 2]\n",
    "print(\"Completeness score for each class assign to two class: %.3f\"\n",
    "      % metrics.completeness_score(label_true, label_pred))\n",
    "label_true = np.random.randint(1, 4, 6)\n",
    "label_pred = np.random.randint(1, 4, 6)\n",
    "print(\"Completeness score for random sample: %.3f\"\n",
    "      % metrics.completeness_score(label_true, label_pred))"
   ]
  },
  {
   "cell_type": "code",
   "execution_count": 14,
   "metadata": {},
   "outputs": [
    {
     "name": "stdout",
     "output_type": "stream",
     "text": [
      "V-measure score for same structure sample: 1.000\n",
      "V-measure score for each class assign to only one cluster: 0.667\n",
      "V-measure score for each class assign to only one cluster: 0.667\n",
      "V-measure score for each class assign to two class: 0.000\n"
     ]
    }
   ],
   "source": [
    "from sklearn import metrics\n",
    "\n",
    "label_true = [1, 1, 2, 2]\n",
    "label_pred = [2, 2, 1, 1]\n",
    "print(\"V-measure score for same structure sample: %.3f\"\n",
    "      % metrics.v_measure_score(label_true, label_pred))\n",
    "label_true = [0, 1, 2, 3]\n",
    "label_pred = [1, 1, 2, 2]\n",
    "print(\"V-measure score for each class assign to only one cluster: %.3f\"\n",
    "      % metrics.v_measure_score(label_true, label_pred))\n",
    "print(\"V-measure score for each class assign to only one cluster: %.3f\"\n",
    "      % metrics.v_measure_score(label_pred, label_true))\n",
    "label_true = [1, 1, 2, 2]\n",
    "label_pred = [1, 2, 1, 2]\n",
    "print(\"V-measure score for each class assign to two class: %.3f\"\n",
    "      % metrics.v_measure_score(label_true, label_pred))"
   ]
  },
  {
   "cell_type": "code",
   "execution_count": 15,
   "metadata": {},
   "outputs": [
    {
     "name": "stdout",
     "output_type": "stream",
     "text": [
      "Homogeneity: 0.453\n",
      "Completeness: 0.532\n",
      "V-measure: 0.489\n",
      "Adjusted Rand-Index: 0.295\n",
      "Silhouette Coefficient: 0.004\n"
     ]
    }
   ],
   "source": [
    "from sklearn import metrics\n",
    "\n",
    "labels = docs.target\n",
    "print(\"Homogeneity: %0.3f\" % metrics.homogeneity_score(labels, kmean.labels_))\n",
    "print(\"Completeness: %0.3f\" % metrics.completeness_score(labels, kmean.labels_))\n",
    "print(\"V-measure: %0.3f\" % metrics.v_measure_score(labels, kmean.labels_))\n",
    "print(\"Adjusted Rand-Index: %.3f\"\n",
    "      % metrics.adjusted_rand_score(labels, kmean.labels_))\n",
    "print(\"Silhouette Coefficient: %0.3f\"\n",
    "      % metrics.silhouette_score(X, kmean.labels_, sample_size=1000))"
   ]
  },
  {
   "cell_type": "code",
   "execution_count": null,
   "metadata": {},
   "outputs": [],
   "source": []
  }
 ],
 "metadata": {
  "kernelspec": {
   "display_name": "Python 3",
   "language": "python",
   "name": "python3"
  },
  "language_info": {
   "codemirror_mode": {
    "name": "ipython",
    "version": 3
   },
   "file_extension": ".py",
   "mimetype": "text/x-python",
   "name": "python",
   "nbconvert_exporter": "python",
   "pygments_lexer": "ipython3",
   "version": "3.6.5"
  }
 },
 "nbformat": 4,
 "nbformat_minor": 2
}
