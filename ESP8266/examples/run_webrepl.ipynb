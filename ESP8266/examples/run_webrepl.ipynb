{
 "cells": [
  {
   "cell_type": "markdown",
   "metadata": {},
   "source": [
    "## 韌體燒錄"
   ]
  },
  {
   "cell_type": "code",
   "execution_count": 3,
   "metadata": {},
   "outputs": [
    {
     "name": "stdout",
     "output_type": "stream",
     "text": [
      "\u001b[34mExecuting:\n",
      "  esptool --port COM4 erase_flash\n",
      "\n",
      "\u001b[0mesptool.py v2.6\n",
      "Serial port COM4\n",
      "Connecting....\n",
      "\u001b[34m[Press the PRG button now if required]\n",
      "\u001b[0mDetecting chip type... ESP8266\n",
      "Chip is ESP8266EX\n",
      "Features: WiFi\n",
      "MAC: a0:20:a6:13:47:26\n",
      "Uploading stub...\n",
      "Running stub...\n",
      "Stub running...\n",
      "Erasing flash (this may take a while)...\n",
      "Chip erase completed successfully in 9.4s\n",
      "Hard resetting via RTS pin...\n"
     ]
    }
   ],
   "source": [
    "%esptool --port COM4 erase"
   ]
  },
  {
   "cell_type": "code",
   "execution_count": 4,
   "metadata": {},
   "outputs": [
    {
     "name": "stdout",
     "output_type": "stream",
     "text": [
      "\u001b[34mExecuting:\n",
      "  esptool --port com4 --baud 460800 write_flash --flash_size=detect -fm dio 0 ../scripts/esp8266-20190125-v1.10.bin\n",
      "\n",
      "\u001b[0mesptool.py v2.6\n",
      "Serial port com4\n",
      "Connecting....\n",
      "\u001b[34m[Press the PRG button now if required]\n",
      "\u001b[0mDetecting chip type... ESP8266\n",
      "Chip is ESP8266EX\n",
      "Features: WiFi\n",
      "MAC: a0:20:a6:13:47:26\n",
      "Uploading stub...\n",
      "Running stub...\n",
      "Stub running...\n",
      "Changing baud rate to 460800\n",
      "Changed.\n",
      "Configuring flash size...\n",
      "Auto-detected Flash size: 4MB\n",
      "Flash params set to 0x0240\n",
      "Compressed 615388 bytes to 399928...\n",
      "Wrote 615388 bytes (399928 compressed) at 0x00000000 in 9.2 seconds (effective 538.0 kbit/s)...\n",
      "Hash of data verified.\n",
      "\n",
      "Leaving...\n",
      "Hard resetting via RTS pin...\n"
     ]
    }
   ],
   "source": [
    "#%esptool --port com4 --baud 460800 write_flash --flash_size=detect -fm dio 0 ../scripts/esp8266-20190125-v1.10.bin\n",
    "%esptool --port com4 esp8266 ../scripts/esp8266-20190125-v1.10.bin"
   ]
  },
  {
   "cell_type": "markdown",
   "metadata": {},
   "source": [
    "* 請先重開 Nodemcu\n",
    "* ****************\n",
    "## 增加檔案"
   ]
  },
  {
   "cell_type": "code",
   "execution_count": 5,
   "metadata": {},
   "outputs": [
    {
     "name": "stdout",
     "output_type": "stream",
     "text": [
      "\u001b[34mConnecting to --port=COM4 --baud=115200 \u001b[0m\n",
      "\u001b[34mReady.\n",
      "\u001b[0m"
     ]
    }
   ],
   "source": [
    "%serialconnect to --port COM4"
   ]
  },
  {
   "cell_type": "code",
   "execution_count": 6,
   "metadata": {},
   "outputs": [
    {
     "name": "stdout",
     "output_type": "stream",
     "text": [
      "['boot.py']\r\n"
     ]
    }
   ],
   "source": [
    "import os\n",
    "print(os.listdir())"
   ]
  },
  {
   "cell_type": "markdown",
   "metadata": {},
   "source": [
    "* 修改無線網路參數"
   ]
  },
  {
   "cell_type": "code",
   "execution_count": 8,
   "metadata": {},
   "outputs": [
    {
     "name": "stdout",
     "output_type": "stream",
     "text": [
      "Sent 2 lines (22 bytes) to ap.txt.\n"
     ]
    }
   ],
   "source": [
    "%sendtofile ap.txt\n",
    "informatics\n",
    "0953313123"
   ]
  },
  {
   "cell_type": "markdown",
   "metadata": {},
   "source": [
    "## 重新改寫： \n",
    "* boot.py\n",
    "* main.py\n",
    "* webtool.html\n",
    "* webrepl_cfg.py (網路連接密碼，default：1234)"
   ]
  },
  {
   "cell_type": "code",
   "execution_count": 9,
   "metadata": {},
   "outputs": [
    {
     "name": "stdout",
     "output_type": "stream",
     "text": [
      "Sent 10 lines (229 bytes) to boot.py.\n"
     ]
    }
   ],
   "source": [
    "%sendtofile boot.py\n",
    "# This file is executed on every boot (including wake-boot from deepsleep)\n",
    "#import esp\n",
    "#esp.osdebug(None)\n",
    "import uos, machine\n",
    "#uos.dupterm(None, 1) # disable REPL on UART(0)\n",
    "import gc\n",
    "gc.collect()\n",
    "import webrepl\n",
    "webrepl.start()\n",
    "\n"
   ]
  },
  {
   "cell_type": "code",
   "execution_count": 10,
   "metadata": {},
   "outputs": [
    {
     "name": "stdout",
     "output_type": "stream",
     "text": [
      "Sent 138 lines (3221 bytes) to main.py.\n"
     ]
    }
   ],
   "source": [
    "%sendtofile main.py\n",
    "# -*- coding: utf-8 -*-\n",
    "\n",
    "import machine\n",
    "import network\n",
    "import time\n",
    "import os\n",
    "\n",
    "#- check ap config file\n",
    "AP_SSID = 'upy'\n",
    "AP_PWD = 'pypypypy'\n",
    "ap_config = None\n",
    "ap_config_fn = 'ap.txt'\n",
    "if ap_config_fn in os.listdir():\n",
    "    print('ap config here!')\n",
    "    f = open(ap_config_fn)\n",
    "    ap_config = f.read()\n",
    "    f.close()\n",
    "if ap_config:\n",
    "    print( ('ap_config:', ap_config))\n",
    "    ap_config = ap_config.split('\\n')\n",
    "    AP_SSID = ap_config[0].strip()\n",
    "    AP_PWD = ap_config[1].strip()\n",
    "print('line to: ', (AP_SSID, AP_PWD))\n",
    "\n",
    "#-- 連到AP 為Station\n",
    "sta_if = network.WLAN(network.STA_IF)\n",
    "sta_if.active(True)\n",
    "sta_if.connect(AP_SSID, AP_PWD)\n",
    "sta_if.isconnected()\n",
    "for i in range(20):\n",
    "    time.sleep(0.5)\n",
    "    if sta_if.isconnected():\n",
    "        break\n",
    "sta_ip = ''\n",
    "if sta_if.isconnected():\n",
    "    print('connected!  --> ', sta_if.ifconfig())\n",
    "    sta_ip = sta_if.ifconfig()[0]\n",
    "else:\n",
    "    print('not connected!  --> ', sta_if.ifconfig())\n",
    "\n",
    "#-- 當AP，並指定\n",
    "uid = machine.unique_id()\n",
    "#ap_if.ifconfig()\n",
    "# ('192.168.4.1', '255.255.255.0', '192.168.4.1', '192.168.43.1')\n",
    "# (ip, mask, gateway, dns)\n",
    "my_sn = '%02X-%02X-%02X-%02X' %(uid[0], uid[1], uid[2], uid[3])\n",
    "\n",
    "#- Change name/password/ip of ESP8266's AP:\n",
    "ap_if = network.WLAN(network.AP_IF)\n",
    "#ap_if.ifconfig([my_ip, my_mask, my_gw, my_dns])\n",
    "\n",
    "my_ssid = 'upy_%s_%s' %(my_sn, sta_ip)\n",
    "#ap_if.config(essid = my_ssid)#改ssid，馬上生效\n",
    "ap_if.config(essid=my_ssid, authmode=network.AUTH_WPA_WPA2_PSK, password=\"12345678\")\n",
    "#DHCP 功能micropython預設就有，不用設定\n",
    "#AP的IP，每次重開都會回到預設值，因此需要開機時就設定\n",
    "#一般是配給AP ip的下一號ip\n",
    "\n",
    "\n",
    "import socket\n",
    "from machine import Pin\n",
    "from machine import PWM\n",
    "import dht\n",
    "#from hcsr04 import HCSR04\n",
    "\n",
    "\n",
    "# PIN Define:\n",
    "D0 = 16\n",
    "D1 = 5  #PWM\n",
    "D2 = 4  #PWM\n",
    "D3 = 0  #PWM\n",
    "D4 = 2  #PWM, #Led on board\n",
    "D5 = 14 #PWM\n",
    "D6 = 12 #PWM\n",
    "D7 = 13 #PWM\n",
    "D8 = 15 #PWM\n",
    "\n",
    "#Setup PINS\n",
    "led = machine.Pin(5, machine.Pin.OUT)\n",
    "\n",
    "\n",
    "# th_sensor\n",
    "th_sensor = dht.DHT11(Pin(14))\n",
    "\n",
    "\n",
    "#Setup Socket WebServer\n",
    "s = socket.socket(socket.AF_INET, socket.SOCK_STREAM)\n",
    "s.bind(('0.0.0.0', 80))\n",
    "s.listen(5)\n",
    "while True:\n",
    "    conn, addr = s.accept()\n",
    "    print(\"Got a connection from %s\" % str(addr))\n",
    "    request = conn.recv(1024)\n",
    "    print(\"Content = %s\" % str(request))\n",
    "\n",
    "    request = str(request)\n",
    "    led_on = request.find('GET /?LED=ON')\n",
    "    led_off = request.find('GET /?LED=OFF')\n",
    "    th_sensor_read = request.find('GET /?th_sensor=read')\n",
    "\n",
    "\n",
    "    if led_on >= 0:\n",
    "        print('TURN Led ON')\n",
    "        led.value(0)\n",
    "    if led_off >= 0:\n",
    "        print('TURN Led OFF')\n",
    "        led.value(1)\n",
    "   \n",
    "\n",
    "    my_t = None\n",
    "    my_h = None\n",
    "    if th_sensor_read >= 0:\n",
    "        print('th_sensor read')\n",
    "        th_sensor.measure()    \n",
    "        my_t = th_sensor.temperature()  \n",
    "        my_h = th_sensor.humidity()\n",
    "        print('T=', th_sensor.temperature())\n",
    "        print('H=', th_sensor.humidity())\n",
    "\n",
    "    f = open('webtool.html')\n",
    "\n",
    "    while(1):\n",
    "        html = f.read(1024)\n",
    "\n",
    "        if my_t:\n",
    "            html = html.replace('T=?', 'T={}{}C'.format(my_t,'\\u00b0'))\n",
    "        else:\n",
    "            html = html.replace('T=?', '')\n",
    "        if my_h:\n",
    "            html = html.replace('H=?', 'H={}{}'.format(my_h,'%'))\n",
    "        else:\n",
    "            html = html.replace('H=?', '')\n",
    "        #conn.send(html)\n",
    "        conn.sendall(html) #改用send all就不會有資料傳一半的問題\n",
    "        if(len(html)<=0):\n",
    "            break\n",
    "    f.close()\n",
    "    conn.close()"
   ]
  },
  {
   "cell_type": "code",
   "execution_count": 11,
   "metadata": {},
   "outputs": [
    {
     "name": "stdout",
     "output_type": "stream",
     "text": [
      "Sent 39 lines (789 bytes) to webtool.html.\n"
     ]
    }
   ],
   "source": [
    "%sendtofile webtool.html\n",
    "<!DOCTYPE html>\n",
    "<html>\n",
    "<head> <title>upy webserver</title> </head>\n",
    "<center><h2>upy webserver</h2></center>\n",
    "<h3>\n",
    "webREPL: <a href=\"http://micropython.org/webrepl/\" target=\"_blank\">webrepl</a>\n",
    "<br>\n",
    "Doc: <a href=\"https://docs.micropython.org/en/latest/esp8266/esp8266/quickref.html\" target=\"_blank\">Quick reference</a>\n",
    "</h3>\n",
    "<hr>\n",
    "\n",
    "<form>\n",
    "<b>LED (D4):</b><br>\n",
    "<button name=\"LED\" value=\"ON\" type=\"submit\">ON</button><br>\n",
    "<button name=\"LED\" value=\"OFF\" type=\"submit\">OFF</button><br>\n",
    "</form>\n",
    "\n",
    "<form>\n",
    "<b>T/H sensor (D1):</b><br>\n",
    "<button name=\"th_sensor\" value=\"read\" type=\"submit\">Read</button><br>\n",
    "T=?degree\n",
    "H=?unit\n",
    "</form>\n",
    "\n",
    "<hr>\n",
    "GPIO Info. :<br>\n",
    "<pre>\n",
    "D0 = 16\n",
    "D1 = 5  #PWM\n",
    "D2 = 4  #PWM\n",
    "D3 = 0  #PWM\n",
    "D4 = 2  #PWM, #Led on board\n",
    "D5 = 14 #PWM\n",
    "D6 = 12 #PWM\n",
    "D7 = 13 #PWM\n",
    "D8 = 15 #PWM\n",
    "</pre>\n",
    "\n",
    "</html>"
   ]
  },
  {
   "cell_type": "code",
   "execution_count": 12,
   "metadata": {},
   "outputs": [
    {
     "name": "stdout",
     "output_type": "stream",
     "text": [
      "Sent 1 lines (13 bytes) to webrepl_cfg.py.\n"
     ]
    }
   ],
   "source": [
    "%sendtofile webrepl_cfg.py\n",
    "PASS = '1234'"
   ]
  },
  {
   "cell_type": "markdown",
   "metadata": {},
   "source": [
    "## 取得 IP"
   ]
  },
  {
   "cell_type": "code",
   "execution_count": 16,
   "metadata": {},
   "outputs": [],
   "source": [
    "import network\n",
    "import time"
   ]
  },
  {
   "cell_type": "code",
   "execution_count": 17,
   "metadata": {},
   "outputs": [],
   "source": [
    "sta = network.WLAN(network.STA_IF)\n",
    "sta.active(True)"
   ]
  },
  {
   "cell_type": "code",
   "execution_count": 18,
   "metadata": {},
   "outputs": [
    {
     "name": "stdout",
     "output_type": "stream",
     "text": [
      "True\r\n"
     ]
    }
   ],
   "source": [
    "SSID='informatics'\n",
    "KEY='0953313123'\n",
    "sta.active(True)\n",
    "print(sta.active())\n",
    "sta.connect(SSID,KEY)"
   ]
  },
  {
   "cell_type": "code",
   "execution_count": 19,
   "metadata": {},
   "outputs": [
    {
     "name": "stdout",
     "output_type": "stream",
     "text": [
      "True\n",
      "('192.168.43.121', '255.255.255.0', '192.168.43.254', '120.118.253.1')\n"
     ]
    }
   ],
   "source": [
    "print(sta.isconnected())\n",
    "for i in range(20):\n",
    "    time.sleep(0.5)\n",
    "    if sta.isconnected():\n",
    "        break\n",
    "print(sta.ifconfig())"
   ]
  },
  {
   "cell_type": "code",
   "execution_count": 20,
   "metadata": {},
   "outputs": [
    {
     "name": "stdout",
     "output_type": "stream",
     "text": [
      "normal repl mode not detected b'\\r\\nMicroPython v1.10-8-g8b7039d7d on 2019-01-26; ESP module with ESP8266\\r\\nType \"help()\" for more information.\\r\\n>>> \\r\\n>>> \\r\\nPYB: soft reWebREPL daemon started on ws://192.168.4.1:8266\\r\\nWebREPL daemon started on ws://192.168.43.121:8266\\r\\nStarted webrepl in normal mode\\r\\n'\n",
      "not command mode\n",
      "\n",
      "[\\r\\x01] b\"ap config here!\\r\\n('ap_config:', 'informatics\\\\n0953313123')\\r\\nline to:  ('informati\"cs', '0953313123')\n",
      "connected!  -->  ('192.168.43.121', '255.255.255.0', '192.168.43.254', '120.118.253.1')\n",
      "#8 ets_task(4020f508, 29, 3fff8fc8, 10)\n",
      "\u001b[31m[Timed out waiting for recognizable response]\n",
      "\u001b[0m"
     ]
    }
   ],
   "source": [
    "%rebootdevice"
   ]
  },
  {
   "cell_type": "markdown",
   "metadata": {},
   "source": [
    "## 在瀏覽器上輸入 nodemcu 所取得之 IP"
   ]
  },
  {
   "cell_type": "code",
   "execution_count": null,
   "metadata": {},
   "outputs": [],
   "source": []
  }
 ],
 "metadata": {
  "kernelspec": {
   "display_name": "MicroPython - USB",
   "language": "micropython",
   "name": "micropython"
  },
  "language_info": {
   "codemirror_mode": "python",
   "file_extension": ".py",
   "mimetype": "text/python",
   "name": "micropython"
  }
 },
 "nbformat": 4,
 "nbformat_minor": 2
}
