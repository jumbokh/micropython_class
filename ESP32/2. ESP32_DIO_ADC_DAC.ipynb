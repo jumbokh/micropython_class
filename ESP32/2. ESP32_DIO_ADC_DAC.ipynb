{
 "cells": [
  {
   "cell_type": "markdown",
   "metadata": {},
   "source": [
    "## LED 閃爍控制"
   ]
  },
  {
   "cell_type": "code",
   "execution_count": 1,
   "metadata": {},
   "outputs": [
    {
     "name": "stdout",
     "output_type": "stream",
     "text": [
      "\u001b[34mConnecting to --port=COM5 --baud=115200 \u001b[0m\n",
      "\u001b[34mReady.\n",
      "\u001b[0m"
     ]
    }
   ],
   "source": [
    "%serialconnect to --port COM5"
   ]
  },
  {
   "cell_type": "markdown",
   "metadata": {},
   "source": [
    "![LED ESP32](images/led_esp32.png)"
   ]
  },
  {
   "cell_type": "code",
   "execution_count": 2,
   "metadata": {},
   "outputs": [
    {
     "name": "stdout",
     "output_type": "stream",
     "text": [
      ".."
     ]
    }
   ],
   "source": [
    "from machine import Pin\n",
    "import time\n",
    "\n",
    "p0 = Pin(2, Pin.OUT)    # create output pin on GPIO2\n",
    "for i in range(5):\n",
    "    p0.on()                 # set pin to \"on\" (high) level\n",
    "    time.sleep(1)\n",
    "    p0.off()                # set pin to \"off\" (low) level\n",
    "    time.sleep(1)\n",
    "p0.value(1)             # set pin to on/high"
   ]
  },
  {
   "cell_type": "code",
   "execution_count": 3,
   "metadata": {},
   "outputs": [],
   "source": [
    "# 關掉 p0\n",
    "p0.value(0)"
   ]
  },
  {
   "cell_type": "code",
   "execution_count": 4,
   "metadata": {},
   "outputs": [
    {
     "name": "stdout",
     "output_type": "stream",
     "text": [
      "\u001b[34mattempt to exit paste mode\n",
      "\u001b[0m\u001b[34m[\\r\\x03\\x02] \u001b[0mb'\\r\\nMicroPython v1.11-611-g7f24c2977 on 2019-12-02; ESP32 module with ESP32\\r\\nType \"help()\" for more information.\\r\\n>>> '\u001b[34m\n",
      "Closing serial Serial<id=0x2cb7b7515c8, open=True>(port='COM5', baudrate=115200, bytesize=8, parity='N', stopbits=1, timeout=0.5, xonxoff=False, rtscts=False, dsrdtr=False)\n",
      "\u001b[0m"
     ]
    }
   ],
   "source": [
    "%disconnect"
   ]
  },
  {
   "cell_type": "markdown",
   "metadata": {},
   "source": [
    "## LED + 按鈕控制"
   ]
  },
  {
   "cell_type": "markdown",
   "metadata": {},
   "source": [
    "![LED+按鈕](images/led_sw_esp32.png)"
   ]
  },
  {
   "cell_type": "code",
   "execution_count": null,
   "metadata": {},
   "outputs": [],
   "source": [
    "%serialconnect to --port COM5"
   ]
  },
  {
   "cell_type": "code",
   "execution_count": null,
   "metadata": {},
   "outputs": [],
   "source": [
    "from machine import Pin\n",
    "\n",
    "led = Pin(2, Pin.OUT)    # 設定 LED 接腳為 GPIO2 且為輸出\n",
    "sw = Pin(0, Pin.IN)      # 設定 按鈕 接腳為 GPIO0 且為輸入\n",
    "\n",
    "while True:\n",
    "    val = sw.value()     # 讀取按鈕狀態\n",
    "    led.value(val)"
   ]
  },
  {
   "cell_type": "code",
   "execution_count": null,
   "metadata": {},
   "outputs": [],
   "source": [
    "%disconnect"
   ]
  },
  {
   "cell_type": "markdown",
   "metadata": {},
   "source": [
    "## LED 切換開關"
   ]
  },
  {
   "cell_type": "code",
   "execution_count": 1,
   "metadata": {},
   "outputs": [
    {
     "name": "stdout",
     "output_type": "stream",
     "text": [
      "\u001b[34mConnecting to --port=COM4 --baud=115200 \u001b[0m\n",
      "MicroPython v1.11-571-g7e374d231 on 2019-11-09; ESP32 module with ESP32\n",
      "Type \"help()\" for more information.\n",
      ">>>[reboot detected 0]repl is in normal command mode\n",
      "[\\r\\x03\\x03] b'\\r\\n>>> '\n",
      "[\\r\\x01] b'\\r\\n>>> \\r\\nraw REPL; CTRL-B to exit\\r\\n>' \u001b[34mReady.\n",
      "\u001b[0m"
     ]
    }
   ],
   "source": [
    "# 接線同上一個範例\n",
    "%serialconnect to --port COM4"
   ]
  },
  {
   "cell_type": "code",
   "execution_count": null,
   "metadata": {},
   "outputs": [],
   "source": [
    "from machine import Pin\n",
    "\n",
    "toggle = 1 # 儲存開關狀態，預設: 高電位\n",
    "\n",
    "led = Pin(2, Pin.OUT)    # 設定 LED 接腳為 GPIO2 且為輸出\n",
    "sw = Pin(0, Pin.IN)      # 設定 按鈕 接腳為 GPIO0 且為輸入\n",
    "\n",
    "while True:\n",
    "    if sw.value == 0:    # 如果開關被按下\n",
    "        toggle = not toggle # 取開關狀態變數為反向值\n",
    "        led.value(toggle)   # 設定 LED 狀態\n",
    "        while sw.value() == 0: # 若開關一直被按著\n",
    "            pass               # 什麼事都不做"
   ]
  },
  {
   "cell_type": "code",
   "execution_count": null,
   "metadata": {},
   "outputs": [],
   "source": [
    "# 不儲存開關狀態\n",
    "from machine import Pin\n",
    "\n",
    "led = Pin(2, Pin.OUT)    # 設定 LED 接腳為 GPIO2 且為輸出\n",
    "sw = Pin(0, Pin.IN)      # 設定 按鈕 接腳為 GPIO0 且為輸入\n",
    "\n",
    "while True:\n",
    "    if sw.value == 0:    # 如果開關被按下\n",
    "        led.value(not led.value())   # 設定 LED 狀態\n",
    "        while sw.value() == 0: # 若開關一直被按著\n",
    "            pass               # 什麼事都不做"
   ]
  },
  {
   "cell_type": "markdown",
   "metadata": {},
   "source": [
    "## 解決按鈕開關彈跳問題\n",
    "#### [參考](http://andrew-workshop.blogspot.com/2015/05/lab-button-debouncing.html)"
   ]
  },
  {
   "cell_type": "markdown",
   "metadata": {},
   "source": [
    "![按鈕](images/Different%20views%20of%20button%20signals.png)"
   ]
  },
  {
   "cell_type": "code",
   "execution_count": null,
   "metadata": {},
   "outputs": [],
   "source": [
    "# 解決彈跳問題\n",
    "import time\n",
    "from machine import Pin\n",
    "\n",
    "led = Pin(2, Pin.OUT)    # 設定 LED 接腳為 GPIO2 且為輸出\n",
    "sw = Pin(0, Pin.IN)      # 設定 按鈕 接腳為 GPIO0 且為輸入\n",
    "\n",
    "while True:\n",
    "    if sw.value == 0:    # 如果開關被按下\n",
    "        time.sleep_ms(20)   # 先暫停 20ms\n",
    "        led.value(not led.value())   # 設定 LED 狀態\n",
    "        while sw.value() == 0: # 若開關一直被按著\n",
    "            pass               # 什麼事都不做"
   ]
  },
  {
   "cell_type": "code",
   "execution_count": null,
   "metadata": {},
   "outputs": [],
   "source": [
    "%disconnect"
   ]
  },
  {
   "cell_type": "markdown",
   "metadata": {},
   "source": [
    "## AnalogRead+PWM控制LED明亮程度\n",
    "#### [參考](https://www.wolfaiottw.com/pmw%E6%8E%A7%E5%88%B6led%E6%98%8E%E4%BA%AE%E7%A8%8B%E5%BA%A6/)"
   ]
  },
  {
   "cell_type": "code",
   "execution_count": 5,
   "metadata": {},
   "outputs": [
    {
     "name": "stdout",
     "output_type": "stream",
     "text": [
      "\u001b[34mConnecting to --port=COM5 --baud=115200 \u001b[0m\n",
      "\u001b[34mReady.\n",
      "\u001b[0m"
     ]
    }
   ],
   "source": [
    "%serialconnect to --port COM5"
   ]
  },
  {
   "cell_type": "code",
   "execution_count": 6,
   "metadata": {},
   "outputs": [
    {
     "name": "stdout",
     "output_type": "stream",
     "text": [
      "..\u001b[34m\n",
      "\n",
      "*** Sending Ctrl-C\n",
      "\n",
      "\u001b[0m"
     ]
    },
    {
     "name": "stderr",
     "output_type": "stream",
     "text": [
      "Traceback (most recent call last):\n",
      "  File \"<stdin>\", line 13, in <module>\n",
      "KeyboardInterrupt: \n"
     ]
    }
   ],
   "source": [
    "# 以腳位的 PWM 控制LED明亮度\n",
    "# Complete project details at https://RandomNerdTutorials.com\n",
    "\n",
    "from machine import Pin, PWM\n",
    "from time import sleep\n",
    "\n",
    "frequency = 5000\n",
    "led = PWM(Pin(2), frequency)\n",
    "\n",
    "while True:\n",
    "  for duty_cycle in range(0, 1024):\n",
    "    led.duty(duty_cycle)\n",
    "    sleep(0.005)"
   ]
  },
  {
   "cell_type": "code",
   "execution_count": 7,
   "metadata": {},
   "outputs": [
    {
     "name": "stdout",
     "output_type": "stream",
     "text": [
      "\u001b[34mattempt to exit paste mode\n",
      "\u001b[0m\u001b[34m[\\r\\x03\\x02] \u001b[0mb'\\r\\nMicroPython v1.11-611-g7f24c2977 on 2019-12-02; ESP32 module with ESP32\\r\\nType \"help()\" for more information.\\r\\n>>> '\u001b[34m\n",
      "Closing serial Serial<id=0x2cb7b80edc8, open=True>(port='COM5', baudrate=115200, bytesize=8, parity='N', stopbits=1, timeout=0.5, xonxoff=False, rtscts=False, dsrdtr=False)\n",
      "\u001b[0m"
     ]
    }
   ],
   "source": [
    "%disconnect"
   ]
  },
  {
   "cell_type": "markdown",
   "metadata": {},
   "source": [
    "## 可變電阻的類比輸入\n",
    "#### 如果您使用的ESP8266芯片的輸入電壓範圍為0V至1V，則需要確保A0引腳上的輸入電壓不超過1V。因此，您需要一個分壓器電路，如下所示。"
   ]
  },
  {
   "cell_type": "markdown",
   "metadata": {},
   "source": [
    "![分壓電路](images/ESP-ADC-A0.png)"
   ]
  },
  {
   "cell_type": "markdown",
   "metadata": {},
   "source": [
    "### 我們使用100歐姆和220歐姆的電阻，因此Vout為1V。"
   ]
  },
  {
   "cell_type": "markdown",
   "metadata": {},
   "source": [
    "![分壓電路公式](images/voltage-divider-equation.png)"
   ]
  },
  {
   "cell_type": "markdown",
   "metadata": {},
   "source": [
    "![32s ADC](images/nodemcu-32s-adc.png)\n",
    "#### [Nodemcu 32s 教材](http://www.1zlab.com/wiki/micropython-esp32/adc/)"
   ]
  },
  {
   "cell_type": "markdown",
   "metadata": {},
   "source": [
    "## 設置衰減比¶\n",
    "#### 衰減器在功能上和放大器相反，放大器提供大於1的增益，衰減器提供小於1的增益。原理上衰減器由簡單的分壓電路組成。\n",
    "\n",
    "#### ADC採樣有兩個重要的參數，一個是滿量程電壓是多少，顯然不可能超過ESP32的管腳電壓3.3v. 可以設定0-3.3v之間的一個值。\n",
    "\n",
    "#### 巨集定義\t   數值\t滿量程電壓\n",
    "#### ADC.ATTN_0DB\t0\t1.2v\n",
    "#### ADC.ATTN_2_5DB\t1\t1.5v\n",
    "#### ADC.ATTN_6DB\t2\t2.0v\n",
    "#### ADC.ATTN_11DB\t3\t3.3v\n"
   ]
  },
  {
   "cell_type": "markdown",
   "metadata": {},
   "source": [
    "## 設置解析度\n",
    "#### ADC的解析度是指能夠將採集的類比信號轉化為數位信號的精度，通常我們用“位”來表述，比如8位就是指ADC可以將制定量程內的電壓信號，分別對應到0 - 2^8-1,即 0-255這256個數字上。解析度位數越高，能夠表示的也就越精確，資訊丟失的也就越少。\n",
    "\n",
    "#### 再舉個例子，如果解析度是10位，那麼ADC採樣的取值範圍就是0 - 1023.\n",
    "\n",
    "#### 1023 = 2^10 - 1\n"
   ]
  },
  {
   "cell_type": "markdown",
   "metadata": {},
   "source": [
    "#### 巨集定義\t數值\t解析度\n",
    "#### ADC.WIDTH_9BIT\t0\t9\n",
    "#### ADC.WIDTH_10BIT\t1\t10\n",
    "#### ADC.WIDTH_11BIT\t2\t11\n",
    "#### ADC.WIDTH_12BIT\t3\t12\n",
    "#### 如: adc.width(ADC.WIDTH_10BIT)"
   ]
  },
  {
   "cell_type": "code",
   "execution_count": null,
   "metadata": {},
   "outputs": [],
   "source": [
    "%serialconnect to --port COM4"
   ]
  },
  {
   "cell_type": "code",
   "execution_count": null,
   "metadata": {},
   "outputs": [],
   "source": [
    "from machine import ADC\n",
    "\n",
    "adc = ADC(Pin(32))          # 在ADC引腳上創建ADC物件\n",
    "adc.read()                  # 讀取測量值, 0-4095 表示電壓從 0.0v - 1.0v\n",
    "\n",
    "adc.atten(ADC.ATTN_11DB)    # 設置 11dB 衰減輸入 (測量電壓大致從 0.0v - 3.6v)\n",
    "adc.width(ADC.WIDTH_9BIT)   # 設置 9位 精度輸出 (返回值 0-511)\n",
    "print(adc.read())           # 獲取重新配置後的測量值"
   ]
  },
  {
   "cell_type": "code",
   "execution_count": null,
   "metadata": {},
   "outputs": [],
   "source": [
    "%disconnect"
   ]
  },
  {
   "cell_type": "markdown",
   "metadata": {},
   "source": [
    "![PWM](images/led_p5.png)"
   ]
  },
  {
   "cell_type": "markdown",
   "metadata": {},
   "source": []
  },
  {
   "cell_type": "markdown",
   "metadata": {},
   "source": [
    "![ESP32 VR Flow](images/esp32_vr_flow.png)"
   ]
  },
  {
   "cell_type": "markdown",
   "metadata": {},
   "source": [
    "![接線圖](images/interacting-with-GPIOs-ESP32_bb.png)\n",
    "#### Note: the ESP32 supports analog reading in several GPIOs: \n",
    "#### 0, 2, 4, 12, 13, 14, 15, 25, 26, 27 32, 33, 34, 35, 36, and 39."
   ]
  },
  {
   "cell_type": "code",
   "execution_count": null,
   "metadata": {},
   "outputs": [],
   "source": [
    "%serialconnect to --port COM4"
   ]
  },
  {
   "cell_type": "code",
   "execution_count": null,
   "metadata": {},
   "outputs": [],
   "source": [
    "# Complete project details at https://RandomNerdTutorials.com\n",
    "# Created by Rui Santos\n",
    "\n",
    "from machine import Pin, ADC, PWM\n",
    "from time import sleep\n",
    "\n",
    "led = Pin(2, Pin.OUT)\n",
    "button = Pin(15, Pin.IN)\n",
    "\n",
    "#Configure ADC for ESP32\n",
    "pot = ADC(Pin(34))\n",
    "pot.width(ADC.WIDTH_10BIT)\n",
    "pot.atten(ADC.ATTN_11DB)\n",
    "\n",
    "#Configure ADC for ESP8266\n",
    "#pot = ADC(0)\n",
    "\n",
    "led_pwm = PWM(Pin(4),5000)\n",
    "\n",
    "while True:\n",
    "  button_state = button.value()\n",
    "  led.value(button_state)\n",
    "\n",
    "  pot_value = pot.read()\n",
    "  led_pwm.duty(pot_value)\n",
    "\n",
    "  sleep(0.1)"
   ]
  },
  {
   "cell_type": "code",
   "execution_count": null,
   "metadata": {},
   "outputs": [],
   "source": [
    "%disconnect"
   ]
  },
  {
   "cell_type": "markdown",
   "metadata": {},
   "source": [
    "## DAC 類比數位轉換器\n",
    "### DAC是什麼¶\n",
    "#### DAC 英文全稱為Digital Analog Converter，是將數位信號轉換為類比信號的轉換器。 這裡主要對比DAC與PWM，DAC輸出的是類比信號，PWM輸出的是數位信號。 DAC也可以控制LED亮度，而且亮度範圍更精細，因為DAC的輸出電壓是連續可變的，DAC控制LED也不存在PWM控制LED亮度那樣的頻閃問題，DAC可以實現比PWM更高精度的控制。另外PWM可以通過濾波器實現低精度的DAC功能。\n",
    "\n",
    "#### DAC在專用引腳上可用，可用的DAC引腳只有兩個。 可用引腳有：GPIO25, GPIO26，輸出的電壓類比值範圍為0~3.3V\n"
   ]
  },
  {
   "cell_type": "markdown",
   "metadata": {},
   "source": [
    "![DAC pins](images/dac-pins.png)"
   ]
  },
  {
   "cell_type": "code",
   "execution_count": null,
   "metadata": {},
   "outputs": [],
   "source": [
    "%serialconnect to --port COM4"
   ]
  },
  {
   "cell_type": "code",
   "execution_count": null,
   "metadata": {},
   "outputs": [],
   "source": [
    "from machine import DAC\n",
    "from machine import Pin\n",
    "import utime, math\n",
    "\n",
    "\n",
    "dac = DAC(Pin(26,Pin.OUT), bits=12)\n",
    "\n",
    "def pulse(dac, period, gears):\n",
    "    \"\"\"呼吸燈函數\n",
    "\n",
    "    Arguments:\n",
    "        dac {[DAC]} -- [DAC物件]\n",
    "        period {[type]} -- [週期 ms]\n",
    "        gears {[type]} -- [亮度檔位]\n",
    "    \"\"\"\n",
    "\n",
    "    for i in range(2 * gears):\n",
    "        dac.write(int(math.sin(i / gears * math.pi) * 2000) + 2048)\n",
    "        # 延時\n",
    "        utime.sleep_ms(int(period / (2 * gears)))\n",
    "\n",
    "# 呼吸十次\n",
    "for i in range(10):\n",
    "    pulse(dac, 2000, 100)\n"
   ]
  },
  {
   "cell_type": "code",
   "execution_count": null,
   "metadata": {},
   "outputs": [],
   "source": [
    "%disconnect"
   ]
  }
 ],
 "metadata": {
  "kernelspec": {
   "display_name": "MicroPython - USB",
   "language": "micropython",
   "name": "micropython"
  },
  "language_info": {
   "codemirror_mode": "python",
   "file_extension": ".py",
   "mimetype": "text/python",
   "name": "micropython"
  }
 },
 "nbformat": 4,
 "nbformat_minor": 2
}
