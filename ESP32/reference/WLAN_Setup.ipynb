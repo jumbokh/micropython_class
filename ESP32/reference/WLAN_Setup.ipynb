{
 "cells": [
  {
   "cell_type": "code",
   "execution_count": 27,
   "metadata": {},
   "outputs": [
    {
     "name": "stdout",
     "output_type": "stream",
     "text": [
      "\u001b[34mConnecting to --port=COM5 --baud=115200 \u001b[0m\n",
      "\u001b[34mReady.\n",
      "\u001b[0m"
     ]
    }
   ],
   "source": [
    "%serialconnect to --port COM5"
   ]
  },
  {
   "cell_type": "code",
   "execution_count": 28,
   "metadata": {},
   "outputs": [],
   "source": [
    "import network\n",
    "import time"
   ]
  },
  {
   "cell_type": "code",
   "execution_count": 29,
   "metadata": {},
   "outputs": [
    {
     "name": "stdout",
     "output_type": "stream",
     "text": [
      "True\r\n"
     ]
    }
   ],
   "source": [
    "sta = network.WLAN(network.STA_IF)\n",
    "print(sta.active())"
   ]
  },
  {
   "cell_type": "code",
   "execution_count": 30,
   "metadata": {},
   "outputs": [
    {
     "name": "stdout",
     "output_type": "stream",
     "text": [
      "True\r\n"
     ]
    }
   ],
   "source": [
    "SSID='jumboext'\n",
    "KEY='0953313123'\n",
    "sta.active(True)\n",
    "print(sta.active())\n",
    "sta.connect(SSID,KEY)"
   ]
  },
  {
   "cell_type": "code",
   "execution_count": 31,
   "metadata": {},
   "outputs": [
    {
     "name": "stdout",
     "output_type": "stream",
     "text": [
      "True\n",
      "('192.168.1.108', '255.255.255.0', '192.168.1.1', '192.168.1.1')\n"
     ]
    }
   ],
   "source": [
    "print(sta.isconnected())\n",
    "for i in range(20):\n",
    "    time.sleep(0.5)\n",
    "    if sta.isconnected():\n",
    "        break\n",
    "print(sta.ifconfig())"
   ]
  },
  {
   "cell_type": "code",
   "execution_count": 32,
   "metadata": {},
   "outputs": [
    {
     "name": "stdout",
     "output_type": "stream",
     "text": [
      "[(b'A9F-5', b'\\x84\\xadX9\\xc7\\x10', 1, -78, 4, 0), (b'DIRECT-SSLAPTOP-B5V34Q0NmssW', b'\\x92\\xc5\\xf21\\x10c', 1, -88, 3, 0), (b'CHT-10-5_Ext', b'\\x98\\xda\\xc4\\x8a\\xb5-', 1, -25, 3, 0), (b'jumboext', b'\\xf4(Sd\\xb5\\x1b', 1, -75, 3, 0), (b'fa6277', b'\\xd8\\xfe\\xe3\\\\8\\xbf', 1, -92, 3, 0), (b'CHT-10-5', b'\\xd8\\xfe\\xe3\\\\\\xb4\\xca', 1, -74, 3, 0), (b'WANG HOME', b'd\\t\\x80{\\x1a\\x93', 6, -92, 4, 0), (b'hinet-525', b'\\xd8\\xfe\\xe3\\xa3LP', 10, -90, 3, 0), (b'heyi', b',\\xfd\\xa1\\x08\\x0fp', 11, -83, 3, 0)]\r\n"
     ]
    }
   ],
   "source": [
    "print(sta.scan())"
   ]
  },
  {
   "cell_type": "code",
   "execution_count": 33,
   "metadata": {},
   "outputs": [
    {
     "name": "stdout",
     "output_type": "stream",
     "text": [
      "SSID \t\t\t\t Channel \t\t\t dbm\n",
      "A9F-5 \t\t\t\t 1 \t\t\t -80\n",
      "CHT-10-5_Ext \t\t\t\t 1 \t\t\t -25\n",
      "CHT-10-5 \t\t\t\t 1 \t\t\t -68\n",
      "jumboext \t\t\t\t 1 \t\t\t -75\n",
      "DIRECT-SSLAPTOP-B5V34Q0NmssW \t\t\t\t 1 \t\t\t -88\n",
      "CHT692-10F1 \t\t\t\t 2 \t\t\t -91\n",
      "hinet-525 \t\t\t\t 10 \t\t\t -92\n",
      "heyi \t\t\t\t 11 \t\t\t -84\n",
      "fa6277 \t\t\t\t 1 \t\t\t -92\n",
      "('192.168.1.108', '255.255.255.0', '192.168.1.1', '192.168.1.1')\n"
     ]
    }
   ],
   "source": [
    "nets = sta.scan()\n",
    "print('SSID','\\t\\t\\t\\t','Channel','\\t\\t\\t','dbm')\n",
    "for net in nets:\n",
    "    #print(net)\n",
    "    ssid = net[0].decode('ascii')\n",
    "    channel = net[2]\n",
    "    dbm = net[3]\n",
    "    print(ssid,'\\t\\t\\t\\t',channel,'\\t\\t\\t',dbm)\n",
    "#    ssid,sec,channel,db,n1,n2 = net\n",
    "#    if net.ssid == SSID:\n",
    "#        print('Network found!')\n",
    "#        wlan.connect(net.ssid, auth=(net.sec, KEY), timeout=5000)\n",
    "#        while not wlan.isconnected():\n",
    "#            machine.idle() # save power while waiting\n",
    "#        print('WLAN connection succeeded!')\n",
    "#        break\n",
    "print(sta.ifconfig())"
   ]
  },
  {
   "cell_type": "code",
   "execution_count": 34,
   "metadata": {},
   "outputs": [
    {
     "name": "stdout",
     "output_type": "stream",
     "text": [
      "\u001b[34mattempt to exit paste mode\n",
      "\u001b[0m\u001b[34m[\\r\\x03\\x02] \u001b[0mb'\\r\\nMicroPython v1.11-8-g48dcbbe60 on 2019-05-29; ESP module with ESP8266\\r\\nType \"help()\" for more information.\\r\\n>>> '\u001b[34m\n",
      "Closing serial Serial<id=0xc5aca30, open=True>(port='COM5', baudrate=115200, bytesize=8, parity='N', stopbits=1, timeout=0.5, xonxoff=False, rtscts=False, dsrdtr=False)\n",
      "\u001b[0m"
     ]
    }
   ],
   "source": [
    "%disconnect"
   ]
  },
  {
   "cell_type": "code",
   "execution_count": null,
   "metadata": {},
   "outputs": [],
   "source": []
  }
 ],
 "metadata": {
  "kernelspec": {
   "display_name": "MicroPython - USB",
   "language": "micropython",
   "name": "micropython"
  },
  "language_info": {
   "codemirror_mode": "python",
   "file_extension": ".py",
   "mimetype": "text/python",
   "name": "micropython"
  }
 },
 "nbformat": 4,
 "nbformat_minor": 2
}
