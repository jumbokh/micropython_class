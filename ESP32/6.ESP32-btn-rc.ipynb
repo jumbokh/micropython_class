{
 "cells": [
  {
   "cell_type": "code",
   "execution_count": 2,
   "metadata": {},
   "outputs": [
    {
     "name": "stdout",
     "output_type": "stream",
     "text": [
      "\u001b[34mConnecting to --port=COM4 --baud=115200 \u001b[0m\n",
      "MicroPython v1.11-611-g7f24c2977 on 2019-12-02; ESP32 module with ESP32\n",
      "Type \"help()\" for more information.\n",
      ">>>[reboot detected 0]repl is in normal command mode\n",
      "[\\r\\x03\\x03] b'\\r\\n>>> '\n",
      "[\\r\\x01] b'\\r\\n>>> \\r\\nraw REPL; CTRL-B to exit\\r\\n>' \u001b[34mReady.\n",
      "\u001b[0m"
     ]
    }
   ],
   "source": [
    "%serialconnect to --port COM4 --baud 115200"
   ]
  },
  {
   "cell_type": "markdown",
   "metadata": {},
   "source": [
    "![按鈕](images/esp32-btn-rc_bb.jpg)"
   ]
  },
  {
   "cell_type": "code",
   "execution_count": 4,
   "metadata": {},
   "outputs": [
    {
     "name": "stdout",
     "output_type": "stream",
     "text": [
      ".....................\u001b[34m\n",
      "\n",
      "*** Sending Ctrl-C\n",
      "\n",
      "\u001b[0m"
     ]
    },
    {
     "name": "stderr",
     "output_type": "stream",
     "text": [
      "Traceback (most recent call last):\n",
      "  File \"<stdin>\", line 10, in <module>\n",
      "KeyboardInterrupt: \n"
     ]
    }
   ],
   "source": [
    "'''\n",
    "按鈕接入 (10)\n",
    "'''\n",
    "from machine import Pin\n",
    "import time\n",
    "\n",
    "p2 = Pin(2, Pin.OUT) # LED: (GPIO2)\n",
    "button = Pin(10, Pin.IN, Pin.PULL_UP)\n",
    "while True:\n",
    "    if not button.value():\n",
    "        p2.value(1)\n",
    "    else:\n",
    "        p2.value(0)"
   ]
  },
  {
   "cell_type": "code",
   "execution_count": 6,
   "metadata": {},
   "outputs": [
    {
     "name": "stdout",
     "output_type": "stream",
     "text": [
      ".Button pressed!\n",
      "Button released!\n",
      "Button pressed!\n",
      "Button released!\n",
      ".Button pressed!\n",
      "Button released!\n",
      "Button pressed!\n",
      "Button released!\n",
      "Button pressed!\n",
      "Button released!\n",
      "Button pressed!\n",
      "Button released!\n",
      "Button pressed!\n",
      ".Button released!\n",
      "Button released!\n",
      "Button pressed!\n",
      "Button released!\n",
      "\u001b[34m\n",
      "\n",
      "*** Sending Ctrl-C\n",
      "\n",
      "\u001b[0m"
     ]
    },
    {
     "name": "stderr",
     "output_type": "stream",
     "text": [
      "Traceback (most recent call last):\n",
      "  File \"<stdin>\", line 7, in <module>\n",
      "KeyboardInterrupt: \n"
     ]
    }
   ],
   "source": [
    "from machine import Pin\n",
    "import time\n",
    "button = Pin(10, Pin.IN, Pin.PULL_UP)\n",
    "while True:\n",
    "    first = button.value()\n",
    "    time.sleep(0.01)\n",
    "    second = button.value()\n",
    "    if first and not second:\n",
    "        print('Button pressed!')\n",
    "    elif not first and second:\n",
    "        print('Button released!')"
   ]
  },
  {
   "cell_type": "markdown",
   "metadata": {},
   "source": [
    "### 練習：\n",
    "* 按鈕按下去時，點亮 LED燈\n",
    "* 按鈕放開時，熄滅 LED燈"
   ]
  },
  {
   "cell_type": "code",
   "execution_count": 8,
   "metadata": {},
   "outputs": [],
   "source": [
    "%disconnect"
   ]
  },
  {
   "cell_type": "code",
   "execution_count": null,
   "metadata": {},
   "outputs": [],
   "source": []
  }
 ],
 "metadata": {
  "kernelspec": {
   "display_name": "MicroPython - USB",
   "language": "micropython",
   "name": "micropython"
  },
  "language_info": {
   "codemirror_mode": "python",
   "file_extension": ".py",
   "mimetype": "text/python",
   "name": "micropython"
  }
 },
 "nbformat": 4,
 "nbformat_minor": 2
}
