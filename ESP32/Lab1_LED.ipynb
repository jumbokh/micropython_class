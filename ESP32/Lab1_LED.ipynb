{
 "cells": [
  {
   "cell_type": "code",
   "execution_count": 1,
   "metadata": {},
   "outputs": [
    {
     "name": "stdout",
     "output_type": "stream",
     "text": [
      "\u001b[34mConnecting to --port=COM5 --baud=115200 \u001b[0m\n",
      "\u001b[34mReady.\n",
      "\u001b[0m"
     ]
    }
   ],
   "source": [
    "%serialconnect to --port=COM5 --baud=115200\n",
    "#%websocketconnect --password 1234 ws://192.168.43.144:8266"
   ]
  },
  {
   "cell_type": "code",
   "execution_count": 2,
   "metadata": {},
   "outputs": [
    {
     "name": "stdout",
     "output_type": "stream",
     "text": [
      "(sysname='esp32', nodename='esp32', release='1.11.0', version='v1.11-611-g7f24c2977 on 2019-12-02', machine='ESP32 module with ESP32')\r\n"
     ]
    }
   ],
   "source": [
    "import uos\n",
    "print(uos.uname())"
   ]
  },
  {
   "cell_type": "code",
   "execution_count": 3,
   "metadata": {},
   "outputs": [
    {
     "name": "stdout",
     "output_type": "stream",
     "text": [
      "['boot.py']\r\n"
     ]
    }
   ],
   "source": [
    "import os\n",
    "print(os.listdir())"
   ]
  },
  {
   "cell_type": "markdown",
   "metadata": {},
   "source": [
    "![ESP-32s](images/esp32s.jpg)\n",
    "*\n",
    "![Lab1_接線圖](images/Lab1_led_bb.jpg)"
   ]
  },
  {
   "cell_type": "code",
   "execution_count": 4,
   "metadata": {},
   "outputs": [
    {
     "name": "stdout",
     "output_type": "stream",
     "text": [
      "."
     ]
    }
   ],
   "source": [
    "'''\n",
    "測試Nodemcu板子上的LED\n",
    "其 pin 腳為 2\n",
    "'''\n",
    "from machine import Pin\n",
    "import time\n",
    "\n",
    "p2 = Pin(2, Pin.OUT)\n",
    "\n",
    "for i in range(3):\n",
    "    p2.value(0)\n",
    "    time.sleep(1)\n",
    "    p2.value(1)\n",
    "    time.sleep(1)"
   ]
  },
  {
   "cell_type": "code",
   "execution_count": null,
   "metadata": {},
   "outputs": [],
   "source": [
    "'''\n",
    "測試連接麵包板上的LED燈\n",
    "其 pin 腳為 D1 (5)\n",
    "'''\n",
    "from machine import Pin\n",
    "import time\n",
    "\n",
    "p2 = Pin(5, Pin.OUT)\n",
    "\n",
    "for i in range(3):\n",
    "    p2.value(0)\n",
    "    time.sleep(1)\n",
    "    p2.value(1)\n",
    "    time.sleep(1)\n",
    "p2.value(0)"
   ]
  },
  {
   "cell_type": "code",
   "execution_count": 5,
   "metadata": {},
   "outputs": [
    {
     "name": "stdout",
     "output_type": "stream",
     "text": [
      "\u001b[34mattempt to exit paste mode\n",
      "\u001b[0m\u001b[34m[\\r\\x03\\x02] \u001b[0mb'\\r\\nMicroPython v1.11-611-g7f24c2977 on 2019-12-02; ESP32 module with ESP32\\r\\nType \"help()\" for more information.\\r\\n>>> '\u001b[34m\n",
      "Closing serial Serial<id=0x13731db3908, open=True>(port='COM5', baudrate=115200, bytesize=8, parity='N', stopbits=1, timeout=0.5, xonxoff=False, rtscts=False, dsrdtr=False)\n",
      "\u001b[0m"
     ]
    }
   ],
   "source": [
    "%disconnect"
   ]
  },
  {
   "cell_type": "code",
   "execution_count": null,
   "metadata": {},
   "outputs": [],
   "source": []
  }
 ],
 "metadata": {
  "kernelspec": {
   "display_name": "MicroPython - USB",
   "language": "micropython",
   "name": "micropython"
  },
  "language_info": {
   "codemirror_mode": "python",
   "file_extension": ".py",
   "mimetype": "text/python",
   "name": "micropython"
  }
 },
 "nbformat": 4,
 "nbformat_minor": 2
}
