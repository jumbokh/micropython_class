{
 "cells": [
  {
   "cell_type": "markdown",
   "metadata": {},
   "source": [
    "## Nodemcu ESP32 重建 Micropython Kernel"
   ]
  },
  {
   "cell_type": "code",
   "execution_count": 1,
   "metadata": {},
   "outputs": [
    {
     "name": "stdout",
     "output_type": "stream",
     "text": [
      "\u001b[34mExecuting:\n",
      "  esptool --port COM4 erase_flash\n",
      "\n",
      "\u001b[0mesptool.py v2.8\n",
      "Serial port COM4\n",
      "Connecting....\n",
      "\u001b[34m[Press the PRG button now if required]\n",
      "\u001b[0mDetecting chip type... ESP32\n",
      "Chip is ESP32D0WDQ5 (revision 1)\n",
      "Features: WiFi, BT, Dual Core, 240MHz, VRef calibration in efuse, Coding Scheme None\n",
      "Crystal is 40MHz\n",
      "MAC: c8:2b:96:a2:1c:58\n",
      "Uploading stub...\n",
      "Running stub...\n",
      "Stub running...\n",
      "Erasing flash (this may take a while)...\n",
      "Chip erase completed successfully in 8.9s\n",
      "Hard resetting via RTS pin...\n"
     ]
    }
   ],
   "source": [
    "%esptool --port COM4 erase"
   ]
  },
  {
   "cell_type": "code",
   "execution_count": 23,
   "metadata": {},
   "outputs": [
    {
     "name": "stdout",
     "output_type": "stream",
     "text": [
      "\u001b[31m\n",
      "\n",
      "***Connection broken [None]\n",
      "\u001b[0mYou may need to reconnect\u001b[34m\n",
      "Closing serial Serial<id=0x155744bcc08, open=True>(port='COM4', baudrate=115200, bytesize=8, parity='N', stopbits=1, timeout=0.5, xonxoff=False, rtscts=False, dsrdtr=False)\n",
      "\u001b[0m\u001b[34mExecuting:\n",
      "  esptool --port com4 --chip esp32 write_flash -z 0x1000 esp32-idf3-20191202-v1.11-611-g7f24c2977.bin\n",
      "\n",
      "\u001b[0mesptool.py v2.8\n",
      "Serial port com4\n",
      "Connecting....\n",
      "\u001b[34m[Press the PRG button now if required]\n",
      "\u001b[0mChip is ESP32D0WDQ5 (revision 1)\n",
      "Features: WiFi, BT, Dual Core, 240MHz, VRef calibration in efuse, Coding Scheme None\n",
      "Crystal is 40MHz\n",
      "MAC: c8:2b:96:a2:1c:58\n",
      "Uploading stub...\n",
      "Running stub...\n",
      "Stub running...\n",
      "Configuring flash size...\n",
      "Auto-detected Flash size: 4MB\n",
      "Compressed 1240112 bytes to 783162...\n",
      "Wrote 1240112 bytes (783162 compressed) at 0x00001000 in 69.8 seconds (effective 142.2 kbit/s)...\n",
      "Hash of data verified.\n",
      "\n",
      "Leaving...\n",
      "Hard resetting via RTS pin...\n"
     ]
    }
   ],
   "source": [
    "%esptool --port com4 esp32 esp32-idf3-20191202-v1.11-611-g7f24c2977.bin"
   ]
  },
  {
   "cell_type": "code",
   "execution_count": 24,
   "metadata": {},
   "outputs": [
    {
     "name": "stdout",
     "output_type": "stream",
     "text": [
      "\u001b[34mConnecting to --port=COM4 --baud=115200 \u001b[0m\n",
      "MicroPython v1.11-611-g7f24c2977 on 2019-12-02; ESP32 module with ESP32\n",
      "Type \"help()\" for more information.\n",
      ">>>[reboot detected 0]repl is in normal command mode\n",
      "[\\r\\x03\\x03] b'\\r\\n>>> '\n",
      "[\\r\\x01] b'\\r\\n>>> \\r\\nraw REPL; CTRL-B to exit\\r\\n>' \u001b[34mReady.\n",
      "\u001b[0m"
     ]
    }
   ],
   "source": [
    "%serialconnect to --port COM4"
   ]
  },
  {
   "cell_type": "code",
   "execution_count": 25,
   "metadata": {},
   "outputs": [
    {
     "name": "stdout",
     "output_type": "stream",
     "text": [
      "['boot.py']\r\n"
     ]
    }
   ],
   "source": [
    "import os \n",
    "print(os.listdir())"
   ]
  },
  {
   "cell_type": "code",
   "execution_count": 26,
   "metadata": {},
   "outputs": [
    {
     "name": "stdout",
     "output_type": "stream",
     "text": [
      "\u001b[34mattempt to exit paste mode\n",
      "\u001b[0m\u001b[34m[\\r\\x03\\x02] \u001b[0mb'\\r\\nMicroPython v1.11-611-g7f24c2977 on 2019-12-02; ESP32 module with ESP32\\r\\nType \"help()\" for more information.\\r\\n>>> '\u001b[34m\n",
      "Closing serial Serial<id=0x155744c5788, open=True>(port='COM4', baudrate=115200, bytesize=8, parity='N', stopbits=1, timeout=0.5, xonxoff=False, rtscts=False, dsrdtr=False)\n",
      "\u001b[0m"
     ]
    }
   ],
   "source": [
    "%disconnect"
   ]
  },
  {
   "cell_type": "markdown",
   "metadata": {},
   "source": [
    "## 無線網路設定"
   ]
  },
  {
   "cell_type": "code",
   "execution_count": 27,
   "metadata": {},
   "outputs": [
    {
     "name": "stdout",
     "output_type": "stream",
     "text": [
      "\u001b[34mConnecting to --port=COM4 --baud=115200 \u001b[0m\n",
      " Pro cpu up.\u001b[0m\n",
      "MicroPython v1.11-611-g7f24c2977 on 2019-12-02; ESP32 module with ESP32\n",
      "Type \"help()\" for more information.\n",
      ">>>[reboot detected 0]repl is in normal command mode\n",
      "[\\r\\x03\\x03] b'\\r\\n>>> '\n",
      "[\\r\\x01] b'\\r\\n>>> \\r\\nraw REPL; CTRL-B to exit\\r\\n>' \u001b[34mReady.\n",
      "\u001b[0m"
     ]
    }
   ],
   "source": [
    "%serialconnect to --port COM4"
   ]
  },
  {
   "cell_type": "code",
   "execution_count": 28,
   "metadata": {},
   "outputs": [],
   "source": [
    "import network\n",
    "import time"
   ]
  },
  {
   "cell_type": "code",
   "execution_count": 29,
   "metadata": {},
   "outputs": [
    {
     "name": "stdout",
     "output_type": "stream",
     "text": [
      "True\r\n"
     ]
    }
   ],
   "source": [
    "sta = network.WLAN(network.STA_IF)\n",
    "print(sta.active(True))"
   ]
  },
  {
   "cell_type": "code",
   "execution_count": 30,
   "metadata": {},
   "outputs": [
    {
     "name": "stdout",
     "output_type": "stream",
     "text": [
      "SSID \t\t\t\t Channel \t\t\t dbm\n",
      "informatics \t\t\t\t 7 \t\t\t -54\n",
      "802.1x_CSU \t\t\t\t 1 \t\t\t -86\n",
      "TANetRoaming \t\t\t\t 1 \t\t\t -86\n",
      "WAVELAN_CSU \t\t\t\t 1 \t\t\t -87\n",
      "802.1x_CSU \t\t\t\t 11 \t\t\t -92\n",
      "WAVELAN_CSU \t\t\t\t 11 \t\t\t -92\n",
      "TANetRoaming \t\t\t\t 11 \t\t\t -94\n"
     ]
    }
   ],
   "source": [
    "nets = sta.scan()\n",
    "print('SSID','\\t\\t\\t\\t','Channel','\\t\\t\\t','dbm')\n",
    "for net in nets:\n",
    "    #print(net)\n",
    "    ssid = net[0].decode('ascii')\n",
    "    channel = net[2]\n",
    "    dbm = net[3]\n",
    "    print(ssid,'\\t\\t\\t\\t',channel,'\\t\\t\\t',dbm)"
   ]
  },
  {
   "cell_type": "code",
   "execution_count": 33,
   "metadata": {},
   "outputs": [
    {
     "name": "stdout",
     "output_type": "stream",
     "text": [
      "True\r\n"
     ]
    }
   ],
   "source": [
    "SSID='informatics'\n",
    "KEY='0953313123'\n",
    "print(sta.active())\n",
    "sta.connect(SSID,KEY)"
   ]
  },
  {
   "cell_type": "code",
   "execution_count": 34,
   "metadata": {},
   "outputs": [
    {
     "name": "stdout",
     "output_type": "stream",
     "text": [
      "c8:2b:96:a2:1c:58\n",
      "('192.168.43.157', '255.255.255.0', '192.168.43.254', '120.118.253.1')\n"
     ]
    }
   ],
   "source": [
    "import network\n",
    "import ubinascii\n",
    "mac = ubinascii.hexlify(sta.config('mac'),':').decode()\n",
    "print(mac)\n",
    "print(sta.ifconfig())"
   ]
  },
  {
   "cell_type": "code",
   "execution_count": 35,
   "metadata": {},
   "outputs": [
    {
     "name": "stdout",
     "output_type": "stream",
     "text": [
      "True\n",
      "('192.168.43.157', '255.255.255.0', '192.168.43.254', '120.118.253.1')\n"
     ]
    }
   ],
   "source": [
    "print(sta.isconnected())\n",
    "for i in range(20):\n",
    "    time.sleep(0.5)\n",
    "    if sta.isconnected():\n",
    "        break\n",
    "print(sta.ifconfig())"
   ]
  },
  {
   "cell_type": "code",
   "execution_count": 36,
   "metadata": {},
   "outputs": [
    {
     "name": "stdout",
     "output_type": "stream",
     "text": [
      "Sent 2 lines (22 bytes) to ap.txt.\n"
     ]
    }
   ],
   "source": [
    "%sendtofile ap.txt\n",
    "informatics\n",
    "0953313123"
   ]
  },
  {
   "cell_type": "code",
   "execution_count": 37,
   "metadata": {},
   "outputs": [
    {
     "name": "stdout",
     "output_type": "stream",
     "text": [
      "repl is in normal command mode\n",
      "[\\r\\x03\\x03] b'\\r\\nMicroPython v1.11-611-g7f24c2977 on 2019-12-02; ESP32 module with ESP32\\r\\nType \"help()\" for more information.\\r\\n>>> \\r\\n>>> \\r\\nMPY: soft reboot\\r\\nMicroPython v1.11-611-g7f24c2977 on 2019-12-02; ESP32 module with ESP32\\r\\nType \"help()\" for more information.\\r\\n>>> \\r\\n>>> \\r\\n>>> '\n",
      "[\\r\\x01] b'\\r\\n>>> \\r\\nraw REPL; CTRL-B to exit\\r\\n>'"
     ]
    }
   ],
   "source": [
    "%rebootdevice"
   ]
  },
  {
   "cell_type": "code",
   "execution_count": null,
   "metadata": {},
   "outputs": [],
   "source": []
  }
 ],
 "metadata": {
  "kernelspec": {
   "display_name": "MicroPython - USB",
   "language": "micropython",
   "name": "micropython"
  },
  "language_info": {
   "codemirror_mode": "python",
   "file_extension": ".py",
   "mimetype": "text/python",
   "name": "micropython"
  }
 },
 "nbformat": 4,
 "nbformat_minor": 2
}
