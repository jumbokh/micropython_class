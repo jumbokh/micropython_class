{
 "cells": [
  {
   "cell_type": "markdown",
   "metadata": {},
   "source": [
    "## Nodemcu ESP32 重建 Micropython Kernel"
   ]
  },
  {
   "cell_type": "code",
   "execution_count": 1,
   "metadata": {},
   "outputs": [
    {
     "name": "stdout",
     "output_type": "stream",
     "text": [
      "\u001b[34mExecuting:\n",
      "  esptool --port COM3 erase_flash\n",
      "\n",
      "\u001b[0mesptool.py v3.0\n",
      "Serial port COM3\n",
      "Connecting.....\n",
      "\u001b[34m[Press the PRG button now if required]\n",
      "\u001b[0mDetecting chip type... ESP32\n",
      "Chip is ESP32-D0WD (revision 1)\n",
      "Features: WiFi, BT, Dual Core, 240MHz, VRef calibration in efuse, Coding Scheme None\n",
      "Crystal is 40MHz\n",
      "MAC: f0:08:d1:77:9d:a0\n",
      "Uploading stub...\n",
      "Running stub...\n",
      "Stub running...\n",
      "Erasing flash (this may take a while)...\n",
      "Chip erase completed successfully in 8.3s\n",
      "Hard resetting via RTS pin...\n"
     ]
    }
   ],
   "source": [
    "%esptool --port COM3 erase"
   ]
  },
  {
   "cell_type": "code",
   "execution_count": 3,
   "metadata": {},
   "outputs": [
    {
     "name": "stdout",
     "output_type": "stream",
     "text": [
      "\u001b[34mExecuting:\n",
      "  esptool --port com3 --chip esp32 write_flash -z 0x1000 esp32-idf3-20201211-unstable-v1.13-248-gf305c62a5.bin\n",
      "\n",
      "\u001b[0mesptool.py v3.0\n",
      "Serial port com3\n",
      "Connecting....\n",
      "\u001b[34m[Press the PRG button now if required]\n",
      "\u001b[0mChip is ESP32-D0WD (revision 1)\n",
      "Features: WiFi, BT, Dual Core, 240MHz, VRef calibration in efuse, Coding Scheme None\n",
      "Crystal is 40MHz\n",
      "MAC: f0:08:d1:77:9d:a0\n",
      "Uploading stub...\n",
      "Running stub...\n",
      "Stub running...\n",
      "Configuring flash size...\n",
      "Compressed 1445552 bytes to 925522...\n",
      "Writing at 0x00001000... (1 %)\n",
      "Writing at 0x00005000... (3 %)\n",
      "Writing at 0x00009000... (5 %)\n",
      "Writing at 0x0000d000... (7 %)\n",
      "Writing at 0x00011000... (8 %)\n",
      "Writing at 0x00015000... (10 %)\n",
      "Writing at 0x00019000... (12 %)\n",
      "Writing at 0x0001d000... (14 %)\n",
      "Writing at 0x00021000... (15 %)\n",
      "Writing at 0x00025000... (17 %)\n",
      "Writing at 0x00029000... (19 %)\n",
      "Writing at 0x0002d000... (21 %)\n",
      "Writing at 0x00031000... (22 %)\n",
      "Writing at 0x00035000... (24 %)\n",
      "Writing at 0x00039000... (26 %)\n",
      "Writing at 0x0003d000... (28 %)\n",
      "Writing at 0x00041000... (29 %)\n",
      "Writing at 0x00045000... (31 %)\n",
      "Writing at 0x00049000... (33 %)\n",
      "Writing at 0x0004d000... (35 %)\n",
      "Writing at 0x00051000... (36 %)\n",
      "Writing at 0x00055000... (38 %)\n",
      "Writing at 0x00059000... (40 %)\n",
      "Writing at 0x0005d000... (42 %)\n",
      "Writing at 0x00061000... (43 %)\n",
      "Writing at 0x00065000... (45 %)\n",
      "Writing at 0x00069000... (47 %)\n",
      "Writing at 0x0006d000... (49 %)\n",
      "Writing at 0x00071000... (50 %)\n",
      "Writing at 0x00075000... (52 %)\n",
      "Writing at 0x00079000... (54 %)\n",
      "Writing at 0x0007d000... (56 %)\n",
      "Writing at 0x00081000... (57 %)\n",
      "Writing at 0x00085000... (59 %)\n",
      "Writing at 0x00089000... (61 %)\n",
      "Writing at 0x0008d000... (63 %)\n",
      "Writing at 0x00091000... (64 %)\n",
      "Writing at 0x00095000... (66 %)\n",
      "Writing at 0x00099000... (68 %)\n",
      "Writing at 0x0009d000... (70 %)\n",
      "Writing at 0x000a1000... (71 %)\n",
      "Writing at 0x000a5000... (73 %)\n",
      "Writing at 0x000a9000... (75 %)\n",
      "Writing at 0x000ad000... (77 %)\n",
      "Writing at 0x000b1000... (78 %)\n",
      "Writing at 0x000b5000... (80 %)\n",
      "Writing at 0x000b9000... (82 %)\n",
      "Writing at 0x000bd000... (84 %)\n",
      "Writing at 0x000c1000... (85 %)\n",
      "Writing at 0x000c5000... (87 %)\n",
      "Writing at 0x000c9000... (89 %)\n",
      "Writing at 0x000cd000... (91 %)\n",
      "Writing at 0x000d1000... (92 %)\n",
      "Writing at 0x000d5000... (94 %)\n",
      "Writing at 0x000d9000... (96 %)\n",
      "Writing at 0x000dd000... (98 %)\n",
      "Writing at 0x000e1000... (100 %)\n",
      "Wrote 1445552 bytes (925522 compressed) at 0x00001000 in 82.5 seconds (effective 140.2 kbit/s)...\n",
      "Hash of data verified.\n",
      "\n",
      "Leaving...\n",
      "Hard resetting via RTS pin...\n"
     ]
    }
   ],
   "source": [
    "%esptool --port com3 esp32 esp32-idf3-20201211-unstable-v1.13-248-gf305c62a5.bin"
   ]
  },
  {
   "cell_type": "code",
   "execution_count": 4,
   "metadata": {},
   "outputs": [
    {
     "name": "stdout",
     "output_type": "stream",
     "text": [
      "\u001b[34mConnecting to --port=COM3 --baud=115200 \u001b[0m\n",
      "MicroPython v1.13-248-gf305c62a5 on 2020-12-11; ESP32 module with ESP32\n",
      "Type \"help()\" for more information.\n",
      ">>>[reboot detected 0]repl is in normal command mode\n",
      "[\\r\\x03\\x03] b'\\r\\n>>> '\n",
      "[\\r\\x01] b'\\r\\n>>> \\r\\nraw REPL; CTRL-B to exit\\r\\n>' \u001b[34mReady.\n",
      "\u001b[0m"
     ]
    }
   ],
   "source": [
    "%serialconnect to --port COM3"
   ]
  },
  {
   "cell_type": "code",
   "execution_count": 5,
   "metadata": {},
   "outputs": [
    {
     "name": "stdout",
     "output_type": "stream",
     "text": [
      "['boot.py']\r\n"
     ]
    }
   ],
   "source": [
    "import os \n",
    "print(os.listdir())"
   ]
  },
  {
   "cell_type": "code",
   "execution_count": null,
   "metadata": {},
   "outputs": [],
   "source": [
    "%disconnect"
   ]
  },
  {
   "cell_type": "markdown",
   "metadata": {},
   "source": [
    "## 無線網路設定"
   ]
  },
  {
   "cell_type": "code",
   "execution_count": null,
   "metadata": {},
   "outputs": [],
   "source": [
    "%serialconnect to --port COM3"
   ]
  },
  {
   "cell_type": "code",
   "execution_count": 6,
   "metadata": {},
   "outputs": [],
   "source": [
    "import network\n",
    "import time"
   ]
  },
  {
   "cell_type": "code",
   "execution_count": 7,
   "metadata": {},
   "outputs": [
    {
     "name": "stdout",
     "output_type": "stream",
     "text": [
      "True\r\n"
     ]
    }
   ],
   "source": [
    "sta = network.WLAN(network.STA_IF)\n",
    "print(sta.active(True))"
   ]
  },
  {
   "cell_type": "code",
   "execution_count": 8,
   "metadata": {},
   "outputs": [
    {
     "name": "stdout",
     "output_type": "stream",
     "text": [
      "SSID \t\t\t\t Channel \t\t\t dbm\n",
      "informatics \t\t\t\t 8 \t\t\t -40\n",
      "lab309 \t\t\t\t 10 \t\t\t -62\n",
      "gigaenergy \t\t\t\t 8 \t\t\t -69\n",
      "405B_2.4G \t\t\t\t 1 \t\t\t -70\n",
      "NKUST-802.1X \t\t\t\t 1 \t\t\t -72\n",
      "NKUST \t\t\t\t 1 \t\t\t -72\n",
      "KUAS \t\t\t\t 1 \t\t\t -73\n",
      "SGTALAB \t\t\t\t 11 \t\t\t -73\n",
      "KUAS \t\t\t\t 11 \t\t\t -74\n",
      "BMWLAB406_2.4GHz \t\t\t\t 11 \t\t\t -74\n",
      "606B_2.4G \t\t\t\t 2 \t\t\t -75\n",
      "NKUST-802.1X \t\t\t\t 11 \t\t\t -76\n",
      "NKUST \t\t\t\t 11 \t\t\t -76\n",
      "DIRECT-ef-HP M254 LaserJet \t\t\t\t 11 \t\t\t -78\n",
      "Bodi-HC \t\t\t\t 1 \t\t\t -80\n",
      "2.4G \t\t\t\t 1 \t\t\t -80\n",
      "NKUST \t\t\t\t 6 \t\t\t -80\n",
      "KUAS \t\t\t\t 1 \t\t\t -81\n",
      "NKUST-802.1X \t\t\t\t 1 \t\t\t -81\n",
      "NKUST \t\t\t\t 1 \t\t\t -82\n",
      "EE307_2.4G \t\t\t\t 11 \t\t\t -82\n",
      "KUAS \t\t\t\t 11 \t\t\t -82\n",
      "BMWLab407 \t\t\t\t 10 \t\t\t -83\n",
      "NKUST \t\t\t\t 11 \t\t\t -83\n",
      "KUAS \t\t\t\t 6 \t\t\t -84\n",
      " Samsung \t\t\t\t 6 \t\t\t -85\n",
      "HPDS_2.4G \t\t\t\t 5 \t\t\t -86\n",
      "NKUST-802.1X \t\t\t\t 6 \t\t\t -86\n",
      "NKUST \t\t\t\t 6 \t\t\t -86\n",
      "NKUST \t\t\t\t 1 \t\t\t -90\n",
      "KUAS \t\t\t\t 1 \t\t\t -92\n",
      "TPS201 \t\t\t\t 6 \t\t\t -93\n",
      "NKUST-802.1X \t\t\t\t 11 \t\t\t -93\n"
     ]
    }
   ],
   "source": [
    "nets = sta.scan()\n",
    "print('SSID','\\t\\t\\t\\t','Channel','\\t\\t\\t','dbm')\n",
    "for net in nets:\n",
    "    #print(net)\n",
    "    ssid = net[0].decode('ascii')\n",
    "    channel = net[2]\n",
    "    dbm = net[3]\n",
    "    print(ssid,'\\t\\t\\t\\t',channel,'\\t\\t\\t',dbm)"
   ]
  },
  {
   "cell_type": "code",
   "execution_count": 9,
   "metadata": {},
   "outputs": [
    {
     "name": "stdout",
     "output_type": "stream",
     "text": [
      "True\r\n"
     ]
    }
   ],
   "source": [
    "SSID='informatics'\n",
    "KEY='0953313123'\n",
    "print(sta.active())\n",
    "sta.connect(SSID,KEY)"
   ]
  },
  {
   "cell_type": "code",
   "execution_count": 10,
   "metadata": {},
   "outputs": [
    {
     "name": "stdout",
     "output_type": "stream",
     "text": [
      "f0:08:d1:77:9d:a0\n",
      "('192.168.0.110', '255.255.255.0', '192.168.0.1', '192.168.0.1')\n"
     ]
    }
   ],
   "source": [
    "import network\n",
    "import ubinascii\n",
    "mac = ubinascii.hexlify(sta.config('mac'),':').decode()\n",
    "print(mac)\n",
    "print(sta.ifconfig())"
   ]
  },
  {
   "cell_type": "code",
   "execution_count": 11,
   "metadata": {},
   "outputs": [
    {
     "name": "stdout",
     "output_type": "stream",
     "text": [
      "True\n",
      "('192.168.0.110', '255.255.255.0', '192.168.0.1', '192.168.0.1')\n"
     ]
    }
   ],
   "source": [
    "print(sta.isconnected())\n",
    "for i in range(20):\n",
    "    time.sleep(0.5)\n",
    "    if sta.isconnected():\n",
    "        break\n",
    "print(sta.ifconfig())"
   ]
  },
  {
   "cell_type": "code",
   "execution_count": null,
   "metadata": {},
   "outputs": [],
   "source": [
    "%sendtofile ap.txt\n",
    "YOUR-SSID\n",
    "YOUR-KEY"
   ]
  },
  {
   "cell_type": "code",
   "execution_count": 13,
   "metadata": {},
   "outputs": [
    {
     "name": "stdout",
     "output_type": "stream",
     "text": [
      "\u001b[34mattempt to exit paste mode\n",
      "\u001b[0m\u001b[34m[\\r\\x03\\x02] \u001b[0mb'\\r\\nMicroPython v1.13-248-gf305c62a5 on 2020-12-11; ESP32 module with ESP32\\r\\nType \"help()\" for more information.\\r\\n>>> '\u001b[34m\n",
      "Closing serial Serial<id=0x14b10f412b0, open=True>(port='COM3', baudrate=115200, bytesize=8, parity='N', stopbits=1, timeout=0.5, xonxoff=False, rtscts=False, dsrdtr=False)\n",
      "\u001b[0m"
     ]
    }
   ],
   "source": [
    "%disconnect"
   ]
  },
  {
   "cell_type": "code",
   "execution_count": null,
   "metadata": {},
   "outputs": [],
   "source": []
  }
 ],
 "metadata": {
  "kernelspec": {
   "display_name": "MicroPython - USB",
   "language": "micropython",
   "name": "micropython"
  },
  "language_info": {
   "codemirror_mode": "python",
   "file_extension": ".py",
   "mimetype": "text/python",
   "name": "micropython"
  }
 },
 "nbformat": 4,
 "nbformat_minor": 2
}
