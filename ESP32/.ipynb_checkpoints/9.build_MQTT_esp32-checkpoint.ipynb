{
 "cells": [
  {
   "cell_type": "markdown",
   "metadata": {},
   "source": [
    "## Nodemcu ESP32 重建 Micropython Kernel"
   ]
  },
  {
   "cell_type": "code",
   "execution_count": 1,
   "metadata": {},
   "outputs": [
    {
     "name": "stdout",
     "output_type": "stream",
     "text": [
      "\u001b[34mExecuting:\n",
      "  esptool --port COM5 erase_flash\n",
      "\n",
      "\u001b[0mesptool.py v2.8\n",
      "Serial port COM5\n",
      "Connecting........_____.....____\n",
      "\u001b[34m[Press the PRG button now if required]\n",
      "\u001b[0mDetecting chip type... ESP32\n",
      "Chip is ESP32D0WDQ6 (revision 1)\n",
      "Features: WiFi, BT, Dual Core, 240MHz, VRef calibration in efuse, Coding Scheme None\n",
      "Crystal is 40MHz\n",
      "MAC: cc:50:e3:80:1f:20\n",
      "Uploading stub...\n",
      "Running stub...\n",
      "Stub running...\n",
      "Erasing flash (this may take a while)...\n",
      "Chip erase completed successfully in 2.9s\n",
      "Hard resetting via RTS pin...\n"
     ]
    }
   ],
   "source": [
    "%esptool --port COM5 erase"
   ]
  },
  {
   "cell_type": "code",
   "execution_count": null,
   "metadata": {},
   "outputs": [
    {
     "name": "stdout",
     "output_type": "stream",
     "text": [
      "\u001b[34mExecuting:\n",
      "  esptool --port com5 --chip esp32 write_flash -z 0x1000 esp32-idf3-20191202-v1.11-611-g7f24c2977.bin\n",
      "\n",
      "\u001b[0mesptool.py v2.8\n",
      "Serial port com5\n",
      "Connecting........___\n",
      "\u001b[34m[Press the PRG button now if required]\n",
      "\u001b[0mChip is ESP32D0WDQ6 (revision 1)\n",
      "Features: WiFi, BT, Dual Core, 240MHz, VRef calibration in efuse, Coding Scheme None\n",
      "Crystal is 40MHz\n",
      "MAC: cc:50:e3:80:1f:20\n",
      "Uploading stub...\n",
      "Running stub...\n",
      "Stub running...\n",
      "Configuring flash size...\n",
      "Auto-detected Flash size: 4MB\n",
      "Compressed 1240112 bytes to 783162...\n"
     ]
    }
   ],
   "source": [
    "#%esptool --port com5 esp32 esp32-idf3-20191209-v1.11-624-g210d05328.bin\n",
    "%esptool --port com5 esp32 esp32-idf3-20191202-v1.11-611-g7f24c2977.bin"
   ]
  },
  {
   "cell_type": "code",
   "execution_count": 35,
   "metadata": {},
   "outputs": [
    {
     "name": "stdout",
     "output_type": "stream",
     "text": [
      "\u001b[34mConnecting to --port=COM4 --baud=115200 \u001b[0m\n",
      "MicroPython v1.11-624-g210d05328 on 2019-12-09; ESP32 module with ESP32\n",
      "Type \"help()\" for more information.\n",
      ">>>[reboot detected 0]repl is in normal command mode\n",
      "[\\r\\x03\\x03] b'\\r\\n>>> '\n",
      "[\\r\\x01] b'\\r\\n>>> \\r\\nraw REPL; CTRL-B to exit\\r\\n>' \u001b[34mReady.\n",
      "\u001b[0m"
     ]
    }
   ],
   "source": [
    "%serialconnect to --port COM4"
   ]
  },
  {
   "cell_type": "code",
   "execution_count": 36,
   "metadata": {},
   "outputs": [
    {
     "name": "stdout",
     "output_type": "stream",
     "text": [
      "['boot.py']\r\n"
     ]
    }
   ],
   "source": [
    "import os \n",
    "print(os.listdir())"
   ]
  },
  {
   "cell_type": "code",
   "execution_count": 47,
   "metadata": {},
   "outputs": [
    {
     "name": "stdout",
     "output_type": "stream",
     "text": [
      "\u001b[34mattempt to exit paste mode\n",
      "\u001b[0m\u001b[34m[\\r\\x03\\x02] \u001b[0mb'\\r\\nMicroPython v1.11-571-g7e374d231 on 2019-11-09; ESP32 module with ESP32\\r\\nType \"help()\" for more information.\\r\\n>>> '\u001b[34m\n",
      "Closing serial Serial<id=0x28edde56588, open=True>(port='COM4', baudrate=115200, bytesize=8, parity='N', stopbits=1, timeout=0.5, xonxoff=False, rtscts=False, dsrdtr=False)\n",
      "\u001b[0m"
     ]
    }
   ],
   "source": [
    "%disconnect"
   ]
  },
  {
   "cell_type": "markdown",
   "metadata": {},
   "source": [
    "## 無線網路設定"
   ]
  },
  {
   "cell_type": "code",
   "execution_count": 27,
   "metadata": {},
   "outputs": [
    {
     "name": "stdout",
     "output_type": "stream",
     "text": [
      "\u001b[34mConnecting to --port=COM4 --baud=115200 \u001b[0m\n",
      "\n",
      "\u001b[0;32mI (455) cpu_start: Application information:\u001b[0m\n",
      "Connection successful\n",
      "('192.168.43.150', '255.255.255.0', '192.168.43.254', '120.118.253.1')\n",
      "\u001b[31m[Timed out waiting for recognizable response]\n",
      "\u001b[0m\u001b[31mDisconnecting [paste mode not working]\n",
      "\u001b[0m\u001b[34m  (You may need to reset the device)\u001b[0m"
     ]
    }
   ],
   "source": [
    "%serialconnect to --port COM4"
   ]
  },
  {
   "cell_type": "code",
   "execution_count": 37,
   "metadata": {},
   "outputs": [],
   "source": [
    "import network\n",
    "import time"
   ]
  },
  {
   "cell_type": "code",
   "execution_count": 38,
   "metadata": {},
   "outputs": [
    {
     "name": "stdout",
     "output_type": "stream",
     "text": [
      "True\r\n"
     ]
    }
   ],
   "source": [
    "sta = network.WLAN(network.STA_IF)\n",
    "print(sta.active(True))"
   ]
  },
  {
   "cell_type": "code",
   "execution_count": 39,
   "metadata": {},
   "outputs": [
    {
     "name": "stdout",
     "output_type": "stream",
     "text": [
      "SSID \t\t\t\t Channel \t\t\t dbm\n",
      "informatics \t\t\t\t 7 \t\t\t -51\n",
      "WAVELAN_CSU \t\t\t\t 11 \t\t\t -69\n",
      "TANetRoaming \t\t\t\t 11 \t\t\t -69\n",
      "802.1x_CSU \t\t\t\t 11 \t\t\t -71\n",
      "802.1x_CSU \t\t\t\t 1 \t\t\t -74\n",
      "WAVELAN_CSU \t\t\t\t 1 \t\t\t -75\n",
      "TANetRoaming \t\t\t\t 1 \t\t\t -75\n",
      "WAVELAN_CSU \t\t\t\t 1 \t\t\t -86\n",
      "TANetRoaming \t\t\t\t 1 \t\t\t -88\n"
     ]
    }
   ],
   "source": [
    "nets = sta.scan()\n",
    "print('SSID','\\t\\t\\t\\t','Channel','\\t\\t\\t','dbm')\n",
    "for net in nets:\n",
    "    #print(net)\n",
    "    ssid = net[0].decode('ascii')\n",
    "    channel = net[2]\n",
    "    dbm = net[3]\n",
    "    print(ssid,'\\t\\t\\t\\t',channel,'\\t\\t\\t',dbm)"
   ]
  },
  {
   "cell_type": "code",
   "execution_count": 40,
   "metadata": {},
   "outputs": [
    {
     "name": "stdout",
     "output_type": "stream",
     "text": [
      "True\r\n"
     ]
    }
   ],
   "source": [
    "SSID='informatics'\n",
    "KEY='0953313123'\n",
    "print(sta.active())\n",
    "sta.connect(SSID,KEY)"
   ]
  },
  {
   "cell_type": "code",
   "execution_count": 41,
   "metadata": {},
   "outputs": [
    {
     "name": "stdout",
     "output_type": "stream",
     "text": [
      "cc:50:e3:80:1f:20\n",
      "('0.0.0.0', '0.0.0.0', '0.0.0.0', '0.0.0.0')\n"
     ]
    }
   ],
   "source": [
    "import network\n",
    "import ubinascii\n",
    "mac = ubinascii.hexlify(sta.config('mac'),':').decode()\n",
    "print(mac)\n",
    "print(sta.ifconfig())"
   ]
  },
  {
   "cell_type": "code",
   "execution_count": 42,
   "metadata": {},
   "outputs": [
    {
     "name": "stdout",
     "output_type": "stream",
     "text": [
      "True\n",
      "('192.168.43.150', '255.255.255.0', '192.168.43.254', '120.118.253.1')\n"
     ]
    }
   ],
   "source": [
    "print(sta.isconnected())\n",
    "for i in range(20):\n",
    "    time.sleep(0.5)\n",
    "    if sta.isconnected():\n",
    "        break\n",
    "print(sta.ifconfig())"
   ]
  },
  {
   "cell_type": "code",
   "execution_count": 43,
   "metadata": {},
   "outputs": [
    {
     "name": "stdout",
     "output_type": "stream",
     "text": [
      "Sent 2 lines (22 bytes) to ap.txt.\n"
     ]
    }
   ],
   "source": [
    "%sendtofile ap.txt\n",
    "informatics\n",
    "0953313123"
   ]
  },
  {
   "cell_type": "code",
   "execution_count": 56,
   "metadata": {},
   "outputs": [
    {
     "name": "stdout",
     "output_type": "stream",
     "text": [
      "repl is in normal command mode\n",
      "[\\r\\x03\\x03] b'\\r\\nMicroPython v1.11-571-g7e374d231 on 2019-11-09; ESP32 module with ESP32\\r\\nType \"help()\" for more information.\\r\\n>>> \\r\\n>>> \\r\\nMPY: soft reboot\\r\\nMicroPython v1.11-571-g7e374d231 on 2019-11-09; ESP32 module with ESP32\\r\\nType \"help()\" for more information.\\r\\n>>> \\r\\n>>> \\r\\n>>> '\n",
      "[\\r\\x01] b'\\r\\n>>> \\r\\nraw REPL; CTRL-B to exit\\r\\n>'"
     ]
    }
   ],
   "source": [
    "%rebootdevice"
   ]
  },
  {
   "cell_type": "code",
   "execution_count": 44,
   "metadata": {},
   "outputs": [
    {
     "name": "stdout",
     "output_type": "stream",
     "text": [
      "Sent 39 lines (777 bytes) to boot.py.\n"
     ]
    }
   ],
   "source": [
    "%sendtofile boot.py\n",
    "# Complete project details at https://RandomNerdTutorials.com\n",
    "\n",
    "import time\n",
    "from umqttsimple import MQTTClient\n",
    "import ubinascii\n",
    "import machine\n",
    "import micropython\n",
    "import network\n",
    "import esp\n",
    "esp.osdebug(None)\n",
    "import gc\n",
    "gc.collect()\n",
    "\n",
    "ssid = 'informatics'\n",
    "password = '0953313123'\n",
    "mqtt_server = 'gpssensor.ddns.net'\n",
    "#EXAMPLE IP ADDRESS\n",
    "#mqtt_server = '192.168.1.144'\n",
    "client_id = ubinascii.hexlify(machine.unique_id())\n",
    "topic_sub = b'/CSU/RT'\n",
    "topic_pub = b'/CSU/T'\n",
    "topic_sub1 = b'/CSU/RH'\n",
    "topic_pub1 = b'/CSU/H'\n",
    "topic_sub2 = b'/CSU/lamp'\n",
    "\n",
    "last_message = 0\n",
    "message_interval = 5\n",
    "counter = 0\n",
    "\n",
    "station = network.WLAN(network.STA_IF)\n",
    "\n",
    "station.active(True)\n",
    "station.connect(ssid, password)\n",
    "\n",
    "while station.isconnected() == False:\n",
    "  pass\n",
    "\n",
    "print('Connection successful')\n",
    "print(station.ifconfig())"
   ]
  },
  {
   "cell_type": "code",
   "execution_count": 45,
   "metadata": {},
   "outputs": [
    {
     "name": "stdout",
     "output_type": "stream",
     "text": [
      "Sent 71 lines (1832 bytes) to main.py.\n"
     ]
    }
   ],
   "source": [
    "%sendtofile main.py\n",
    "# Complete project details at https://RandomNerdTutorials.com\n",
    "from machine import Pin\n",
    "import dht     \n",
    "import time\n",
    "\n",
    "p5=Pin(5, Pin.IN)\n",
    "d=dht.DHT11(p5)        #建立 DHT11 物件\n",
    "p2 = Pin(2, Pin.OUT)\n",
    "\n",
    "def sub_cb(topic, msg):\n",
    "  print((topic, msg))\n",
    "  if topic == topic_sub:\n",
    "    print('ESP received read T')\n",
    "    T, H = read_TH()\n",
    "    client.publish(topic_pub, str(T))\n",
    "  elif topic == topic_sub1:\n",
    "    T, H = read_TH()\n",
    "    client.publish(topic_pub, str(H))\n",
    "    print('ESP received read H')\n",
    "  elif topic == topic_sub2 and msg == b'ON':\n",
    "    p2.value(1)\n",
    "    print('ESP received Lamp ON')\n",
    "  elif topic == topic_sub2 and msg == b'OFF':\n",
    "    p2.value(0)\n",
    "    print('ESP received Lamp OFF')\n",
    "  \n",
    "  \n",
    "\n",
    "def connect_and_subscribe():\n",
    "  global client_id, mqtt_server, topic_sub\n",
    "  client = MQTTClient(client_id, mqtt_server)\n",
    "  client.set_callback(sub_cb)\n",
    "  client.connect()\n",
    "  client.subscribe(topic_sub)\n",
    "  client.subscribe(topic_sub1)\n",
    "  client.subscribe(topic_sub2)\n",
    "  print('Connected to %s MQTT broker, subscribed to %s topic' % (mqtt_server, topic_sub))\n",
    "  return client\n",
    "\n",
    "def restart_and_reconnect():\n",
    "  print('Failed to connect to MQTT broker. Reconnecting...')\n",
    "  time.sleep(10)\n",
    "  machine.reset()\n",
    "  \n",
    "def read_TH():\n",
    "  print('Measuring....')\n",
    "  d.measure()                  #重新測量溫溼度\n",
    "  time.sleep(0.5)\n",
    "  t=d.temperature()        #讀取攝氏溫度\n",
    "  h=d.humidity()             #讀取相對溼度\n",
    "  print('Temperature=', t, 'C', 'Humidity=', h, '%')\n",
    "  return t,h\n",
    "\n",
    "try:\n",
    "  client = connect_and_subscribe()\n",
    "except OSError as e:\n",
    "  restart_and_reconnect()\n",
    "\n",
    "p5=Pin(5, Pin.IN)\n",
    "d=dht.DHT11(p5)        #建立 DHT11 物件\n",
    "\n",
    "while True:\n",
    "  try:\n",
    "    client.check_msg()\n",
    "    if (time.time() - last_message) > message_interval:\n",
    "      T, H = read_TH()\n",
    "      client.publish(topic_pub, str(T))\n",
    "      client.publish(topic_pub1, str(H))\n",
    "      last_message = time.time()\n",
    "  except OSError as e:\n",
    "    restart_and_reconnect()"
   ]
  },
  {
   "cell_type": "code",
   "execution_count": 46,
   "metadata": {},
   "outputs": [
    {
     "name": "stdout",
     "output_type": "stream",
     "text": [
      "Sent 207 lines (6445 bytes) to umqttsimple.py.\n"
     ]
    }
   ],
   "source": [
    "%sendtofile umqttsimple.py\n",
    "try:\n",
    "    import usocket as socket\n",
    "except:\n",
    "    import socket\n",
    "import ustruct as struct\n",
    "from ubinascii import hexlify\n",
    "\n",
    "class MQTTException(Exception):\n",
    "    pass\n",
    "\n",
    "class MQTTClient:\n",
    "\n",
    "    def __init__(self, client_id, server, port=0, user=None, password=None, keepalive=0,\n",
    "                 ssl=False, ssl_params={}):\n",
    "        if port == 0:\n",
    "            port = 8883 if ssl else 1883\n",
    "        self.client_id = client_id\n",
    "        self.sock = None\n",
    "        self.server = server\n",
    "        self.port = port\n",
    "        self.ssl = ssl\n",
    "        self.ssl_params = ssl_params\n",
    "        self.pid = 0\n",
    "        self.cb = None\n",
    "        self.user = user\n",
    "        self.pswd = password\n",
    "        self.keepalive = keepalive\n",
    "        self.lw_topic = None\n",
    "        self.lw_msg = None\n",
    "        self.lw_qos = 0\n",
    "        self.lw_retain = False\n",
    "\n",
    "    def _send_str(self, s):\n",
    "        self.sock.write(struct.pack(\"!H\", len(s)))\n",
    "        self.sock.write(s)\n",
    "\n",
    "    def _recv_len(self):\n",
    "        n = 0\n",
    "        sh = 0\n",
    "        while 1:\n",
    "            b = self.sock.read(1)[0]\n",
    "            n |= (b & 0x7f) << sh\n",
    "            if not b & 0x80:\n",
    "                return n\n",
    "            sh += 7\n",
    "\n",
    "    def set_callback(self, f):\n",
    "        self.cb = f\n",
    "\n",
    "    def set_last_will(self, topic, msg, retain=False, qos=0):\n",
    "        assert 0 <= qos <= 2\n",
    "        assert topic\n",
    "        self.lw_topic = topic\n",
    "        self.lw_msg = msg\n",
    "        self.lw_qos = qos\n",
    "        self.lw_retain = retain\n",
    "\n",
    "    def connect(self, clean_session=True):\n",
    "        self.sock = socket.socket()\n",
    "        addr = socket.getaddrinfo(self.server, self.port)[0][-1]\n",
    "        self.sock.connect(addr)\n",
    "        if self.ssl:\n",
    "            import ussl\n",
    "            self.sock = ussl.wrap_socket(self.sock, **self.ssl_params)\n",
    "        premsg = bytearray(b\"\\x10\\0\\0\\0\\0\\0\")\n",
    "        msg = bytearray(b\"\\x04MQTT\\x04\\x02\\0\\0\")\n",
    "\n",
    "        sz = 10 + 2 + len(self.client_id)\n",
    "        msg[6] = clean_session << 1\n",
    "        if self.user is not None:\n",
    "            sz += 2 + len(self.user) + 2 + len(self.pswd)\n",
    "            msg[6] |= 0xC0\n",
    "        if self.keepalive:\n",
    "            assert self.keepalive < 65536\n",
    "            msg[7] |= self.keepalive >> 8\n",
    "            msg[8] |= self.keepalive & 0x00FF\n",
    "        if self.lw_topic:\n",
    "            sz += 2 + len(self.lw_topic) + 2 + len(self.lw_msg)\n",
    "            msg[6] |= 0x4 | (self.lw_qos & 0x1) << 3 | (self.lw_qos & 0x2) << 3\n",
    "            msg[6] |= self.lw_retain << 5\n",
    "\n",
    "        i = 1\n",
    "        while sz > 0x7f:\n",
    "            premsg[i] = (sz & 0x7f) | 0x80\n",
    "            sz >>= 7\n",
    "            i += 1\n",
    "        premsg[i] = sz\n",
    "\n",
    "        self.sock.write(premsg, i + 2)\n",
    "        self.sock.write(msg)\n",
    "        #print(hex(len(msg)), hexlify(msg, \":\"))\n",
    "        self._send_str(self.client_id)\n",
    "        if self.lw_topic:\n",
    "            self._send_str(self.lw_topic)\n",
    "            self._send_str(self.lw_msg)\n",
    "        if self.user is not None:\n",
    "            self._send_str(self.user)\n",
    "            self._send_str(self.pswd)\n",
    "        resp = self.sock.read(4)\n",
    "        assert resp[0] == 0x20 and resp[1] == 0x02\n",
    "        if resp[3] != 0:\n",
    "            raise MQTTException(resp[3])\n",
    "        return resp[2] & 1\n",
    "\n",
    "    def disconnect(self):\n",
    "        self.sock.write(b\"\\xe0\\0\")\n",
    "        self.sock.close()\n",
    "\n",
    "    def ping(self):\n",
    "        self.sock.write(b\"\\xc0\\0\")\n",
    "\n",
    "    def publish(self, topic, msg, retain=False, qos=0):\n",
    "        pkt = bytearray(b\"\\x30\\0\\0\\0\")\n",
    "        pkt[0] |= qos << 1 | retain\n",
    "        sz = 2 + len(topic) + len(msg)\n",
    "        if qos > 0:\n",
    "            sz += 2\n",
    "        assert sz < 2097152\n",
    "        i = 1\n",
    "        while sz > 0x7f:\n",
    "            pkt[i] = (sz & 0x7f) | 0x80\n",
    "            sz >>= 7\n",
    "            i += 1\n",
    "        pkt[i] = sz\n",
    "        #print(hex(len(pkt)), hexlify(pkt, \":\"))\n",
    "        self.sock.write(pkt, i + 1)\n",
    "        self._send_str(topic)\n",
    "        if qos > 0:\n",
    "            self.pid += 1\n",
    "            pid = self.pid\n",
    "            struct.pack_into(\"!H\", pkt, 0, pid)\n",
    "            self.sock.write(pkt, 2)\n",
    "        self.sock.write(msg)\n",
    "        if qos == 1:\n",
    "            while 1:\n",
    "                op = self.wait_msg()\n",
    "                if op == 0x40:\n",
    "                    sz = self.sock.read(1)\n",
    "                    assert sz == b\"\\x02\"\n",
    "                    rcv_pid = self.sock.read(2)\n",
    "                    rcv_pid = rcv_pid[0] << 8 | rcv_pid[1]\n",
    "                    if pid == rcv_pid:\n",
    "                        return\n",
    "        elif qos == 2:\n",
    "            assert 0\n",
    "\n",
    "    def subscribe(self, topic, qos=0):\n",
    "        assert self.cb is not None, \"Subscribe callback is not set\"\n",
    "        pkt = bytearray(b\"\\x82\\0\\0\\0\")\n",
    "        self.pid += 1\n",
    "        struct.pack_into(\"!BH\", pkt, 1, 2 + 2 + len(topic) + 1, self.pid)\n",
    "        #print(hex(len(pkt)), hexlify(pkt, \":\"))\n",
    "        self.sock.write(pkt)\n",
    "        self._send_str(topic)\n",
    "        self.sock.write(qos.to_bytes(1, \"little\"))\n",
    "        while 1:\n",
    "            op = self.wait_msg()\n",
    "            if op == 0x90:\n",
    "                resp = self.sock.read(4)\n",
    "                #print(resp)\n",
    "                assert resp[1] == pkt[2] and resp[2] == pkt[3]\n",
    "                if resp[3] == 0x80:\n",
    "                    raise MQTTException(resp[3])\n",
    "                return\n",
    "\n",
    "    # Wait for a single incoming MQTT message and process it.\n",
    "    # Subscribed messages are delivered to a callback previously\n",
    "    # set by .set_callback() method. Other (internal) MQTT\n",
    "    # messages processed internally.\n",
    "    def wait_msg(self):\n",
    "        res = self.sock.read(1)\n",
    "        self.sock.setblocking(True)\n",
    "        if res is None:\n",
    "            return None\n",
    "        if res == b\"\":\n",
    "            raise OSError(-1)\n",
    "        if res == b\"\\xd0\":  # PINGRESP\n",
    "            sz = self.sock.read(1)[0]\n",
    "            assert sz == 0\n",
    "            return None\n",
    "        op = res[0]\n",
    "        if op & 0xf0 != 0x30:\n",
    "            return op\n",
    "        sz = self._recv_len()\n",
    "        topic_len = self.sock.read(2)\n",
    "        topic_len = (topic_len[0] << 8) | topic_len[1]\n",
    "        topic = self.sock.read(topic_len)\n",
    "        sz -= topic_len + 2\n",
    "        if op & 6:\n",
    "            pid = self.sock.read(2)\n",
    "            pid = pid[0] << 8 | pid[1]\n",
    "            sz -= 2\n",
    "        msg = self.sock.read(sz)\n",
    "        self.cb(topic, msg)\n",
    "        if op & 6 == 2:\n",
    "            pkt = bytearray(b\"\\x40\\x02\\0\\0\")\n",
    "            struct.pack_into(\"!H\", pkt, 2, pid)\n",
    "            self.sock.write(pkt)\n",
    "        elif op & 6 == 4:\n",
    "            assert 0\n",
    "\n",
    "    # Checks whether a pending message from server is available.\n",
    "    # If not, returns immediately with None. Otherwise, does\n",
    "    # the same processing as wait_msg.\n",
    "    def check_msg(self):\n",
    "        self.sock.setblocking(False)\n",
    "        return self.wait_msg()"
   ]
  },
  {
   "cell_type": "code",
   "execution_count": 47,
   "metadata": {},
   "outputs": [
    {
     "name": "stdout",
     "output_type": "stream",
     "text": [
      "\u001b[34mattempt to exit paste mode\n",
      "\u001b[0m\u001b[34m[\\r\\x03\\x02] \u001b[0mb'\\r\\nMicroPython v1.11-624-g210d05328 on 2019-12-09; ESP32 module with ESP32\\r\\nType \"help()\" for more information.\\r\\n>>> '\u001b[34m\n",
      "Closing serial Serial<id=0x1e87a935e88, open=True>(port='COM4', baudrate=115200, bytesize=8, parity='N', stopbits=1, timeout=0.5, xonxoff=False, rtscts=False, dsrdtr=False)\n",
      "\u001b[0m"
     ]
    }
   ],
   "source": [
    "%disconnect"
   ]
  },
  {
   "cell_type": "code",
   "execution_count": null,
   "metadata": {},
   "outputs": [],
   "source": []
  }
 ],
 "metadata": {
  "kernelspec": {
   "display_name": "MicroPython - USB",
   "language": "micropython",
   "name": "micropython"
  },
  "language_info": {
   "codemirror_mode": "python",
   "file_extension": ".py",
   "mimetype": "text/python",
   "name": "micropython"
  }
 },
 "nbformat": 4,
 "nbformat_minor": 2
}
