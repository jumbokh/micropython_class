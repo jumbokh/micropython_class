{
 "cells": [
  {
   "cell_type": "code",
   "execution_count": null,
   "metadata": {},
   "outputs": [],
   "source": [
    "'''\n",
    "超音波實驗 材料清單：\n",
    "SRF-04 * 1\n",
    "杜邦線 * 4\n",
    "Trig port: (GPIO1)\n",
    "echo port: (GPIO3)\n",
    "參考： http://yhhuang1966.blogspot.com/2017/09/micropython-on-esp8266-hc-sr04.html\n",
    "'''"
   ]
  },
  {
   "cell_type": "markdown",
   "metadata": {},
   "source": [
    "![超音波腳位](images\\\\esp32-ultrasonic_bb.jpg)"
   ]
  },
  {
   "cell_type": "code",
   "execution_count": 1,
   "metadata": {},
   "outputs": [
    {
     "name": "stdout",
     "output_type": "stream",
     "text": [
      "\u001b[34mConnecting to --port=COM4 --baud=115200 \u001b[0m\n",
      "\u001b[34mReady.\n",
      "\u001b[0m"
     ]
    }
   ],
   "source": [
    "%serialconnect -port COM4"
   ]
  },
  {
   "cell_type": "code",
   "execution_count": 2,
   "metadata": {},
   "outputs": [],
   "source": [
    "from machine import Pin\n",
    "import machine\n",
    "import time"
   ]
  },
  {
   "cell_type": "code",
   "execution_count": 3,
   "metadata": {},
   "outputs": [],
   "source": [
    "echoTimeout = 23200                   #等待截止時間"
   ]
  },
  {
   "cell_type": "code",
   "execution_count": 4,
   "metadata": {},
   "outputs": [],
   "source": [
    "# 將 GPIO1 設成輸出，皆超音波的 Trig 腳\n",
    "trigPin = Pin(1, mode = Pin.OUT)"
   ]
  },
  {
   "cell_type": "code",
   "execution_count": 5,
   "metadata": {},
   "outputs": [],
   "source": [
    "# 將 GPIO3 設成輸入，皆超音波的 echo 腳\n",
    "echoPin = Pin(3, mode = Pin.IN)"
   ]
  },
  {
   "cell_type": "code",
   "execution_count": 6,
   "metadata": {},
   "outputs": [],
   "source": [
    "trigPin.value(0)   #將 Trig 腳，預設成低電位"
   ]
  },
  {
   "cell_type": "code",
   "execution_count": 7,
   "metadata": {},
   "outputs": [],
   "source": [
    "def distance():\n",
    "    trigPin.value(1)\n",
    "    time.sleep(10)\n",
    "    trigPin.value(0)\n",
    "    pulseTime = machine.time_pulse_us(echoPin, 1, echoTimeout)\n",
    "    if pulseTime > 0:\n",
    "        return pulseTime/58   #換算成公分\n",
    "    else:\n",
    "        return pulseTime      #感測錯誤 -1 或 -2"
   ]
  },
  {
   "cell_type": "code",
   "execution_count": null,
   "metadata": {},
   "outputs": [
    {
     "name": "stdout",
     "output_type": "stream",
     "text": [
      "..距離: 156.828  公分\n",
      "..距離: 156.345  公分\n",
      "..距離: 15.7931  公分\n",
      "..距離: 17.4828  公分\n",
      "..距離: 155.948  公分\n"
     ]
    }
   ],
   "source": [
    "while True:\n",
    "    cm = distance()\n",
    "    if cm > 0:\n",
    "        print('距離:', cm, ' 公分')\n",
    "    else:\n",
    "        print('錯誤:',cm)\n",
    "    time.sleep(1)"
   ]
  },
  {
   "cell_type": "code",
   "execution_count": null,
   "metadata": {},
   "outputs": [],
   "source": [
    "%disconnect"
   ]
  }
 ],
 "metadata": {
  "kernelspec": {
   "display_name": "MicroPython - USB",
   "language": "micropython",
   "name": "micropython"
  },
  "language_info": {
   "codemirror_mode": "python",
   "file_extension": ".py",
   "mimetype": "text/python",
   "name": "micropython"
  }
 },
 "nbformat": 4,
 "nbformat_minor": 2
}
