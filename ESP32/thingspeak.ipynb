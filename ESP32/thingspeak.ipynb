{
 "cells": [
  {
   "cell_type": "code",
   "execution_count": 4,
   "metadata": {},
   "outputs": [
    {
     "name": "stdout",
     "output_type": "stream",
     "text": [
      "\u001b[34mConnecting to --port=COM9 --baud=115200 \u001b[0m\n",
      "\u001b[34mReady.\n",
      "\u001b[0m"
     ]
    }
   ],
   "source": [
    "%serialconnect to --port COM9"
   ]
  },
  {
   "cell_type": "markdown",
   "metadata": {},
   "source": [
    "[參考網頁](http://yhhuang1966.blogspot.com/2017/06/micropython-on-esp8266-dht11.html)\n",
    "## 如果要在手機上觀看 ThingSpeak 資料, 可以到 Google Play 下載 ThingView 這個 App"
   ]
  },
  {
   "cell_type": "markdown",
   "metadata": {},
   "source": [
    "## 修改 boot.py，開機時連接無線網路，並取得 IP"
   ]
  },
  {
   "cell_type": "code",
   "execution_count": 5,
   "metadata": {},
   "outputs": [
    {
     "name": "stdout",
     "output_type": "stream",
     "text": [
      "Sent 31 lines (461 bytes) to boot.py.\n"
     ]
    }
   ],
   "source": [
    "%sendtofile boot.py\n",
    "try:\n",
    "  import usocket as socket\n",
    "except:\n",
    "  import socket\n",
    "\n",
    "import network\n",
    "from machine import Pin\n",
    "import dht\n",
    "\n",
    "import esp\n",
    "esp.osdebug(None)\n",
    "\n",
    "import gc\n",
    "gc.collect()\n",
    "\n",
    "ssid = 'informatics'\n",
    "password = '0953313123'\n",
    "\n",
    "station = network.WLAN(network.STA_IF)\n",
    "\n",
    "station.active(True)\n",
    "station.connect(ssid, password)\n",
    "\n",
    "while station.isconnected() == False:\n",
    "  pass\n",
    "\n",
    "print('Connection successful')\n",
    "print(station.ifconfig())\n",
    "\n",
    "#sensor = dht.DHT22(Pin(14))\n",
    "sensor = dht.DHT11(Pin(5))"
   ]
  },
  {
   "cell_type": "markdown",
   "metadata": {},
   "source": [
    "## 測試 1 : 連續測量溫溼度 "
   ]
  },
  {
   "cell_type": "code",
   "execution_count": null,
   "metadata": {},
   "outputs": [
    {
     "name": "stdout",
     "output_type": "stream",
     "text": [
      "Temperature= 28 C Humidity= 41 %\n",
      "Temperature= 28 C Humidity= 42 %\n",
      "Temperature= 28 C Humidity= 42 %\n",
      ".Temperature= 28 C Humidity= 41 %\n",
      "Temperature= 28 C Humidity= 41 %\n",
      ".Temperature= 28 C Humidity= 42 %\n",
      "Temperature= 28 C Humidity= 42 %\n",
      "Temperature= 28 C Humidity= 42 %\n",
      ".Temperature= 28 C Humidity= 42 %\n",
      "Temperature= 28 C Humidity= 42 %\n",
      ".Temperature= 28 C Humidity= 42 %\n",
      "Temperature= 28 C Humidity= 42 %\n",
      "Temperature= 28 C Humidity= 42 %\n",
      ".Temperature= 28 C Humidity= 42 %\n",
      "Temperature= 28 C Humidity= 42 %\n",
      ".Temperature= 28 C Humidity= 42 %\n",
      "Temperature= 28 C Humidity= 42 %\n",
      "Temperature= 28 C Humidity= 42 %\n",
      ".Temperature= 28 C Humidity= 42 %\n",
      "Temperature= 28 C Humidity= 42 %\n",
      ".Temperature= 28 C Humidity= 42 %\n",
      "Temperature= 28 C Humidity= 42 %\n",
      "Temperature= 28 C Humidity= 42 %\n",
      ".Temperature= 28 C Humidity= 43 %\n",
      "Temperature= 28 C Humidity= 43 %\n",
      ".Temperature= 28 C Humidity= 42 %\n",
      "Temperature= 28 C Humidity= 43 %\n",
      "Temperature= 28 C Humidity= 43 %\n",
      ".Temperature= 28 C Humidity= 43 %\n",
      "Temperature= 28 C Humidity= 43 %\n",
      ".Temperature= 28 C Humidity= 43 %\n",
      "Temperature= 28 C Humidity= 43 %\n",
      "Temperature= 28 C Humidity= 43 %\n",
      ".Temperature= 28 C Humidity= 43 %\n",
      "Temperature= 28 C Humidity= 43 %\n",
      ".Temperature= 28 C Humidity= 43 %\n",
      "Temperature= 28 C Humidity= 43 %\n",
      "Temperature= 28 C Humidity= 43 %\n",
      ".Temperature= 28 C Humidity= 43 %\n",
      "Temperature= 28 C Humidity= 43 %\n",
      ".Temperature= 28 C Humidity= 43 %\n",
      "Temperature= 28 C Humidity= 43 %\n",
      "Temperature= 28 C Humidity= 43 %\n",
      ".Temperature= 28 C Humidity= 43 %\n",
      "Temperature= 28 C Humidity= 43 %\n",
      ".Temperature= 28 C Humidity= 43 %\n",
      "Temperature= 28 C Humidity= 43 %\n",
      "Temperature= 28 C Humidity= 43 %\n",
      ".Temperature= 28 C Humidity= 43 %\n",
      "Temperature= 28 C Humidity= 42 %\n",
      ".Temperature= 28 C Humidity= 42 %\n",
      "Temperature= 28 C Humidity= 42 %\n",
      "Temperature= 28 C Humidity= 42 %\n",
      ".Temperature= 28 C Humidity= 42 %\n",
      "Temperature= 28 C Humidity= 42 %\n",
      ".Temperature= 28 C Humidity= 42 %\n",
      "Temperature= 28 C Humidity= 42 %\n",
      "Temperature= 28 C Humidity= 42 %\n",
      ".Temperature= 28 C Humidity= 42 %\n",
      "Temperature= 28 C Humidity= 42 %\n",
      ".Temperature= 28 C Humidity= 42 %\n",
      "Temperature= 28 C Humidity= 42 %\n",
      "Temperature= 27 C Humidity= 42 %\n",
      ".Temperature= 27 C Humidity= 42 %\n",
      "Temperature= 27 C Humidity= 41 %\n",
      ".Temperature= 27 C Humidity= 41 %\n",
      "Temperature= 27 C Humidity= 41 %\n",
      "Temperature= 27 C Humidity= 41 %\n",
      ".Temperature= 27 C Humidity= 41 %\n",
      "Temperature= 27 C Humidity= 41 %\n",
      ".Temperature= 27 C Humidity= 41 %\n",
      "Temperature= 27 C Humidity= 41 %\n",
      "Temperature= 27 C Humidity= 41 %\n",
      ".Temperature= 27 C Humidity= 41 %\n",
      "Temperature= 27 C Humidity= 41 %\n",
      ".Temperature= 27 C Humidity= 41 %\n",
      "Temperature= 27 C Humidity= 41 %\n",
      "Temperature= 27 C Humidity= 41 %\n",
      ".Temperature= 27 C Humidity= 40 %\n",
      "Temperature= 27 C Humidity= 40 %\n",
      ".Temperature= 27 C Humidity= 40 %\n",
      "Temperature= 27 C Humidity= 40 %\n",
      "Temperature= 27 C Humidity= 40 %\n",
      ".Temperature= 27 C Humidity= 40 %\n",
      "Temperature= 27 C Humidity= 40 %\n",
      ".Temperature= 28 C Humidity= 42 %\n",
      "Temperature= 27 C Humidity= 40 %\n",
      "Temperature= 28 C Humidity= 42 %\n",
      ".Temperature= 28 C Humidity= 42 %\n",
      "Temperature= 28 C Humidity= 41 %\n",
      ".Temperature= 28 C Humidity= 41 %\n",
      "Temperature= 28 C Humidity= 41 %\n",
      "Temperature= 28 C Humidity= 41 %\n",
      ".Temperature= 28 C Humidity= 41 %\n",
      "Temperature= 28 C Humidity= 41 %\n",
      ".Temperature= 28 C Humidity= 41 %\n",
      "Temperature= 28 C Humidity= 41 %\n",
      "Temperature= 28 C Humidity= 41 %\n",
      ".Temperature= 28 C Humidity= 41 %\n",
      "Temperature= 28 C Humidity= 41 %\n",
      ".Temperature= 28 C Humidity= 41 %\n",
      "Temperature= 28 C Humidity= 41 %\n",
      "Temperature= 28 C Humidity= 41 %\n",
      ".Temperature= 28 C Humidity= 41 %\n",
      "Temperature= 27 C Humidity= 40 %\n",
      ".Temperature= 28 C Humidity= 41 %\n",
      "Temperature= 28 C Humidity= 41 %\n",
      "Temperature= 28 C Humidity= 41 %\n",
      ".Temperature= 28 C Humidity= 43 %\n",
      "Temperature= 27 C Humidity= 40 %\n",
      ".Temperature= 28 C Humidity= 42 %\n",
      "Temperature= 27 C Humidity= 40 %\n",
      "Temperature= 27 C Humidity= 40 %\n",
      ".Temperature= 27 C Humidity= 40 %\n",
      "Temperature= 27 C Humidity= 40 %\n",
      ".Temperature= 27 C Humidity= 40 %\n",
      "Temperature= 28 C Humidity= 42 %\n",
      "Temperature= 27 C Humidity= 40 %\n",
      ".Temperature= 28 C Humidity= 42 %\n",
      "Temperature= 27 C Humidity= 40 %\n",
      ".Temperature= 27 C Humidity= 40 %\n",
      "Temperature= 27 C Humidity= 40 %\n",
      "Temperature= 27 C Humidity= 40 %\n",
      ".Temperature= 27 C Humidity= 40 %\n",
      "Temperature= 27 C Humidity= 40 %\n",
      ".Temperature= 27 C Humidity= 40 %\n",
      "Temperature= 27 C Humidity= 40 %\n",
      "Temperature= 27 C Humidity= 41 %\n",
      ".Temperature= 27 C Humidity= 41 %\n",
      "Temperature= 27 C Humidity= 41 %\n",
      ".Temperature= 27 C Humidity= 41 %\n",
      "Temperature= 27 C Humidity= 41 %\n",
      "Temperature= 27 C Humidity= 41 %\n",
      ".Temperature= 27 C Humidity= 41 %\n",
      "Temperature= 27 C Humidity= 41 %\n",
      ".Temperature= 27 C Humidity= 41 %\n",
      "Temperature= 27 C Humidity= 41 %\n",
      "Temperature= 27 C Humidity= 41 %\n",
      ".Temperature= 27 C Humidity= 41 %\n",
      "Temperature= 27 C Humidity= 41 %\n",
      ".Temperature= 27 C Humidity= 41 %\n",
      "Temperature= 27 C Humidity= 41 %\n",
      "Temperature= 27 C Humidity= 41 %\n",
      "."
     ]
    }
   ],
   "source": [
    "#%sendtofile main.py\n",
    "from machine import Pin\n",
    "import dht     \n",
    "import time\n",
    "\n",
    "p0=Pin(5, Pin.IN)\n",
    "d=dht.DHT11(p0)        #建立 DHT11 物件\n",
    "\n",
    "while True:\n",
    "    d.measure()                  #重新測量溫溼度\n",
    "    t=d.temperature()        #讀取攝氏溫度\n",
    "    h=d.humidity()             #讀取相對溼度\n",
    "    print('Temperature=', t, 'C', 'Humidity=', h, '%')\n",
    "    time.sleep(2)                  #暫停 2 秒\n"
   ]
  },
  {
   "cell_type": "markdown",
   "metadata": {},
   "source": [
    "## 測試 2 : 將溫濕度記錄在 ThingSpeak 網站"
   ]
  },
  {
   "cell_type": "code",
   "execution_count": 3,
   "metadata": {},
   "outputs": [
    {
     "name": "stdout",
     "output_type": "stream",
     "text": [
      "Sent 22 lines (571 bytes) to main.py.\n"
     ]
    }
   ],
   "source": [
    "%sendtofile main.py\n",
    "#main.py\n",
    "ffrom machine import Pin\n",
    "import dht   \n",
    "import time\n",
    "import urequests \n",
    "\n",
    "p0=Pin(5, Pin.IN)\n",
    "d=dht.DHT11(p0)\n",
    "host='http://api.thingspeak.com'       \n",
    "read_api_key='RNAXB36EELSPQKXN'\n",
    "\n",
    "while True:\n",
    "    d.measure()                 \n",
    "    t=d.temperature()       \n",
    "    f=round(t * 9/5 + 32) \n",
    "    h=d.humidity()\n",
    "    url='%s/update?api_key=%s&field1=%s&field2=%s&field3=%s' %(host, api_key, t, f, h)   \n",
    "    print('Temperature=', t, 'C', '/', f, 'F', 'Humidity=', h, '%')\n",
    "    #print('url=', url)   \n",
    "    r=urequests.get(url)   \n",
    "    print('response=', r.text)\n",
    "    time.sleep(16)   "
   ]
  },
  {
   "cell_type": "code",
   "execution_count": null,
   "metadata": {},
   "outputs": [
    {
     "name": "stdout",
     "output_type": "stream",
     "text": [
      ".urequests.get() exception occurred!\n",
      "..urequests.get() exception occurred!\n",
      "..urequests.get() exception occurred!\n",
      "..urequests.get() exception occurred!\n",
      "."
     ]
    }
   ],
   "source": [
    "#%sendtofile myapp.py\n",
    "#myapp.py\n",
    "import urequests\n",
    "import time\n",
    "\n",
    "host='http://api.thingspeak.com'\n",
    "read_api_key='RNAXB36EELSPQKXN'\n",
    "channel_id='368523'\n",
    "\n",
    "url='%s/channels/%s/feeds/last.json?api_key=%s' \\\n",
    "     %(host, channel_id, read_api_key)\n",
    "\n",
    "while True:\n",
    "    try:\n",
    "        r=urequests.get(url)\n",
    "        print(r.text) \n",
    "        print(r.json()) \n",
    "    except:\n",
    "        print('urequests.get() exception occurred!')\n",
    "    time.sleep(3)\n"
   ]
  },
  {
   "cell_type": "code",
   "execution_count": 6,
   "metadata": {},
   "outputs": [
    {
     "name": "stdout",
     "output_type": "stream",
     "text": [
      "Sent 33 lines (762 bytes) to myapp.py.\n"
     ]
    }
   ],
   "source": [
    "%sendtofile myapp.py\n",
    "#myapp.py\n",
    "import urequests\n",
    "import time\n",
    "\n",
    "host='http://api.thingspeak.com'\n",
    "read_api_key='RNAXB36EELSPQKXN'\n",
    "channel_id='368523'\n",
    "\n",
    "url='%s/channels/%s/feeds/last.json?api_key=%s' \\\n",
    "     %(host, channel_id, read_api_key)\n",
    "\n",
    "while True:\n",
    "    try:\n",
    "        r=urequests.get(url)\n",
    "        print(r.text) \n",
    "        print(r.json()) \n",
    "    except:\n",
    "        print('urequests.get() exception occurred!')\n",
    "    time.sleep(3)\n",
    "\n",
    "\n",
    "url='%s/channels/%s/feeds/last.json?api_key=%s' \\\n",
    "     %(host, channel_id, read_api_key)\n",
    "\n",
    "while True:\n",
    "    try:\n",
    "        r=urequests.get(url)\n",
    "        d=r.json() \n",
    "        print(d['created_at'],d['entry_id'],d['field1'],d['field2'],\n",
    "              d['field3'],d['field4'],d['field5'])\n",
    "    except:\n",
    "        print('urequests.get() exception occurred!')\n",
    "    time.sleep(10)"
   ]
  },
  {
   "cell_type": "markdown",
   "metadata": {},
   "source": [
    "## 測試 3 : 等待 ThingSpeak 更新週期時閃爍 LED"
   ]
  },
  {
   "cell_type": "code",
   "execution_count": 6,
   "metadata": {},
   "outputs": [
    {
     "name": "stdout",
     "output_type": "stream",
     "text": [
      "Sent 31 lines (781 bytes) to main.py.\n"
     ]
    }
   ],
   "source": [
    "%sendtofile main.py\n",
    "from machine import Pin\n",
    "import dht   \n",
    "import time\n",
    "import urequests\n",
    "\n",
    "p0=Pin(5, Pin.IN)\n",
    "p2=Pin(14, Pin.OUT)     \n",
    "d=dht.DHT11(p0)\n",
    "host='http://api.thingspeak.com'\n",
    "api_key='RNAXB36EELSPQKXN'\n",
    "\n",
    "def LED_blink(s):    \n",
    "    for i in range(1,10*s):    \n",
    "        p2.value(1)   \n",
    "        time.sleep_ms(50)        \n",
    "        p2.value(0)\n",
    "        time.sleep_ms(50)    \n",
    "\n",
    "while True:\n",
    "    d.measure()                 \n",
    "    t=d.temperature()       \n",
    "    f=round(t * 9/5 + 32) \n",
    "    h=d.humidity()\n",
    "    url='%s/update?api_key=%s&field1=%s&field2=%s&field3=%s' %(host, api_key, t, f, h)\n",
    "    print('Temperature=', t, 'C', '/', f, 'F', 'Humidity=', h, '%')\n",
    "    try:\n",
    "        r=urequests.get(url)\n",
    "        print('response=', r.text)\n",
    "    except:\n",
    "        print('urequests.get() exception occurred!')\n",
    "    LED_blink(16) "
   ]
  },
  {
   "cell_type": "markdown",
   "metadata": {},
   "source": [
    "![DHT11](images\\\\DHT11.jpg)\n",
    "![接線圖](images\\\\MP_DHT11_bb.jpg)"
   ]
  },
  {
   "cell_type": "code",
   "execution_count": null,
   "metadata": {},
   "outputs": [],
   "source": []
  }
 ],
 "metadata": {
  "kernelspec": {
   "display_name": "MicroPython - USB",
   "language": "micropython",
   "name": "micropython"
  },
  "language_info": {
   "codemirror_mode": "python",
   "file_extension": ".py",
   "mimetype": "text/python",
   "name": "micropython"
  }
 },
 "nbformat": 4,
 "nbformat_minor": 2
}
