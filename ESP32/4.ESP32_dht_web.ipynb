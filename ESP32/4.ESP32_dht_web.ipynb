{
 "cells": [
  {
   "cell_type": "code",
   "execution_count": 18,
   "metadata": {},
   "outputs": [
    {
     "name": "stdout",
     "output_type": "stream",
     "text": [
      "serial exception on close WriteFile failed (PermissionError(13, '裝置無法辨識命令。', None, 22))\n",
      "\u001b[34mConnecting to --port=COM5 --baud=115200 \u001b[0m\n",
      "\u001b[34mReady.\n",
      "\u001b[0m"
     ]
    }
   ],
   "source": [
    "%serialconnect --port COM5"
   ]
  },
  {
   "cell_type": "code",
   "execution_count": 14,
   "metadata": {},
   "outputs": [
    {
     "name": "stdout",
     "output_type": "stream",
     "text": [
      "Sent 2 lines (19 bytes) to ap.txt.\n"
     ]
    }
   ],
   "source": [
    "%sendtofile ap.txt\n",
    "CHT-10-5\n",
    "0953313123"
   ]
  },
  {
   "cell_type": "code",
   "execution_count": 22,
   "metadata": {},
   "outputs": [
    {
     "name": "stdout",
     "output_type": "stream",
     "text": [
      "normal repl mode not detected b'\\r\\nMicroPython v1.10-8-g8b7039d7d on 2019-01-26; ESP module with ESP8266\\r\\nType \"help()\" for more information.\\r\\n>>> \\r\\n>>> \\r\\nPYB: soft rebTraceback (most recent call last):\\r\\n  File \"boot.py\", line 24, in <module>\\r\\nKeyboardInterrupt: \\r\\n'\n",
      "not command mode\n",
      "\u001b[31m[Timed out waiting for recognizable response]\n",
      "\u001b[0m"
     ]
    }
   ],
   "source": [
    "%rebootdevice"
   ]
  },
  {
   "cell_type": "code",
   "execution_count": 19,
   "metadata": {},
   "outputs": [
    {
     "name": "stdout",
     "output_type": "stream",
     "text": [
      "['ap.txt', 'main.py', 'webtool.html', 'gy80.py', 'capture.py', 'quaternions.py', 'telescope_server.py']\r\n"
     ]
    }
   ],
   "source": [
    "import os\n",
    "print(os.listdir())"
   ]
  },
  {
   "cell_type": "code",
   "execution_count": 9,
   "metadata": {},
   "outputs": [
    {
     "name": "stdout",
     "output_type": "stream",
     "text": [
      "# This file is executed on every boot (including wake-boot from deepsleep)\n",
      "#import esp\n",
      "#esp.osdebug(None)\n",
      "import uos, machine\n",
      "#uos.dupterm(None, 1) # disable REPL on UART(0)\n",
      "import gc\n",
      "import webrepl\n",
      "webrepl.start()\n",
      "gc.collect()\n"
     ]
    }
   ],
   "source": [
    "f = open('boot.py')\n",
    "print(f.read())"
   ]
  },
  {
   "cell_type": "code",
   "execution_count": 6,
   "metadata": {},
   "outputs": [
    {
     "name": "stdout",
     "output_type": "stream",
     "text": [
      "('192.168.1.106', '255.255.255.0', '192.168.1.1', '192.168.1.1')\r\n"
     ]
    }
   ],
   "source": [
    "import network\n",
    "sta = network.WLAN(network.STA_IF)\n",
    "sta.active(True)\n",
    "sta.connect('CHT-10-5','0953313123')\n",
    "sta.active()\n",
    "print(sta.ifconfig())"
   ]
  },
  {
   "cell_type": "code",
   "execution_count": 20,
   "metadata": {},
   "outputs": [
    {
     "name": "stdout",
     "output_type": "stream",
     "text": [
      "Sent 31 lines (458 bytes) to boot.py.\n"
     ]
    }
   ],
   "source": [
    "%sendtofile boot.py\n",
    "try:\n",
    "  import usocket as socket\n",
    "except:\n",
    "  import socket\n",
    "\n",
    "import network\n",
    "from machine import Pin\n",
    "import dht\n",
    "\n",
    "import esp\n",
    "esp.osdebug(None)\n",
    "\n",
    "import gc\n",
    "gc.collect()\n",
    "\n",
    "ssid = 'CHT-10-5'\n",
    "password = '0953313123'\n",
    "\n",
    "station = network.WLAN(network.STA_IF)\n",
    "\n",
    "station.active(True)\n",
    "station.connect(ssid, password)\n",
    "\n",
    "while station.isconnected() == False:\n",
    "  pass\n",
    "\n",
    "print('Connection successful')\n",
    "print(station.ifconfig())\n",
    "\n",
    "#sensor = dht.DHT22(Pin(14))\n",
    "sensor = dht.DHT11(Pin(5))"
   ]
  },
  {
   "cell_type": "code",
   "execution_count": 21,
   "metadata": {},
   "outputs": [
    {
     "name": "stdout",
     "output_type": "stream",
     "text": [
      "Sent 79 lines (2186 bytes) to main.py.\n"
     ]
    }
   ],
   "source": [
    "%sendtofile main.py\n",
    "# Complete project details at https://RandomNerdTutorials.com\n",
    "\n",
    "def read_sensor():\n",
    "  global temp, hum\n",
    "  temp = hum = 0\n",
    "  try:\n",
    "    sensor.measure()\n",
    "    temp = sensor.temperature()\n",
    "    hum = sensor.humidity()\n",
    "    if (isinstance(temp, float) and isinstance(hum, float)) or (isinstance(temp, int) and isinstance(hum, int)):\n",
    "      msg = (b'{0:3.1f},{1:3.1f}'.format(temp, hum))\n",
    "\n",
    "      # uncomment for Fahrenheit\n",
    "      #temp = temp * (9/5) + 32.0\n",
    "\n",
    "      hum = round(hum, 2)\n",
    "      return(msg)\n",
    "    else:\n",
    "      return('Invalid sensor readings.')\n",
    "  except OSError as e:\n",
    "    return('Failed to read sensor.')\n",
    "\n",
    "def web_page():\n",
    "  html = \"\"\"<!DOCTYPE HTML><html>\n",
    "<head>\n",
    "  <meta name=\"viewport\" content=\"width=device-width, initial-scale=1\">\n",
    "  <link rel=\"stylesheet\" href=\"https://use.fontawesome.com/releases/v5.7.2/css/all.css\" integrity=\"sha384-fnmOCqbTlWIlj8LyTjo7mOUStjsKC4pOpQbqyi7RrhN7udi9RwhKkMHpvLbHG9Sr\" crossorigin=\"anonymous\">\n",
    "  <style>\n",
    "    html {\n",
    "     font-family: Arial;\n",
    "     display: inline-block;\n",
    "     margin: 0px auto;\n",
    "     text-align: center;\n",
    "    }\n",
    "    h2 { font-size: 3.0rem; }\n",
    "    p { font-size: 3.0rem; }\n",
    "    .units { font-size: 1.2rem; }\n",
    "    .dht-labels{\n",
    "      font-size: 1.5rem;\n",
    "      vertical-align:middle;\n",
    "      padding-bottom: 15px;\n",
    "    }\n",
    "  </style>\n",
    "</head>\n",
    "<body>\n",
    "  <h2>ESP32 DHT Server</h2>\n",
    "  <p>\n",
    "    <i class=\"fas fa-thermometer-half\" style=\"color:#059e8a;\"></i> \n",
    "    <span class=\"dht-labels\">Temperature</span> \n",
    "    <span>\"\"\"+str(temp)+\"\"\"</span>\n",
    "    <sup class=\"units\">&deg;C</sup>\n",
    "  </p>\n",
    "  <p>\n",
    "    <i class=\"fas fa-tint\" style=\"color:#00add6;\"></i> \n",
    "    <span class=\"dht-labels\">Humidity</span>\n",
    "    <span>\"\"\"+str(hum)+\"\"\"</span>\n",
    "    <sup class=\"units\">%</sup>\n",
    "  </p>\n",
    "</body>\n",
    "</html>\"\"\"\n",
    "  return html\n",
    "\n",
    "s = socket.socket(socket.AF_INET, socket.SOCK_STREAM)\n",
    "s.bind(('', 80))\n",
    "s.listen(5)\n",
    "\n",
    "while True:\n",
    "  conn, addr = s.accept()\n",
    "  print('Got a connection from %s' % str(addr))\n",
    "  request = conn.recv(1024)\n",
    "  print('Content = %s' % str(request))\n",
    "  sensor_readings = read_sensor()\n",
    "  print(sensor_readings)\n",
    "  response = web_page()\n",
    "  conn.send('HTTP/1.1 200 OK\\n')\n",
    "  conn.send('Content-Type: text/html\\n')\n",
    "  conn.send('Connection: close\\n\\n')\n",
    "  conn.sendall(response)\n",
    "  conn.close()"
   ]
  },
  {
   "cell_type": "code",
   "execution_count": null,
   "metadata": {},
   "outputs": [],
   "source": [
    "'''\n",
    "<i class=\"fas fa-thermometer-half\" style=\"color:#00add6;\"></i>\n",
    "<i class=\"fas fa-humidity\" style=\"color:#00add6;\"></i>\n",
    "<p>\n",
    "  <i class=\"fas fa-tint\" style=\"color:#00add6;\"></i> \n",
    "  <span class=\"dht-labels\">Humidity</span>\n",
    "  <span>\"\"\"+str(hum)+\"\"\"</span>\n",
    "  <sup class=\"units\">%</sup>\n",
    "</p>\n",
    "'''"
   ]
  },
  {
   "cell_type": "code",
   "execution_count": null,
   "metadata": {},
   "outputs": [],
   "source": [
    "s = socket.socket(socket.AF_INET, socket.SOCK_STREAM)\n",
    "s.bind(('', 80))\n",
    "s.listen(5)\n",
    "\n",
    "while True:\n",
    "  conn, addr = s.accept()\n",
    "  print('Got a connection from %s' % str(addr))\n",
    "  request = conn.recv(1024)\n",
    "  print('Content = %s' % str(request))\n",
    "  sensor_readings = read_sensor()\n",
    "  print(sensor_readings)\n",
    "  response = web_page()\n",
    "  conn.send('HTTP/1.1 200 OK\\n')\n",
    "  conn.send('Content-Type: text/html\\n')\n",
    "  conn.send('Connection: close\\n\\n')\n",
    "  conn.sendall(response)\n",
    "  conn.close()"
   ]
  }
 ],
 "metadata": {
  "kernelspec": {
   "display_name": "MicroPython - USB",
   "language": "micropython",
   "name": "micropython"
  },
  "language_info": {
   "codemirror_mode": "python",
   "file_extension": ".py",
   "mimetype": "text/python",
   "name": "micropython"
  }
 },
 "nbformat": 4,
 "nbformat_minor": 2
}
