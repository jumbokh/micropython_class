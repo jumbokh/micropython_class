{
 "cells": [
  {
   "cell_type": "code",
   "execution_count": 39,
   "metadata": {},
   "outputs": [
    {
     "name": "stdout",
     "output_type": "stream",
     "text": [
      "\u001b[34mExecuting:\n",
      "  esptool --port COM4 erase_flash\n",
      "\n",
      "\u001b[0mesptool.py v2.8\n",
      "Serial port COM4\n",
      "Connecting........_\n",
      "\u001b[34m[Press the PRG button now if required]\n",
      "\u001b[0mDetecting chip type... ESP32\n",
      "Chip is ESP32D0WDQ6 (revision 1)\n",
      "Features: WiFi, BT, Dual Core, 240MHz, VRef calibration in efuse, Coding Scheme None\n",
      "Crystal is 40MHz\n",
      "MAC: cc:50:e3:80:1f:20\n",
      "Uploading stub...\n",
      "Running stub...\n",
      "Stub running...\n",
      "Erasing flash (this may take a while)...\n",
      "Chip erase completed successfully in 3.0s\n",
      "Hard resetting via RTS pin...\n"
     ]
    }
   ],
   "source": [
    "%esptool --port COM4 erase"
   ]
  },
  {
   "cell_type": "code",
   "execution_count": 40,
   "metadata": {},
   "outputs": [
    {
     "name": "stdout",
     "output_type": "stream",
     "text": [
      "\u001b[34mExecuting:\n",
      "  esptool --port com4 --chip esp32 write_flash -z 0x1000 ../scripts/esp32-idf3-20191109-v1.11-571-g7e374d231.bin\n",
      "\n",
      "\u001b[0mesptool.py v2.8\n",
      "Serial port com4\n",
      "Connecting....\n",
      "\u001b[34m[Press the PRG button now if required]\n",
      "\u001b[0mChip is ESP32D0WDQ6 (revision 1)\n",
      "Features: WiFi, BT, Dual Core, 240MHz, VRef calibration in efuse, Coding Scheme None\n",
      "Crystal is 40MHz\n",
      "MAC: cc:50:e3:80:1f:20\n",
      "Uploading stub...\n",
      "Running stub...\n",
      "Stub running...\n",
      "Configuring flash size...\n",
      "Auto-detected Flash size: 4MB\n",
      "Compressed 1240160 bytes to 783102...\n",
      "Wrote 1240160 bytes (783102 compressed) at 0x00001000 in 69.7 seconds (effective 142.4 kbit/s)...\n",
      "Hash of data verified.\n",
      "\n",
      "Leaving...\n",
      "Hard resetting via RTS pin...\n"
     ]
    }
   ],
   "source": [
    "%esptool --port com4 esp32 ../scripts/esp32-idf3-20191109-v1.11-571-g7e374d231.bin"
   ]
  },
  {
   "cell_type": "code",
   "execution_count": 55,
   "metadata": {},
   "outputs": [
    {
     "name": "stdout",
     "output_type": "stream",
     "text": [
      "\u001b[34mConnecting to --port=COM4 --baud=115200 \u001b[0m\n",
      "pu up.\u001b[0m\n",
      "ap config here!\n",
      "('ap_config:', 'informatics\\n0953313123')\n",
      "line to:  ('informatics', '0953313123')\n",
      ">, old:<1,0>, ap:<255,255>, sta:<7,1>, prof:1\n",
      "> auth (b0)\n",
      "> assoc (0)\n",
      "> run (10)\n",
      "\n",
      "connected!  -->  ('192.168.43.150', '255.255.255.0', '192.168.43.254', '120.118.253.1')\n",
      "Traceback (most recent call last):\n",
      "  File \"main.py\", line 54, in <module>\n",
      "RuntimeError: Wifi Unknown Error 0x0005\n",
      "MicroPython v1.11-571-g7e374d231 on 2019-11-09; ESP32 module with ESP32\n",
      "Type \"help()\" for more information.\n",
      ">>>[reboot detected 0]repl is in normal command mode\n",
      "[\\r\\x03\\x03] b'\\r\\n>>> '\n",
      "[\\r\\x01] b'\\r\\n>>> \\r\\nraw REPL; CTRL-B to exit\\r\\n>' \u001b[34mReady.\n",
      "\u001b[0m"
     ]
    }
   ],
   "source": [
    "%serialconnect to --port COM4"
   ]
  },
  {
   "cell_type": "code",
   "execution_count": 56,
   "metadata": {},
   "outputs": [],
   "source": [
    "import network\n",
    "import time"
   ]
  },
  {
   "cell_type": "code",
   "execution_count": 57,
   "metadata": {},
   "outputs": [
    {
     "name": "stdout",
     "output_type": "stream",
     "text": [
      "True\n",
      "True\n"
     ]
    }
   ],
   "source": [
    "sta = network.WLAN(network.STA_IF)\n",
    "print(sta.active(True))\n",
    "SSID='informatics'\n",
    "KEY='0953313123'\n",
    "print(sta.active())\n",
    "sta.connect(SSID,KEY)"
   ]
  },
  {
   "cell_type": "code",
   "execution_count": 58,
   "metadata": {},
   "outputs": [
    {
     "name": "stdout",
     "output_type": "stream",
     "text": [
      "cc:50:e3:80:1f:20\n",
      "('192.168.43.150', '255.255.255.0', '192.168.43.254', '120.118.253.1')\n"
     ]
    }
   ],
   "source": [
    "import network\n",
    "import ubinascii\n",
    "mac = ubinascii.hexlify(sta.config('mac'),':').decode()\n",
    "print(mac)\n",
    "print(sta.ifconfig())"
   ]
  },
  {
   "cell_type": "code",
   "execution_count": 59,
   "metadata": {},
   "outputs": [
    {
     "name": "stdout",
     "output_type": "stream",
     "text": [
      "True\n",
      "('192.168.43.150', '255.255.255.0', '192.168.43.254', '120.118.253.1')\n"
     ]
    }
   ],
   "source": [
    "print(sta.isconnected())\n",
    "for i in range(20):\n",
    "    time.sleep(0.5)\n",
    "    if sta.isconnected():\n",
    "        break\n",
    "print(sta.ifconfig())"
   ]
  },
  {
   "cell_type": "code",
   "execution_count": 46,
   "metadata": {},
   "outputs": [
    {
     "name": "stdout",
     "output_type": "stream",
     "text": [
      "Sent 2 lines (22 bytes) to ap.txt.\n"
     ]
    }
   ],
   "source": [
    "%sendtofile ap.txt\n",
    "informatics\n",
    "0953313123"
   ]
  },
  {
   "cell_type": "code",
   "execution_count": 62,
   "metadata": {},
   "outputs": [
    {
     "name": "stdout",
     "output_type": "stream",
     "text": [
      "Sent 120 lines (2632 bytes) to main.py.\n"
     ]
    }
   ],
   "source": [
    "%sendtofile main.py\n",
    "# -*- coding: utf-8 -*-\n",
    "\n",
    "import machine\n",
    "import network\n",
    "import time\n",
    "import os\n",
    "\n",
    "#- check ap config file\n",
    "AP_SSID = 'upy'\n",
    "AP_PWD = 'pypypypy'\n",
    "ap_config = None\n",
    "ap_config_fn = 'ap.txt'\n",
    "if ap_config_fn in os.listdir():\n",
    "    print('ap config here!')\n",
    "    f = open(ap_config_fn)\n",
    "    ap_config = f.read()\n",
    "    f.close()\n",
    "if ap_config:\n",
    "    print( ('ap_config:', ap_config))\n",
    "    ap_config = ap_config.split('\\n')\n",
    "    AP_SSID = ap_config[0].strip()\n",
    "    AP_PWD = ap_config[1].strip()\n",
    "print('line to: ', (AP_SSID, AP_PWD))\n",
    "\n",
    "#-- 連到AP 為Station\n",
    "sta_if = network.WLAN(network.STA_IF)\n",
    "sta_if.active(True)\n",
    "sta_if.connect(AP_SSID, AP_PWD)\n",
    "sta_if.isconnected()\n",
    "for i in range(20):\n",
    "    time.sleep(0.5)\n",
    "    if sta_if.isconnected():\n",
    "        break\n",
    "sta_ip = ''\n",
    "if sta_if.isconnected():\n",
    "    print('connected!  --> ', sta_if.ifconfig())\n",
    "    sta_ip = sta_if.ifconfig()[0]\n",
    "else:\n",
    "    print('not connected!  --> ', sta_if.ifconfig())\n",
    "\n",
    "\n",
    "import socket\n",
    "from machine import Pin\n",
    "from machine import PWM\n",
    "import dht\n",
    "#from hcsr04 import HCSR04\n",
    "\n",
    "\n",
    "# PIN Define:\n",
    "D0 = 16\n",
    "D1 = 5  #PWM\n",
    "D2 = 4  #PWM\n",
    "D3 = 0  #PWM\n",
    "D4 = 2  #PWM, #Led on board\n",
    "D5 = 14 #PWM\n",
    "D6 = 12 #PWM\n",
    "D7 = 13 #PWM\n",
    "D8 = 15 #PWM\n",
    "\n",
    "#Setup PINS\n",
    "led = machine.Pin(2, machine.Pin.OUT)\n",
    "\n",
    "\n",
    "# th_sensor\n",
    "th_sensor = dht.DHT11(Pin(5))\n",
    "\n",
    "\n",
    "#Setup Socket WebServer\n",
    "s = socket.socket(socket.AF_INET, socket.SOCK_STREAM)\n",
    "s.bind(('0.0.0.0', 80))\n",
    "s.listen(5)\n",
    "while True:\n",
    "    conn, addr = s.accept()\n",
    "    print(\"Got a connection from %s\" % str(addr))\n",
    "    request = conn.recv(1024)\n",
    "    print(\"Content = %s\" % str(request))\n",
    "\n",
    "    request = str(request)\n",
    "    led_on = request.find('GET /?LED=ON')\n",
    "    led_off = request.find('GET /?LED=OFF')\n",
    "    th_sensor_read = request.find('GET /?th_sensor=read')\n",
    "\n",
    "\n",
    "    if led_on >= 0:\n",
    "        print('TURN Led ON')\n",
    "        led.value(0)\n",
    "    if led_off >= 0:\n",
    "        print('TURN Led OFF')\n",
    "        led.value(1)\n",
    "   \n",
    "\n",
    "    my_t = None\n",
    "    my_h = None\n",
    "    if th_sensor_read >= 0:\n",
    "        print('th_sensor read')\n",
    "        th_sensor.measure()    \n",
    "        my_t = th_sensor.temperature()  \n",
    "        my_h = th_sensor.humidity()\n",
    "        print('T=', th_sensor.temperature())\n",
    "        print('H=', th_sensor.humidity())\n",
    "\n",
    "    f = open('webtool.html')\n",
    "\n",
    "    while(1):\n",
    "        html = f.read(1024)\n",
    "\n",
    "        if my_t:\n",
    "            html = html.replace('T=?', 'T={}{}C'.format(my_t,'\\u00b0'))\n",
    "        else:\n",
    "            html = html.replace('T=?', '')\n",
    "        if my_h:\n",
    "            html = html.replace('H=?', 'H={}{}'.format(my_h,'%'))\n",
    "        else:\n",
    "            html = html.replace('H=?', '')\n",
    "        #conn.send(html)\n",
    "        conn.sendall(html) #改用send all就不會有資料傳一半的問題\n",
    "        if(len(html)<=0):\n",
    "            break\n",
    "    f.close()\n",
    "    conn.close()"
   ]
  },
  {
   "cell_type": "code",
   "execution_count": 61,
   "metadata": {},
   "outputs": [
    {
     "name": "stdout",
     "output_type": "stream",
     "text": [
      "Sent 39 lines (789 bytes) to webtool.html.\n"
     ]
    }
   ],
   "source": [
    "%sendtofile webtool.html\n",
    "<!DOCTYPE html>\n",
    "<html>\n",
    "<head> <title>upy webserver</title> </head>\n",
    "<center><h2>upy webserver</h2></center>\n",
    "<h3>\n",
    "webREPL: <a href=\"http://micropython.org/webrepl/\" target=\"_blank\">webrepl</a>\n",
    "<br>\n",
    "Doc: <a href=\"https://docs.micropython.org/en/latest/esp8266/esp8266/quickref.html\" target=\"_blank\">Quick reference</a>\n",
    "</h3>\n",
    "<hr>\n",
    "\n",
    "<form>\n",
    "<b>LED (D4):</b><br>\n",
    "<button name=\"LED\" value=\"ON\" type=\"submit\">ON</button><br>\n",
    "<button name=\"LED\" value=\"OFF\" type=\"submit\">OFF</button><br>\n",
    "</form>\n",
    "\n",
    "<form>\n",
    "<b>T/H sensor (D1):</b><br>\n",
    "<button name=\"th_sensor\" value=\"read\" type=\"submit\">Read</button><br>\n",
    "T=?degree\n",
    "H=?unit\n",
    "</form>\n",
    "\n",
    "</html>"
   ]
  },
  {
   "cell_type": "code",
   "execution_count": 53,
   "metadata": {},
   "outputs": [
    {
     "name": "stdout",
     "output_type": "stream",
     "text": [
      "Sent 11 lines (244 bytes) to rdht.py.\n"
     ]
    }
   ],
   "source": [
    "%sendtofile rdht.py\n",
    "from machine import Pin\n",
    "import dht     \n",
    "import time\n",
    "\n",
    "p5=Pin(5, Pin.IN)\n",
    "d=dht.DHT11(p5)        #建立 DHT11 物件\n",
    "\n",
    "d.measure()                  #重新測量溫溼度\n",
    "t=d.temperature()        #讀取攝氏溫度\n",
    "h=d.humidity()             #讀取相對溼度\n",
    "print(\"T={},H={}\".format(t,h))"
   ]
  },
  {
   "cell_type": "code",
   "execution_count": 63,
   "metadata": {},
   "outputs": [
    {
     "name": "stdout",
     "output_type": "stream",
     "text": [
      "\u001b[34mattempt to exit paste mode\n",
      "\u001b[0m\u001b[34m[\\r\\x03\\x02] \u001b[0mb'\\r\\nMicroPython v1.11-571-g7e374d231 on 2019-11-09; ESP32 module with ESP32\\r\\nType \"help()\" for more information.\\r\\n>>> '\u001b[34m\n",
      "Closing serial Serial<id=0x1f6cdc83088, open=True>(port='COM4', baudrate=115200, bytesize=8, parity='N', stopbits=1, timeout=0.5, xonxoff=False, rtscts=False, dsrdtr=False)\n",
      "\u001b[0m"
     ]
    }
   ],
   "source": [
    "%disconnect"
   ]
  },
  {
   "cell_type": "code",
   "execution_count": null,
   "metadata": {},
   "outputs": [],
   "source": []
  }
 ],
 "metadata": {
  "kernelspec": {
   "display_name": "MicroPython - USB",
   "language": "micropython",
   "name": "micropython"
  },
  "language_info": {
   "codemirror_mode": "python",
   "file_extension": ".py",
   "mimetype": "text/python",
   "name": "micropython"
  }
 },
 "nbformat": 4,
 "nbformat_minor": 2
}
