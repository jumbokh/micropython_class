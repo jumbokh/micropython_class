{
 "cells": [
  {
   "cell_type": "code",
   "execution_count": 1,
   "metadata": {},
   "outputs": [
    {
     "name": "stdout",
     "output_type": "stream",
     "text": [
      "\u001b[34mConnecting to --port=COM5 --baud=115200 \u001b[0m\n",
      "\u001b[34mReady.\n",
      "\u001b[0m"
     ]
    }
   ],
   "source": [
    "%serialconnect to --port=COM5 --baud=115200"
   ]
  },
  {
   "cell_type": "code",
   "execution_count": 2,
   "metadata": {
    "collapsed": true
   },
   "outputs": [],
   "source": [
    "# 基本音階\n",
    "from machine import Pin,PWM\n",
    "import time\n",
    "M0=0\n",
    "C4=262\n",
    "CS4=277\n",
    "D4=294\n",
    "DS4=311\n",
    "E4=330\n",
    "F4=349\n",
    "FS4=370\n",
    "G4=392\n",
    "GS4=415\n",
    "A4=440\n",
    "AS4=466\n",
    "B4=494\n",
    "C5=523\n",
    "CS5=554\n",
    "D5=587\n",
    "DS5=622\n",
    "E5=659\n",
    "F5=698\n",
    "FS5=740\n",
    "G5=784\n",
    "GS5=831\n",
    "A5=880\n",
    "AS5=932\n",
    "B5=988"
   ]
  },
  {
   "cell_type": "code",
   "execution_count": 3,
   "metadata": {},
   "outputs": [
    {
     "name": "stdout",
     "output_type": "stream",
     "text": [
      "."
     ]
    }
   ],
   "source": [
    "#note=(C5, D5, E5, F5, G5, A5, B5)\n",
    "note=(C5, C5, G5, G5, A5, A5, G5, M0, F5, F5, E5, E5, D5, D5, C5)\n",
    "duration=(4, 4, 4, 4, 4, 4, 4, 4, 4, 4, 4, 4, 4, 4, 4 )\n",
    "\n",
    "def tone(pwm,note,duration):\n",
    "    if note>0:\n",
    "        pwm.freq(note)           \n",
    "        pwm.duty(512)\n",
    "    time.sleep_ms(duration)\n",
    "    pwm.deinit()\n",
    "    time.sleep_ms(int(duration/4))\n",
    "\n",
    "def music(pwm):\n",
    "    for i in range(0,len(note)):\n",
    "        d=int(1000/duration[i])\n",
    "        tone(pwm, note[i], d)\n",
    "        #p=int(d*1.3)\n",
    "        #time.sleep_ms(p)\n",
    "    time.sleep(1)\n",
    "\n",
    "pwm=PWM(Pin(14)) \n",
    "\n",
    "for i in range(1):\n",
    "    music(pwm)"
   ]
  },
  {
   "cell_type": "code",
   "execution_count": 4,
   "metadata": {},
   "outputs": [
    {
     "name": "stdout",
     "output_type": "stream",
     "text": [
      "\u001b[34mattempt to exit paste mode\n",
      "\u001b[0m\u001b[34m[\\r\\x03\\x02] \u001b[0mb'\\r\\nMicroPython v1.10-8-g8b7039d7d on 2019-01-26; ESP module with ESP8266\\r\\nType \"help()\" for more information.\\r\\n>>> '\u001b[34m\n",
      "Closing serial Serial<id=0x239281b4ef0, open=True>(port='COM5', baudrate=115200, bytesize=8, parity='N', stopbits=1, timeout=0.5, xonxoff=False, rtscts=False, dsrdtr=False)\n",
      "\u001b[0m"
     ]
    }
   ],
   "source": [
    "#%rebootdevice\n",
    "%disconnect"
   ]
  },
  {
   "cell_type": "code",
   "execution_count": null,
   "metadata": {
    "collapsed": true
   },
   "outputs": [],
   "source": []
  }
 ],
 "metadata": {
  "kernelspec": {
   "display_name": "MicroPython - USB",
   "language": "micropython",
   "name": "micropython"
  },
  "language_info": {
   "codemirror_mode": "python",
   "file_extension": ".py",
   "mimetype": "text/python",
   "name": "micropython"
  }
 },
 "nbformat": 4,
 "nbformat_minor": 2
}
