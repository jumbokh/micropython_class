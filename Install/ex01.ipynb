{
 "cells": [
  {
   "cell_type": "code",
   "execution_count": 9,
   "metadata": {},
   "outputs": [
    {
     "name": "stdout",
     "output_type": "stream",
     "text": [
      "\u001b[34mConnecting to --port=COM4 --baud=115200 \u001b[0m\n",
      "\u001b[34mReady.\n",
      "\u001b[0m"
     ]
    }
   ],
   "source": [
    "%serialconnect to --port=COM4 --baud=115200\n",
    "#%websocketconnect"
   ]
  },
  {
   "cell_type": "code",
   "execution_count": 8,
   "metadata": {},
   "outputs": [
    {
     "name": "stdout",
     "output_type": "stream",
     "text": [
      "\u001b[31mNo serial connected\n",
      "\u001b[0m  %serialconnect to connect\n",
      "  %esptool to flash the device\n",
      "  %lsmagic to list commands"
     ]
    }
   ],
   "source": [
    "#%websocketconnect --password 1234 ws://192.168.43.105:8266"
   ]
  },
  {
   "cell_type": "code",
   "execution_count": 10,
   "metadata": {},
   "outputs": [],
   "source": [
    "from machine import Pin\n",
    "from machine import PWM\n",
    "import dht\n",
    "import time"
   ]
  },
  {
   "cell_type": "code",
   "execution_count": 11,
   "metadata": {
    "collapsed": true
   },
   "outputs": [],
   "source": [
    "th_sensor = dht.DHT11(Pin(0))"
   ]
  },
  {
   "cell_type": "code",
   "execution_count": 12,
   "metadata": {},
   "outputs": [
    {
     "name": "stdout",
     "output_type": "stream",
     "text": [
      "th_sensor read\n",
      "T= 24\n",
      "H= 39\n"
     ]
    }
   ],
   "source": [
    "my_t = None\n",
    "my_h = None\n",
    "if th_sensor:\n",
    "    print('th_sensor read')\n",
    "    th_sensor.measure()\n",
    "    my_t = th_sensor.temperature()\n",
    "    my_h = th_sensor.humidity()\n",
    "    print('T=', th_sensor.temperature())\n",
    "    print('H=', th_sensor.humidity())"
   ]
  },
  {
   "cell_type": "code",
   "execution_count": 13,
   "metadata": {},
   "outputs": [
    {
     "name": "stdout",
     "output_type": "stream",
     "text": [
      "T= 24\n",
      "H= 39\n",
      "T= 24\n",
      "H= 39\n",
      "T= 24\n",
      "H= 39\n",
      ".T= 24\n",
      "H= 39\n",
      "T= 24\n",
      "H= 39\n",
      ".T= 24\n",
      "H= 39\n",
      "T= 24\n",
      "H= 39\n",
      "T= 24\n",
      "H= 39\n",
      ".T= 24\n",
      "H= 39\n",
      "T= 24\n",
      "H= 39\n",
      ".T= 24\n",
      "H= 39\n",
      "end\n"
     ]
    }
   ],
   "source": [
    "count = 0\n",
    "while True:\n",
    "    th_sensor.measure()\n",
    "    my_t = th_sensor.temperature()\n",
    "    my_h = th_sensor.humidity()\n",
    "    print('T=', th_sensor.temperature())\n",
    "    print('H=', th_sensor.humidity())\n",
    "    time.sleep(2)\n",
    "    count +=1\n",
    "    if count > 10:\n",
    "        break\n",
    "print('end')"
   ]
  },
  {
   "cell_type": "code",
   "execution_count": 15,
   "metadata": {},
   "outputs": [],
   "source": [
    "#%rebootdevice\n",
    "%disconnect"
   ]
  },
  {
   "cell_type": "code",
   "execution_count": null,
   "metadata": {
    "collapsed": true
   },
   "outputs": [],
   "source": []
  }
 ],
 "metadata": {
  "kernelspec": {
   "display_name": "MicroPython - USB",
   "language": "micropython",
   "name": "micropython"
  },
  "language_info": {
   "codemirror_mode": "python",
   "file_extension": ".py",
   "mimetype": "text/python",
   "name": "micropython"
  }
 },
 "nbformat": 4,
 "nbformat_minor": 2
}
