{
  "cells": [
    {
      "cell_type": "markdown",
      "metadata": {
        "id": "view-in-github",
        "colab_type": "text"
      },
      "source": [
        "<a href=\"https://colab.research.google.com/github/jumbokh/micropython_class/blob/master/adafruit_io_python_tutorial.ipynb\" target=\"_parent\"><img src=\"https://colab.research.google.com/assets/colab-badge.svg\" alt=\"Open In Colab\"/></a>"
      ]
    },
    {
      "cell_type": "markdown",
      "metadata": {
        "id": "uHG1sEOYnYIp"
      },
      "source": [
        "# Welcome to the Adafruit IO Python Client Library"
      ]
    },
    {
      "cell_type": "markdown",
      "metadata": {
        "id": "DxijFongnYIu"
      },
      "source": [
        "![Adafruit IO Python Logo](https://cdn-learn.adafruit.com/assets/assets/000/057/558/original/adafruit_io_68747470733a2f2f63646e2d6c6561726e2e61646166727569742e636f6d2f6173736574732f6173736574732f3030302f3035372f3135332f6f726967696e616c2f61646166727569745f696f5f696f707974686f6e2e706e673f31353330383032303733.png)"
      ]
    },
    {
      "cell_type": "markdown",
      "metadata": {
        "id": "OTeru1rOnYIv"
      },
      "source": [
        "This interactive Jupyter notebook will get you started with the [Adafruit IO Python library](https://github.com/adafruit/io-client-python) - right from your browser! *You don't need to install anything on your computer*, and you'll be able to play with Adafruit IO."
      ]
    },
    {
      "cell_type": "markdown",
      "metadata": {
        "id": "91qjdYHMnYIw"
      },
      "source": [
        "## Import the Adafruit IO Python Library"
      ]
    },
    {
      "cell_type": "markdown",
      "metadata": {
        "id": "FSeStBd7nYIw"
      },
      "source": [
        "Let's begin by importing the Adafruit IO Python client library:"
      ]
    },
    {
      "cell_type": "code",
      "source": [
        "!pip3 install adafruit-io"
      ],
      "metadata": {
        "colab": {
          "base_uri": "https://localhost:8080/"
        },
        "id": "mmtmxX5DndGD",
        "outputId": "80dc5b42-9e83-4ba2-97bc-af635b7af243"
      },
      "execution_count": 2,
      "outputs": [
        {
          "output_type": "stream",
          "name": "stdout",
          "text": [
            "Collecting adafruit-io\n",
            "  Downloading adafruit-io-2.6.0.tar.gz (49 kB)\n",
            "\u001b[K     |████████████████████████████████| 49 kB 4.9 MB/s \n",
            "\u001b[?25hRequirement already satisfied: requests in /usr/local/lib/python3.7/dist-packages (from adafruit-io) (2.23.0)\n",
            "Collecting paho-mqtt\n",
            "  Downloading paho-mqtt-1.6.1.tar.gz (99 kB)\n",
            "\u001b[K     |████████████████████████████████| 99 kB 8.2 MB/s \n",
            "\u001b[?25hRequirement already satisfied: urllib3!=1.25.0,!=1.25.1,<1.26,>=1.21.1 in /usr/local/lib/python3.7/dist-packages (from requests->adafruit-io) (1.24.3)\n",
            "Requirement already satisfied: chardet<4,>=3.0.2 in /usr/local/lib/python3.7/dist-packages (from requests->adafruit-io) (3.0.4)\n",
            "Requirement already satisfied: certifi>=2017.4.17 in /usr/local/lib/python3.7/dist-packages (from requests->adafruit-io) (2021.10.8)\n",
            "Requirement already satisfied: idna<3,>=2.5 in /usr/local/lib/python3.7/dist-packages (from requests->adafruit-io) (2.10)\n",
            "Building wheels for collected packages: adafruit-io, paho-mqtt\n",
            "  Building wheel for adafruit-io (setup.py) ... \u001b[?25l\u001b[?25hdone\n",
            "  Created wheel for adafruit-io: filename=adafruit_io-2.6.0-py3-none-any.whl size=21675 sha256=4171290492d276bad268438b617904aefc17553f13c206868129e550a9e8d470\n",
            "  Stored in directory: /root/.cache/pip/wheels/1c/46/c2/cbf562d264b75ab4d61357f10cde07ad20e86865eb60b72914\n",
            "  Building wheel for paho-mqtt (setup.py) ... \u001b[?25l\u001b[?25hdone\n",
            "  Created wheel for paho-mqtt: filename=paho_mqtt-1.6.1-py3-none-any.whl size=62133 sha256=10577c27e034f02a7f028e9cb391bd72027d831a2eb76009084b8a5e6319516c\n",
            "  Stored in directory: /root/.cache/pip/wheels/d0/bf/ac/2b3f43f8c6fcd0f4ba5395397458c521eb0b52d33b574a5a40\n",
            "Successfully built adafruit-io paho-mqtt\n",
            "Installing collected packages: paho-mqtt, adafruit-io\n",
            "Successfully installed adafruit-io-2.6.0 paho-mqtt-1.6.1\n"
          ]
        }
      ]
    },
    {
      "cell_type": "code",
      "execution_count": 3,
      "metadata": {
        "id": "goELc1iYnYIx"
      },
      "outputs": [],
      "source": [
        "from Adafruit_IO import Client, RequestError, Feed"
      ]
    },
    {
      "cell_type": "markdown",
      "metadata": {
        "id": "UrOmtjjZnYIy"
      },
      "source": [
        "Next, locate your Adafruit IO Key and Username. These are found on the left hand side of the [Adafruit IO homepage](http://io.adafruit.com). "
      ]
    },
    {
      "cell_type": "markdown",
      "metadata": {
        "id": "Z1s-Ksl8nYIz"
      },
      "source": [
        "![Adafruit IO Key GIF](https://cdn-learn.adafruit.com/assets/assets/000/062/541/original/3d_printing_adafruit_io_username_and_password.gif?1537910337)"
      ]
    },
    {
      "cell_type": "markdown",
      "metadata": {
        "id": "JIRH7CNfnYIz"
      },
      "source": [
        "Replace `IO_KEY` with your Adafruit IO Active Key."
      ]
    },
    {
      "cell_type": "code",
      "execution_count": 4,
      "metadata": {
        "id": "GpNrPmfSnYI0"
      },
      "outputs": [],
      "source": [
        "ADAFRUIT_IO_KEY = 'aio_NrHg04DowSFIPMlz9GAs9PyXIVAI'"
      ]
    },
    {
      "cell_type": "markdown",
      "metadata": {
        "id": "x9_VAwVanYI0"
      },
      "source": [
        "and replace `IO_USERNAME` with your Adafruit IO Username."
      ]
    },
    {
      "cell_type": "code",
      "execution_count": 5,
      "metadata": {
        "id": "4JkwDDMynYI1"
      },
      "outputs": [],
      "source": [
        "ADAFRUIT_IO_USERNAME = 'jumbokh'"
      ]
    },
    {
      "cell_type": "markdown",
      "metadata": {
        "id": "-7HylSUTnYI1"
      },
      "source": [
        "Next, let's create an instance of the Adafruit IO Client"
      ]
    },
    {
      "cell_type": "code",
      "execution_count": 6,
      "metadata": {
        "id": "26gC7sxqnYI2"
      },
      "outputs": [],
      "source": [
        "aio = Client(ADAFRUIT_IO_USERNAME, ADAFRUIT_IO_KEY)"
      ]
    },
    {
      "cell_type": "markdown",
      "metadata": {
        "id": "u3q5gF-LnYI2"
      },
      "source": [
        "We're going to create a new feed named `test_feed`. Adafruit IO Python does not automatically generate feeds *but* one can be created if it does not exist already."
      ]
    },
    {
      "cell_type": "code",
      "execution_count": 7,
      "metadata": {
        "id": "ub5lUTq5nYI2"
      },
      "outputs": [],
      "source": [
        "try:\n",
        "    test_feed = aio.feeds('temperature')\n",
        "except RequestError: # Doesn't exist, create a new feed\n",
        "    test = Feed(name='temperature')\n",
        "    test_feed = aio.create_feed(test)"
      ]
    },
    {
      "cell_type": "markdown",
      "metadata": {
        "id": "w7M5SyKOnYI3"
      },
      "source": [
        "Next, we're going to send the value `42` to our feed `test` using the `send_data()` method."
      ]
    },
    {
      "cell_type": "code",
      "execution_count": 8,
      "metadata": {
        "colab": {
          "base_uri": "https://localhost:8080/"
        },
        "id": "Sj30JX-snYI3",
        "outputId": "f699449b-7a44-4a08-904c-13cb84e5ef7c"
      },
      "outputs": [
        {
          "output_type": "execute_result",
          "data": {
            "text/plain": [
              "Data(created_epoch=1646526524, created_at='2022-03-06T00:28:44Z', updated_at=None, value='42', completed_at=None, feed_id=1824059, expiration='2022-04-04T23:28:44Z', position=None, id='0EZ6F4JE8E72B9DGFH0H0349C1', lat=None, lon=None, ele=None)"
            ]
          },
          "metadata": {},
          "execution_count": 8
        }
      ],
      "source": [
        "aio.send_data(test_feed.key, 42)"
      ]
    },
    {
      "cell_type": "markdown",
      "metadata": {
        "id": "6H_ZBffjnYI4"
      },
      "source": [
        "The data has been sent to Adafruit IO - but how do we get it back? We'll use the `receive()` method and pass in the `test` feed. "
      ]
    },
    {
      "cell_type": "code",
      "execution_count": 9,
      "metadata": {
        "colab": {
          "base_uri": "https://localhost:8080/"
        },
        "id": "C2T2c5ZQnYI4",
        "outputId": "4717e294-5753-4ba6-9f5f-14650450e7ce"
      },
      "outputs": [
        {
          "output_type": "stream",
          "name": "stdout",
          "text": [
            "Latest value from Test: 42\n"
          ]
        }
      ],
      "source": [
        "data = aio.receive(test_feed.key)\n",
        "print('Latest value from Test: {0}'.format(data.value))"
      ]
    },
    {
      "cell_type": "markdown",
      "metadata": {
        "id": "TFRKztumnYI4"
      },
      "source": [
        "We're reciving the feed, but only printing the `value` field. Adafruit IO feeds hold **a lot** of metadata about the data sent to Adafruit IO, including when it was created. "
      ]
    },
    {
      "cell_type": "code",
      "execution_count": 10,
      "metadata": {
        "colab": {
          "base_uri": "https://localhost:8080/"
        },
        "id": "dsiwB7VOnYI5",
        "outputId": "f8edbb2e-f096-4c89-88b5-e022462f2cdb"
      },
      "outputs": [
        {
          "output_type": "stream",
          "name": "stdout",
          "text": [
            "Recieved value from test feed has the following metadata: Data(created_epoch=None, created_at='2022-03-06T00:28:44Z', updated_at='2022-03-06T00:28:44Z', value='42', completed_at=None, feed_id=1824059, expiration='1649114924.0', position=None, id='0EZ6F4JE8E72B9DGFH0H0349C1', lat=None, lon=None, ele=None)\n"
          ]
        }
      ],
      "source": [
        "print('Recieved value from test feed has the following metadata: {0}'.format(data))"
      ]
    },
    {
      "cell_type": "code",
      "source": [
        "try:\n",
        "    test_feed = aio.feeds('humidity')\n",
        "except RequestError: # Doesn't exist, create a new feed\n",
        "    test = Feed(name='humidity')\n",
        "    test_feed = aio.create_feed(test)"
      ],
      "metadata": {
        "id": "u9IjX6DHoXaW"
      },
      "execution_count": 11,
      "outputs": []
    },
    {
      "cell_type": "code",
      "source": [
        "aio.send_data(test_feed.key, 39)"
      ],
      "metadata": {
        "colab": {
          "base_uri": "https://localhost:8080/"
        },
        "id": "5ajbn2NsojcG",
        "outputId": "5dfd300b-7bd6-43af-edda-4016bed9eeb6"
      },
      "execution_count": 14,
      "outputs": [
        {
          "output_type": "execute_result",
          "data": {
            "text/plain": [
              "Data(created_epoch=1646526641, created_at='2022-03-06T00:30:41Z', updated_at=None, value='39', completed_at=None, feed_id=1824060, expiration='2022-04-04T23:30:41Z', position=None, id='0EZ6F5P6B29Y4KPHHPEVXZZ51R', lat=None, lon=None, ele=None)"
            ]
          },
          "metadata": {},
          "execution_count": 14
        }
      ]
    },
    {
      "cell_type": "code",
      "source": [
        "data = aio.receive(test_feed.key)\n",
        "print('Latest value from Test: {0}'.format(data.value))"
      ],
      "metadata": {
        "colab": {
          "base_uri": "https://localhost:8080/"
        },
        "id": "YONRj0LdolUf",
        "outputId": "468c4bd5-9b3a-40da-c59a-b43dd7c3c1c0"
      },
      "execution_count": 15,
      "outputs": [
        {
          "output_type": "stream",
          "name": "stdout",
          "text": [
            "Latest value from Test: 39\n"
          ]
        }
      ]
    },
    {
      "cell_type": "code",
      "source": [
        "data = aio.receive(test_feed.key)\n",
        "print('Latest value from Test: {0}'.format(data.value))"
      ],
      "metadata": {
        "colab": {
          "base_uri": "https://localhost:8080/"
        },
        "id": "c3GJveTqoysq",
        "outputId": "e533c9af-b8af-436e-f3c4-8525448543f6"
      },
      "execution_count": 16,
      "outputs": [
        {
          "output_type": "stream",
          "name": "stdout",
          "text": [
            "Latest value from Test: 39\n"
          ]
        }
      ]
    },
    {
      "cell_type": "code",
      "source": [
        "print('Recieved value from test feed has the following metadata: {0}'.format(data))"
      ],
      "metadata": {
        "colab": {
          "base_uri": "https://localhost:8080/"
        },
        "id": "tU13F5_wo3ax",
        "outputId": "b7ad0080-8133-4309-ed7f-5176d357809c"
      },
      "execution_count": 17,
      "outputs": [
        {
          "output_type": "stream",
          "name": "stdout",
          "text": [
            "Recieved value from test feed has the following metadata: Data(created_epoch=None, created_at='2022-03-06T00:30:41Z', updated_at='2022-03-06T00:30:41Z', value='39', completed_at=None, feed_id=1824060, expiration='1649115041.0', position=None, id='0EZ6F5P6B29Y4KPHHPEVXZZ51R', lat=None, lon=None, ele=None)\n"
          ]
        }
      ]
    }
  ],
  "metadata": {
    "kernelspec": {
      "display_name": "Python 3 (ipykernel)",
      "language": "python",
      "name": "python3"
    },
    "language_info": {
      "codemirror_mode": {
        "name": "ipython",
        "version": 3
      },
      "file_extension": ".py",
      "mimetype": "text/x-python",
      "name": "python",
      "nbconvert_exporter": "python",
      "pygments_lexer": "ipython3",
      "version": "3.7.10"
    },
    "colab": {
      "name": "adafruit-io-python-tutorial.ipynb",
      "provenance": [],
      "collapsed_sections": [],
      "include_colab_link": true
    }
  },
  "nbformat": 4,
  "nbformat_minor": 0
}