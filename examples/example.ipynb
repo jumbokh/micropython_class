{
 "cells": [
  {
   "cell_type": "code",
   "execution_count": 1,
   "metadata": {},
   "outputs": [
    {
     "name": "stdout",
     "output_type": "stream",
     "text": [
      "\u001b[34mConnecting to --port=COM4 --baud=115200 \u001b[0m\n",
      "\u001b[34mReady.\n",
      "\u001b[0m"
     ]
    }
   ],
   "source": [
    "%serialconnect to --port=COM4 --baud=115200"
   ]
  },
  {
   "cell_type": "code",
   "execution_count": 2,
   "metadata": {},
   "outputs": [
    {
     "name": "stdout",
     "output_type": "stream",
     "text": [
      "(sysname='esp8266', nodename='esp8266', release='2.2.0-dev(9422289)', version='v1.10-8-g8b7039d7d on 2019-01-26', machine='ESP module with ESP8266')\r\n"
     ]
    }
   ],
   "source": [
    "import uos\n",
    "print(uos.uname())"
   ]
  },
  {
   "cell_type": "code",
   "execution_count": 3,
   "metadata": {},
   "outputs": [
    {
     "name": "stdout",
     "output_type": "stream",
     "text": [
      "\n",
      " ets Jan  8 2013,rst cause:2, boot mode:(3,7)\n",
      "\n",
      "load 0x40100000, len 31020, room 16 \n",
      "tail 12\n",
      "chksum 0xd2\n",
      "ho 0 tail 12 room 4\n",
      "load 0x3ffe8000, len 1100, room 12 \n",
      "tail 0\n",
      "chksum 0x9a\n",
      "load 0x3ffe8450, len 824, room 8 \n",
      "tail 0\n",
      "chksum 0xbd\n",
      "csum 0xbd\n",
      "b'\\x84\\xe2\\x02\\xecp\\x03\\x82N\\xec|\\x13r\\x82\\xf2n|\\xe4'"
     ]
    },
    {
     "name": "stderr",
     "output_type": "stream",
     "text": [
      "b'$\\x0cl$$`\\x03\\x1cb\\x93\\x1b\\x02'b'\\xdf|\\x03r\\x92\\x03l\\x9cN\\xe0\\x0c\\x83o\\xe3\\x00\\x0cl`\\x02\\x8c\\xe3{\\x92p\\x82\\x8c\\x1c\\xf3\\x02\\x84\\x0c\\x0c\\x0cd \\x03\\x8c\\xc2\\x9cn\\x82l\\xec$\\x1b\\x8c'b'\\x0cl \\x02\\x8c\\xe3r\\x9bl'b'\\x8f\\xbe\\x03\\x8c'b'\\x0cl$`\\x03s$\\x8e\\x1b\\x90o\\x02\\x84\\xbe\\x12#\"'b'\\x8c\\x1c|\\x84\\x84bl#\\x9c\\xe2\\x9c\\x02B|\\x90\\x8c\\x1c\\x84\\x84'b'llB\\xecp\\x7f\\xb2N\\x12no\\xe3\\x10\\x02\\x00\\x02\\x84ln\\x9e\\x00'b'\\xe4\\x0c\\x8c'b'$\\xec\\x8e\\x00$$\\x8c\\x1f\\x90'b'\\x8c\\x1f\\x80\\x0c$`\\x03\\x80\\x02N\\xfc\\x00\\x8c\\x9e\\xe3\\x8cc\\x0cd$\\xec\\x8c\\x8f\\x13\\x0cc'b'\\x03\\x03\\x8c\\x9f\\xc2bc\\x0c$\\x0c\\x8cc\\x1crl{$r\\xf3o\\x9c\\xe3\\x00\\x8c\\x1f\\x00\\xe4\\x82\\x1b\\x02B\\x8f\\x80\\x8c\\x0c$\\x8c\\x1f\\xe3'b'\\x8f\\x1f\\x80l\\x84l\\x8e\\xe0\\x84\\xe4l\\x9cd\\x00\\xec\\x13\\x00\\xec\\xf2n\\xdc\\x9e\\x03\\x02\\x1bc\\x8e\\x1c\\xec\\x0cl\\x84$\\x0c\\x8e\\xe4'b'l\\x8c$\\x8f\\xe0\\x8c\\xe4$\\xecWebREPL daemon started on ws://192.168.4.1:8266\\r\\n'WebREPL daemon started on ws://0.0.0.0:8266\n",
      "Started webrepl in normal mode\n",
      "ap config here!\n",
      "('ap_config:', 'BUFFALO-2387202\\n0953313123')\n",
      "line to:  ('BUFFALO-2387202', '0953313123')\n"
     ]
    },
    {
     "name": "stdout",
     "output_type": "stream",
     "text": [
      ".."
     ]
    },
    {
     "name": "stderr",
     "output_type": "stream",
     "text": [
      "not connected!  --"
     ]
    },
    {
     "name": "stdout",
     "output_type": "stream",
     "text": [
      "[too many x04s 14]"
     ]
    }
   ],
   "source": [
    "from machine import Pin\n",
    "import time\n",
    "\n",
    "p2 = Pin(16, Pin.OUT)\n",
    "\n",
    "for i in range(3):\n",
    "    p2.value(0)\n",
    "    time.sleep(1)\n",
    "    p2.value(1)\n",
    "    time.sleep(1)"
   ]
  },
  {
   "cell_type": "code",
   "execution_count": null,
   "metadata": {},
   "outputs": [],
   "source": [
    "# upy to read temperature, humidity\n",
    "\n",
    "import dht\n",
    "import machine\n",
    "\n",
    "d = dht.DHT11(machine.Pin(2)) #D4\n",
    "d.measure()\n",
    "d.temperature() # eg. 23 (℃)\n",
    "d.humidity()    # eg. 41 (% RH)"
   ]
  },
  {
   "cell_type": "code",
   "execution_count": null,
   "metadata": {},
   "outputs": [],
   "source": []
  }
 ],
 "metadata": {
  "kernelspec": {
   "display_name": "MicroPython - USB",
   "language": "micropython",
   "name": "micropython"
  },
  "language_info": {
   "codemirror_mode": "python",
   "file_extension": ".py",
   "mimetype": "text/python",
   "name": "micropython"
  }
 },
 "nbformat": 4,
 "nbformat_minor": 2
}
