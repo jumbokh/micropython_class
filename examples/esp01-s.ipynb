{
 "cells": [
  {
   "cell_type": "markdown",
   "metadata": {},
   "source": [
    "### ESP-01s 模組\n",
    "![ESP-01s IOT-MCU DHT11](iot-mcu_dht11.jpg)"
   ]
  },
  {
   "cell_type": "code",
   "execution_count": null,
   "metadata": {},
   "outputs": [],
   "source": [
    "%serialconnect to --port COM5"
   ]
  },
  {
   "cell_type": "code",
   "execution_count": 36,
   "metadata": {},
   "outputs": [
    {
     "name": "stdout",
     "output_type": "stream",
     "text": [
      "Sent 7 lines (196 bytes) to boot.py.\n"
     ]
    }
   ],
   "source": [
    "%sendtofile boot.py\n",
    "# This file is executed on every boot (including wake-boot from deepsleep)\n",
    "#import esp\n",
    "#esp.osdebug(None)\n",
    "import uos, machine\n",
    "#uos.dupterm(None, 1) # disable REPL on UART(0)\n",
    "import gc\n",
    "gc.collect()"
   ]
  },
  {
   "cell_type": "code",
   "execution_count": 35,
   "metadata": {},
   "outputs": [
    {
     "name": "stdout",
     "output_type": "stream",
     "text": [
      "Sent 19 lines (445 bytes) to boot.py.\n"
     ]
    },
    {
     "name": "stderr",
     "output_type": "stream",
     "text": [
      "Traceback (most recent call last):\n",
      "  File \"<stdin>\", line 1, in <module>\n",
      "NameError: name 'O' isn't defined\n"
     ]
    }
   ],
   "source": [
    "%sendtofile boot.py\n",
    "# This file is executed on every boot (including wake-boot from deepsleep)\n",
    "#import esp\n",
    "#esp.osdebug(None)\n",
    "import uos, machine\n",
    "#uos.dupterm(None, 1) # disable REPL on UART(0)\n",
    "import gc\n",
    "import network\n",
    "import time\n",
    "SSID='BUFFALO-2387202'\n",
    "WKEY='0953313123'\n",
    "sta_if = network.WLAN(network.STA_IF)\n",
    "sta_if.active(True)\n",
    "sta_if.connect(SSID,WKEY)\n",
    "time.sleep(2)\n",
    "print(sta.isconnected())\n",
    "print(sta_if.ifconfig())\n",
    "#import webrepl\n",
    "#webrepl.start()\n",
    "gc.collect()"
   ]
  },
  {
   "cell_type": "code",
   "execution_count": 25,
   "metadata": {},
   "outputs": [
    {
     "name": "stdout",
     "output_type": "stream",
     "text": [
      "Sent 126 lines (2936 bytes) to main.txt.\n"
     ]
    }
   ],
   "source": [
    "%sendtofile main.txt\n",
    "# -*- coding: utf-8 -*-\n",
    "\n",
    "import machine\n",
    "import network\n",
    "import time\n",
    "import os\n",
    "\n",
    "#- check ap config file\n",
    "AP_SSID = 'upy'\n",
    "AP_PWD = 'pypypypy'\n",
    "ap_config = None\n",
    "ap_config_fn = 'ap.txt'\n",
    "if ap_config_fn in os.listdir():\n",
    "    print('ap config here!')\n",
    "    f = open(ap_config_fn)\n",
    "    ap_config = f.read()\n",
    "    f.close()\n",
    "if ap_config:\n",
    "    print( ('ap_config:', ap_config))\n",
    "    ap_config = ap_config.split('\\n')\n",
    "    AP_SSID = ap_config[0].strip()\n",
    "    AP_PWD = ap_config[1].strip()\n",
    "print('line to: ', (AP_SSID, AP_PWD))\n",
    "\n",
    "#-- 連到AP 為Station\n",
    "sta_if = network.WLAN(network.STA_IF)\n",
    "sta_if.active(True)\n",
    "sta_if.connect(AP_SSID, AP_PWD)\n",
    "sta_if.isconnected()\n",
    "for i in range(20):\n",
    "    time.sleep(0.5)\n",
    "    if sta_if.isconnected():\n",
    "        break\n",
    "sta_ip = ''\n",
    "if sta_if.isconnected():\n",
    "    print('connected!  --> ', sta_if.ifconfig())\n",
    "    sta_ip = sta_if.ifconfig()[0]\n",
    "else:\n",
    "    print('not connected!  --> ', sta_if.ifconfig())\n",
    "\n",
    "#-- 當AP，並指定\n",
    "uid = machine.unique_id()\n",
    "#ap_if.ifconfig()\n",
    "# ('192.168.4.1', '255.255.255.0', '192.168.4.1', '192.168.43.1')\n",
    "# (ip, mask, gateway, dns)\n",
    "my_sn = '%02X-%02X-%02X-%02X' %(uid[0], uid[1], uid[2], uid[3])\n",
    "\n",
    "#- Change name/password/ip of ESP8266's AP:\n",
    "ap_if = network.WLAN(network.AP_IF)\n",
    "#ap_if.ifconfig([my_ip, my_mask, my_gw, my_dns])\n",
    "\n",
    "my_ssid = 'upy_%s_%s' %(my_sn, sta_ip)\n",
    "#ap_if.config(essid = my_ssid)#改ssid，馬上生效\n",
    "ap_if.config(essid=my_ssid, authmode=network.AUTH_WPA_WPA2_PSK, password=\"12345678\")\n",
    "#DHCP 功能micropython預設就有，不用設定\n",
    "#AP的IP，每次重開都會回到預設值，因此需要開機時就設定\n",
    "#一般是配給AP ip的下一號ip\n",
    "\n",
    "\n",
    "import socket\n",
    "from machine import Pin\n",
    "from machine import PWM\n",
    "import dht\n",
    "#from hcsr04 import HCSR04\n",
    "\n",
    "\n",
    "# PIN Define:\n",
    "\n",
    "D3 = 0  #PWM\n",
    "D4 = 2  #PWM, #Led on board\n",
    "\n",
    "\n",
    "#Setup PINS\n",
    "led = machine.Pin(0, machine.Pin.OUT)\n",
    "\n",
    "\n",
    "# th_sensor\n",
    "th_sensor = dht.DHT11(Pin(2))\n",
    "\n",
    "\n",
    "#Setup Socket WebServer\n",
    "s = socket.socket(socket.AF_INET, socket.SOCK_STREAM)\n",
    "s.bind(('0.0.0.0', 80))\n",
    "s.listen(5)\n",
    "while True:\n",
    "    conn, addr = s.accept()\n",
    "    print(\"Got a connection from %s\" % str(addr))\n",
    "    request = conn.recv(1024)\n",
    "    print(\"Content = %s\" % str(request))\n",
    "\n",
    "    request = str(request)\n",
    "    led_on = request.find('GET /?LED=ON')\n",
    "    led_off = request.find('GET /?LED=OFF')\n",
    "    th_sensor_read = request.find('GET /?th_sensor=read')\n",
    "\n",
    "\n",
    "    if led_on >= 0:\n",
    "        print('TURN Led ON')\n",
    "        led.value(0)\n",
    "    if led_off >= 0:\n",
    "        print('TURN Led OFF')\n",
    "        led.value(1)\n",
    "\n",
    "    my_t = None\n",
    "    if th_sensor_read >= 0:\n",
    "        print('th_sensor read')\n",
    "        th_sensor.measure()\n",
    "        my_t = th_sensor.temperature()\n",
    "        print('T=', th_sensor.temperature())\n",
    "        print('H=', th_sensor.humidity())\n",
    "\n",
    "    f = open('webtool.html')\n",
    "\n",
    "    while(1):\n",
    "        html = f.read(1024)\n",
    "\n",
    "        if my_t:\n",
    "            html = html.replace('T=?degree', 'T=%d degree' %(my_t))\n",
    "        else:\n",
    "            html = html.replace('T=?degree', '')\n",
    "        #conn.send(html)\n",
    "        conn.sendall(html) #改用send all就不會有資料傳一半的問題\n",
    "        if(len(html)<=0):\n",
    "            break\n",
    "    f.close()\n",
    "    conn.close()"
   ]
  },
  {
   "cell_type": "code",
   "execution_count": 26,
   "metadata": {},
   "outputs": [
    {
     "name": "stdout",
     "output_type": "stream",
     "text": [
      "Sent 34 lines (705 bytes) to webtool.html.\n"
     ]
    }
   ],
   "source": [
    "%sendtofile webtool.html\n",
    "<!DOCTYPE html>\n",
    "<html>\n",
    "<head> <title>upy webserver</title> </head>\n",
    "<center><h2>upy webserver</h2></center>\n",
    "<h3>\n",
    "webREPL: <a href=\"http://micropython.org/webrepl/\" target=\"_blank\">webrepl</a>\n",
    "<br>\n",
    "Doc: <a href=\"https://docs.micropython.org/en/latest/esp8266/esp8266/quickref.html\" target=\"_blank\">Quick reference</a>\n",
    "</h3>\n",
    "<hr>\n",
    "\n",
    "<form>\n",
    "<b>LED (D3):</b><br>\n",
    "<button name=\"LED\" value=\"ON\" type=\"submit\">ON</button><br>\n",
    "<button name=\"LED\" value=\"OFF\" type=\"submit\">OFF</button><br>\n",
    "</form>\n",
    "\n",
    "<form>\n",
    "<b>T/H sensor (D4):</b><br>\n",
    "<button name=\"th_sensor\" value=\"read\" type=\"submit\">Read</button><br>\n",
    "T=?degree\n",
    "H=?unit\n",
    "</form>\n",
    "\n",
    "<hr>\n",
    "GPIO Info. :<br>\n",
    "<pre>\n",
    "\n",
    "D3 = 0  #PWM\n",
    "D4 = 2  #PWM, #Led on board\n",
    "\n",
    "</pre>\n",
    "\n",
    "</html>"
   ]
  },
  {
   "cell_type": "code",
   "execution_count": 27,
   "metadata": {},
   "outputs": [
    {
     "name": "stdout",
     "output_type": "stream",
     "text": [
      "Sent 2 lines (26 bytes) to ap.txt.\n"
     ]
    }
   ],
   "source": [
    "%sendtofile ap.txt\n",
    "BUFFALO-2387202\n",
    "0953313123"
   ]
  },
  {
   "cell_type": "code",
   "execution_count": 28,
   "metadata": {},
   "outputs": [
    {
     "name": "stdout",
     "output_type": "stream",
     "text": [
      "\u001b[34mattempt to exit paste mode\n",
      "\u001b[0m\u001b[34m[\\r\\x03\\x02] \u001b[0mb'\\r\\nMicroPython v1.10-8-g8b7039d7d on 2019-01-26; ESP module with ESP8266\\r\\nType \"help()\" for more information.\\r\\n>>> '\u001b[34m\n",
      "Closing serial Serial<id=0xbf05c30, open=True>(port='COM6', baudrate=115200, bytesize=8, parity='N', stopbits=1, timeout=0.5, xonxoff=False, rtscts=False, dsrdtr=False)\n",
      "\u001b[0m"
     ]
    }
   ],
   "source": [
    "%disconnect"
   ]
  },
  {
   "cell_type": "code",
   "execution_count": 41,
   "metadata": {},
   "outputs": [
    {
     "name": "stdout",
     "output_type": "stream",
     "text": [
      "BUFFALO-238720\n",
      "0953313123\n",
      "\n"
     ]
    }
   ],
   "source": [
    "f = open('ap.txt')\n",
    "print(f.read())"
   ]
  },
  {
   "cell_type": "code",
   "execution_count": 37,
   "metadata": {},
   "outputs": [
    {
     "name": "stdout",
     "output_type": "stream",
     "text": [
      "repl is in normal command mode\n",
      "[\\r\\x03\\x03] b'\\r\\nMicroPython v1.10-8-g8b7039d7d on 2019-01-26; ESP module with ESP8266\\r\\nType \"help()\" for more information.\\r\\n>>> \\r\\n>>> \\r\\nPYB: soft rebooOSError: [Errno 2] ENOENT\\r\\nMicroPython v1.10-8-g8b7039d7d on 2019-01-26; ESP module with ESP8266\\r\\nType \"help()\" for more information.\\r\\n>>> \\r\\n>>> \\r\\n>>> '\n",
      "[\\r\\x01] b'\\r\\n>>> \\r\\nraw REPL; CTRL-B to exit\\r\\n>'"
     ]
    }
   ],
   "source": [
    "%rebootdevice"
   ]
  },
  {
   "cell_type": "code",
   "execution_count": null,
   "metadata": {},
   "outputs": [],
   "source": [
    "%sendtofile blink.py\n",
    "from machine import Pin\n",
    "import time\n",
    "\n",
    "p2 = Pin(0, Pin.OUT)\n",
    "\n",
    "for i in range(3):\n",
    "    p2.value(0)\n",
    "    time.sleep(1)\n",
    "    p2.value(1)\n",
    "    time.sleep(1)"
   ]
  }
 ],
 "metadata": {
  "kernelspec": {
   "display_name": "MicroPython - USB",
   "language": "micropython",
   "name": "micropython"
  },
  "language_info": {
   "codemirror_mode": "python",
   "file_extension": ".py",
   "mimetype": "text/python",
   "name": "micropython"
  }
 },
 "nbformat": 4,
 "nbformat_minor": 2
}
