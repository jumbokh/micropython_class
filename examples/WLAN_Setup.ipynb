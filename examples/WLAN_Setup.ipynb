{
 "cells": [
  {
   "cell_type": "code",
   "execution_count": 1,
   "metadata": {},
   "outputs": [
    {
     "name": "stdout",
     "output_type": "stream",
     "text": [
      "\u001b[34mConnecting to --port=COM5 --baud=115200 \u001b[0m\n",
      "\u001b[34mReady.\n",
      "\u001b[0m"
     ]
    }
   ],
   "source": [
    "%serialconnect to --port COM5"
   ]
  },
  {
   "cell_type": "code",
   "execution_count": 2,
   "metadata": {},
   "outputs": [],
   "source": [
    "import network\n",
    "import time"
   ]
  },
  {
   "cell_type": "code",
   "execution_count": 4,
   "metadata": {},
   "outputs": [
    {
     "name": "stdout",
     "output_type": "stream",
     "text": [
      "False\r\n"
     ]
    }
   ],
   "source": [
    "sta = network.WLAN(network.STA_IF)\n",
    "print(sta.active())"
   ]
  },
  {
   "cell_type": "code",
   "execution_count": 7,
   "metadata": {},
   "outputs": [
    {
     "name": "stdout",
     "output_type": "stream",
     "text": [
      "True\r\n"
     ]
    }
   ],
   "source": [
    "SSID='CHT-10-5'\n",
    "KEY='0953313123'\n",
    "sta.active(True)\n",
    "print(sta.active())\n",
    "sta.connect(SSID,KEY)"
   ]
  },
  {
   "cell_type": "code",
   "execution_count": 9,
   "metadata": {},
   "outputs": [
    {
     "name": "stdout",
     "output_type": "stream",
     "text": [
      "True\n",
      "('192.168.1.103', '255.255.255.0', '192.168.1.1', '192.168.1.1')\n"
     ]
    }
   ],
   "source": [
    "print(sta.isconnected())\n",
    "for i in range(20):\n",
    "    time.sleep(0.5)\n",
    "    if sta.isconnected():\n",
    "        break\n",
    "print(sta.ifconfig())"
   ]
  },
  {
   "cell_type": "code",
   "execution_count": 12,
   "metadata": {},
   "outputs": [
    {
     "name": "stdout",
     "output_type": "stream",
     "text": [
      "[(b'CHT-10-5', b'\\xd8\\xfe\\xe3\\\\\\xb4\\xca', 11, -75, 3, 0), (b'A9F-5', b'\\xd0\\xd0K\\x12\\xf7\\x14', 1, -82, 4, 0), (b'Larry_AP', b'\\xf4(S\\xf8\\xc34', 2, -91, 3, 0), (b'jumboext', b'\\xf4(Sd\\xb5\\x1b', 11, -73, 3, 0), (b'BUFFALO-238720', b'\\x10o?#\\x87 ', 11, -47, 2, 0), (b'fa6277', b'\\xd8\\xfe\\xe3\\\\8\\xbf', 11, -91, 3, 0)]\r\n"
     ]
    }
   ],
   "source": [
    "print(sta.scan())"
   ]
  },
  {
   "cell_type": "code",
   "execution_count": 26,
   "metadata": {},
   "outputs": [
    {
     "name": "stdout",
     "output_type": "stream",
     "text": [
      ".SSID \t\t\t\t Channel \t\t\t dbm\n",
      "A9F-5 \t\t\t\t 1 \t\t\t -78\n",
      "CHT-10-5 \t\t\t\t 11 \t\t\t -64\n",
      "BUFFALO-238720 \t\t\t\t 11 \t\t\t -48\n",
      "CHT692-10F1 \t\t\t\t 2 \t\t\t -89\n",
      "Larry_AP \t\t\t\t 2 \t\t\t -94\n",
      "CHT5134 \t\t\t\t 11 \t\t\t -90\n",
      "jumboext \t\t\t\t 11 \t\t\t -74\n",
      "fa6277 \t\t\t\t 11 \t\t\t -94\n",
      "('192.168.1.103', '255.255.255.0', '192.168.1.1', '192.168.1.1')\n"
     ]
    }
   ],
   "source": [
    "nets = sta.scan()\n",
    "print('SSID','\\t\\t\\t\\t','Channel','\\t\\t\\t','dbm')\n",
    "for net in nets:\n",
    "    #print(net)\n",
    "    ssid = net[0].decode('ascii')\n",
    "    channel = net[2]\n",
    "    dbm = net[3]\n",
    "    print(ssid,'\\t\\t\\t\\t',channel,'\\t\\t\\t',dbm)\n",
    "#    ssid,sec,channel,db,n1,n2 = net\n",
    "#    if net.ssid == SSID:\n",
    "#        print('Network found!')\n",
    "#        wlan.connect(net.ssid, auth=(net.sec, KEY), timeout=5000)\n",
    "#        while not wlan.isconnected():\n",
    "#            machine.idle() # save power while waiting\n",
    "#        print('WLAN connection succeeded!')\n",
    "#        break\n",
    "print(sta.ifconfig())"
   ]
  },
  {
   "cell_type": "code",
   "execution_count": null,
   "metadata": {},
   "outputs": [],
   "source": []
  }
 ],
 "metadata": {
  "kernelspec": {
   "display_name": "MicroPython - USB",
   "language": "micropython",
   "name": "micropython"
  },
  "language_info": {
   "codemirror_mode": "python",
   "file_extension": ".py",
   "mimetype": "text/python",
   "name": "micropython"
  }
 },
 "nbformat": 4,
 "nbformat_minor": 2
}
