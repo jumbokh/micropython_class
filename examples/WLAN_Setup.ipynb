{
 "cells": [
  {
   "cell_type": "code",
   "execution_count": 1,
   "metadata": {},
   "outputs": [
    {
     "name": "stdout",
     "output_type": "stream",
     "text": [
      "\u001b[34mConnecting to --port=COM4 --baud=115200 \u001b[0m\n",
      "\u001b[34mReady.\n",
      "\u001b[0m"
     ]
    }
   ],
   "source": [
    "%serialconnect to --port COM4"
   ]
  },
  {
   "cell_type": "code",
   "execution_count": 2,
   "metadata": {},
   "outputs": [],
   "source": [
    "import network\n",
    "import time"
   ]
  },
  {
   "cell_type": "code",
   "execution_count": 3,
   "metadata": {},
   "outputs": [
    {
     "name": "stdout",
     "output_type": "stream",
     "text": [
      "True\r\n"
     ]
    }
   ],
   "source": [
    "sta = network.WLAN(network.STA_IF)\n",
    "print(sta.active())"
   ]
  },
  {
   "cell_type": "code",
   "execution_count": 4,
   "metadata": {},
   "outputs": [
    {
     "name": "stdout",
     "output_type": "stream",
     "text": [
      "True\r\n"
     ]
    }
   ],
   "source": [
    "SSID='mySSID'\n",
    "KEY='myKey'\n",
    "sta.active(True)\n",
    "print(sta.active())\n",
    "sta.connect(SSID,KEY)"
   ]
  },
  {
   "cell_type": "code",
   "execution_count": 5,
   "metadata": {},
   "outputs": [
    {
     "name": "stdout",
     "output_type": "stream",
     "text": [
      "False\n",
      "('192.168.43.121', '255.255.255.0', '192.168.43.254', '120.118.253.1')\n"
     ]
    }
   ],
   "source": [
    "print(sta.isconnected())\n",
    "for i in range(20):\n",
    "    time.sleep(0.5)\n",
    "    if sta.isconnected():\n",
    "        break\n",
    "print(sta.ifconfig())"
   ]
  },
  {
   "cell_type": "code",
   "execution_count": 6,
   "metadata": {},
   "outputs": [
    {
     "name": "stdout",
     "output_type": "stream",
     "text": [
      ".[(b'informatics', b'\\xb8U\\x10\\xda7\\xa4', 7, -27, 3, 0), (b'802.1x_CSU', b'\\x00\\x1a\\x1e\\xc2,\\xc1', 1, -82, 5, 0), (b'WAVELAN_CSU', b'\\x00\\x1a\\x1e\\xc2,\\xc2', 1, -82, 0, 0), (b'TANetRoaming', b'\\x00\\x1a\\x1e\\xc2,\\xc3', 1, -81, 0, 0), (b'802.1x_CSU', b\"\\x00\\x1a\\x1e\\xc2'\\xb1\", 1, -71, 5, 0), (b'WAVELAN_CSU', b\"\\x00\\x1a\\x1e\\xc2'\\xb2\", 1, -70, 0, 0), (b'TANetRoaming', b\"\\x00\\x1a\\x1e\\xc2'\\xb3\", 1, -69, 0, 0), (b'HP-Print-4F-LaserJet 1102', b'\\x9c\\xd2\\x1e\\x9d}O', 6, -80, 0, 0), (b'WAVELAN_CSU', b'\\x00\\x1a\\x1e\\xc4\\x122', 11, -76, 0, 0), (b'201', b'\\xb0Hz\\xff\\x03\\xd6', 11, -89, 3, 0)]\n"
     ]
    }
   ],
   "source": [
    "print(sta.scan())"
   ]
  },
  {
   "cell_type": "code",
   "execution_count": 7,
   "metadata": {},
   "outputs": [
    {
     "name": "stdout",
     "output_type": "stream",
     "text": [
      "SSID \t\t\t\t Channel \t\t\t dbm\n",
      "802.1x_CSU \t\t\t\t 1 \t\t\t -81\n",
      "TANetRoaming \t\t\t\t 1 \t\t\t -81\n",
      "802.1x_CSU \t\t\t\t 1 \t\t\t -84\n",
      "WAVELAN_CSU \t\t\t\t 1 \t\t\t -83\n",
      "TANetRoaming \t\t\t\t 1 \t\t\t -85\n",
      "HP-Print-4F-LaserJet 1102 \t\t\t\t 6 \t\t\t -91\n",
      "informatics \t\t\t\t 7 \t\t\t -29\n",
      "IOT_WIFI \t\t\t\t 9 \t\t\t -89\n",
      ".1.Free Wi-Fi \t\t\t\t 10 \t\t\t -92\n",
      "802.1x_CSU \t\t\t\t 11 \t\t\t -84\n",
      "WAVELAN_CSU \t\t\t\t 11 \t\t\t -84\n",
      "TANetRoaming \t\t\t\t 11 \t\t\t -82\n",
      "201 \t\t\t\t 11 \t\t\t -89\n",
      "('192.168.43.121', '255.255.255.0', '192.168.43.254', '120.118.253.1')\n"
     ]
    }
   ],
   "source": [
    "nets = sta.scan()\n",
    "print('SSID','\\t\\t\\t\\t','Channel','\\t\\t\\t','dbm')\n",
    "for net in nets:\n",
    "    #print(net)\n",
    "    ssid = net[0].decode('ascii')\n",
    "    channel = net[2]\n",
    "    dbm = net[3]\n",
    "    print(ssid,'\\t\\t\\t\\t',channel,'\\t\\t\\t',dbm)\n",
    "#    ssid,sec,channel,db,n1,n2 = net\n",
    "#    if net.ssid == SSID:\n",
    "#        print('Network found!')\n",
    "#        wlan.connect(net.ssid, auth=(net.sec, KEY), timeout=5000)\n",
    "#        while not wlan.isconnected():\n",
    "#            machine.idle() # save power while waiting\n",
    "#        print('WLAN connection succeeded!')\n",
    "#        break\n",
    "print(sta.ifconfig())"
   ]
  },
  {
   "cell_type": "code",
   "execution_count": 8,
   "metadata": {},
   "outputs": [
    {
     "name": "stdout",
     "output_type": "stream",
     "text": [
      "\u001b[34mattempt to exit paste mode\n",
      "\u001b[0m\u001b[34m[\\r\\x03\\x02] \u001b[0mb'\\r\\nMicroPython v1.10-8-g8b7039d7d on 2019-01-26; ESP module with ESP8266\\r\\nType \"help()\" for more information.\\r\\n>>> '\u001b[34m\n",
      "Closing serial Serial<id=0x41f2d50, open=True>(port='COM4', baudrate=115200, bytesize=8, parity='N', stopbits=1, timeout=0.5, xonxoff=False, rtscts=False, dsrdtr=False)\n",
      "\u001b[0m"
     ]
    }
   ],
   "source": [
    "%disconnect"
   ]
  },
  {
   "cell_type": "code",
   "execution_count": null,
   "metadata": {},
   "outputs": [],
   "source": []
  }
 ],
 "metadata": {
  "kernelspec": {
   "display_name": "MicroPython - USB",
   "language": "micropython",
   "name": "micropython"
  },
  "language_info": {
   "codemirror_mode": "python",
   "file_extension": ".py",
   "mimetype": "text/python",
   "name": "micropython"
  }
 },
 "nbformat": 4,
 "nbformat_minor": 2
}
