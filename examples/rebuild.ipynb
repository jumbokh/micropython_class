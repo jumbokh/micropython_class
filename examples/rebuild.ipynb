{
 "cells": [
  {
   "cell_type": "code",
   "execution_count": null,
   "metadata": {},
   "outputs": [],
   "source": [
    "%serialconnect to --port COM4"
   ]
  },
  {
   "cell_type": "code",
   "execution_count": null,
   "metadata": {},
   "outputs": [],
   "source": [
    "import os \n",
    "print(os.listdir())"
   ]
  },
  {
   "cell_type": "code",
   "execution_count": null,
   "metadata": {},
   "outputs": [],
   "source": [
    "%disconnect"
   ]
  },
  {
   "cell_type": "code",
   "execution_count": null,
   "metadata": {},
   "outputs": [],
   "source": [
    "%esptool --port COM12 erase\n",
    "#esptool --chip esp32 --port COM11 erase_flash"
   ]
  },
  {
   "cell_type": "code",
   "execution_count": null,
   "metadata": {},
   "outputs": [],
   "source": [
    "# esptool --port com12 --baud 460800 write_flash --flash_size=detect -fm dio 0 esp8266-20190125-v1.10.bin\n",
    "# esptool --port com11 --baud 460800 write_flash --flash_size=detect -fm dio 0 esp32-20190422-v1.10-290-g8402c26cf.bin"
   ]
  },
  {
   "cell_type": "code",
   "execution_count": null,
   "metadata": {},
   "outputs": [],
   "source": [
    "%serialconnect to --port COM11"
   ]
  },
  {
   "cell_type": "code",
   "execution_count": null,
   "metadata": {},
   "outputs": [],
   "source": [
    "import os\n",
    "print(os.listdir())"
   ]
  },
  {
   "cell_type": "code",
   "execution_count": null,
   "metadata": {},
   "outputs": [],
   "source": [
    "%sendtofile ap.txt\n",
    "JUMBOAP\n",
    "0953313123"
   ]
  },
  {
   "cell_type": "code",
   "execution_count": null,
   "metadata": {},
   "outputs": [],
   "source": [
    "%sendtofile main.py\n",
    "# -*- coding: utf-8 -*-\n",
    "\n",
    "import machine\n",
    "import network\n",
    "import time\n",
    "import os\n",
    "\n",
    "#- check ap config file\n",
    "AP_SSID = 'upy'\n",
    "AP_PWD = '1234'\n",
    "ap_config = None\n",
    "ap_config_fn = 'ap.txt'\n",
    "if ap_config_fn in os.listdir():\n",
    "    print('ap config here!')\n",
    "    f = open(ap_config_fn)\n",
    "    ap_config = f.read()\n",
    "    f.close()\n",
    "if ap_config:\n",
    "    print( ('ap_config:', ap_config))\n",
    "    ap_config = ap_config.split('\\n')\n",
    "    AP_SSID = ap_config[0].strip()\n",
    "    AP_PWD = ap_config[1].strip()\n",
    "print('line to: ', (AP_SSID, AP_PWD))\n",
    "\n",
    "#-- 連到AP 為Station\n",
    "sta_if = network.WLAN(network.STA_IF)\n",
    "sta_if.active(True)\n",
    "sta_if.connect(AP_SSID, AP_PWD)\n",
    "sta_if.isconnected()\n",
    "for i in range(20):\n",
    "    time.sleep(0.5)\n",
    "    if sta_if.isconnected():\n",
    "        break\n",
    "sta_ip = ''\n",
    "if sta_if.isconnected():\n",
    "    print('connected!  --> ', sta_if.ifconfig())\n",
    "    sta_ip = sta_if.ifconfig()[0]\n",
    "else:\n",
    "    print('not connected!  --> ', sta_if.ifconfig())\n",
    "\n",
    "#-- 當AP，並指定\n",
    "uid = machine.unique_id()\n",
    "#ap_if.ifconfig()\n",
    "# ('192.168.4.1', '255.255.255.0', '192.168.4.1', '192.168.43.1')\n",
    "# (ip, mask, gateway, dns)\n",
    "my_sn = '%02X-%02X-%02X-%02X' %(uid[0], uid[1], uid[2], uid[3])\n",
    "\n",
    "#- Change name/password/ip of ESP8266's AP:\n",
    "ap_if = network.WLAN(network.AP_IF)\n",
    "#ap_if.ifconfig([my_ip, my_mask, my_gw, my_dns])\n",
    "\n",
    "my_ssid = 'upy_%s_%s' %(my_sn, sta_ip)\n",
    "#ap_if.config(essid = my_ssid)#改ssid，馬上生效\n",
    "ap_if.config(essid=my_ssid, authmode=network.AUTH_WPA_WPA2_PSK, password=\"12345678\")\n",
    "#DHCP 功能micropython預設就有，不用設定\n",
    "#AP的IP，每次重開都會回到預設值，因此需要開機時就設定\n",
    "#一般是配給AP ip的下一號ip\n",
    "\n",
    "\n",
    "import socket\n",
    "from machine import Pin\n",
    "from machine import PWM\n",
    "import dht\n",
    "#from hcsr04 import HCSR04\n",
    "\n",
    "def Tune(buzzer, freq=262, t=500, duty=512):\n",
    "    ''' t: ms '''\n",
    "    if freq==0:\n",
    "        buzzer.duty(0)\n",
    "    else:\n",
    "        buzzer.duty(duty)\n",
    "    buzzer.freq(freq)\n",
    "    time.sleep_ms(t)\n",
    "\n",
    "\n",
    "# PIN Define:\n",
    "D0 = 16\n",
    "D1 = 5  #PWM\n",
    "D2 = 4  #PWM\n",
    "D3 = 0  #PWM\n",
    "D4 = 2  #PWM, #Led on board\n",
    "D5 = 14 #PWM\n",
    "D6 = 12 #PWM\n",
    "D7 = 13 #PWM\n",
    "D8 = 15 #PWM\n",
    "\n",
    "#Setup PINS\n",
    "led = machine.Pin(0, machine.Pin.OUT)\n",
    "\n",
    "# buzzer\n",
    "NOTE_C4=262\n",
    "NOTE_D4=294\n",
    "NOTE_E4=330\n",
    "NOTE_F4=349\n",
    "NOTE_G4=392\n",
    "NOTE_A4=440\n",
    "NOTE_B4=494\n",
    "buzzer = PWM(Pin(D2), freq=1000, duty=0)\n",
    "\n",
    "\n",
    "# th_sensor\n",
    "th_sensor = dht.DHT11(Pin(2))\n",
    "\n",
    "\n",
    "#Setup Socket WebServer\n",
    "s = socket.socket(socket.AF_INET, socket.SOCK_STREAM)\n",
    "s.bind(('0.0.0.0', 80))\n",
    "s.listen(5)\n",
    "while True:\n",
    "    conn, addr = s.accept()\n",
    "    print(\"Got a connection from %s\" % str(addr))\n",
    "    request = conn.recv(1024)\n",
    "    print(\"Content = %s\" % str(request))\n",
    "\n",
    "    request = str(request)\n",
    "    led_on = request.find('GET /?LED=ON')\n",
    "    led_off = request.find('GET /?LED=OFF')\n",
    "    buzzer_on = request.find('GET /?buzzer=on')\n",
    "    buzzer_off = request.find('GET /?buzzer=off')\n",
    "    th_sensor_read = request.find('GET /?th_sensor=read')\n",
    "\n",
    "\n",
    "    if led_on >= 0:\n",
    "        print('TURN Led ON')\n",
    "        led.value(0)\n",
    "    if led_off >= 0:\n",
    "        print('TURN Led OFF')\n",
    "        led.value(1)\n",
    "    if buzzer_on >= 0:\n",
    "        print('buzzer on')\n",
    "        Tune(buzzer, NOTE_C4, 10)\n",
    "    if buzzer_off >= 0:\n",
    "        print('buzzer off')\n",
    "        Tune(buzzer, 0, 10)\n",
    "\n",
    "    my_t = None\n",
    "    if th_sensor_read >= 0:\n",
    "        print('th_sensor read')\n",
    "        th_sensor.measure()\n",
    "        my_t = th_sensor.temperature()\n",
    "        print('T=', th_sensor.temperature())\n",
    "        print('H=', th_sensor.humidity())\n",
    "\n",
    "    f = open('webtool.html')\n",
    "\n",
    "    while(1):\n",
    "        html = f.read(1024)\n",
    "\n",
    "        if my_t:\n",
    "            html = html.replace('T=?degree', 'T=%d degree' %(my_t))\n",
    "        else:\n",
    "            html = html.replace('T=?degree', '')\n",
    "        #conn.send(html)\n",
    "        conn.sendall(html) #改用send all就不會有資料傳一半的問題\n",
    "        if(len(html)<=0):\n",
    "            break\n",
    "    f.close()\n",
    "    conn.close()"
   ]
  },
  {
   "cell_type": "code",
   "execution_count": null,
   "metadata": {},
   "outputs": [],
   "source": [
    "%sendtofile webtool.html\n",
    "<!DOCTYPE html>\n",
    "<html>\n",
    "<head> <title>upy webserver</title> </head>\n",
    "<center><h2>upy webserver</h2></center>\n",
    "<h3>\n",
    "webREPL: <a href=\"http://micropython.org/webrepl/\" target=\"_blank\">webrepl</a>\n",
    "<br>\n",
    "Doc: <a href=\"https://docs.micropython.org/en/latest/esp8266/esp8266/quickref.html\" target=\"_blank\">Quick reference</a>\n",
    "</h3>\n",
    "<hr>\n",
    "\n",
    "<form>\n",
    "<b>LED (D4):</b><br>\n",
    "<button name=\"LED\" value=\"ON\" type=\"submit\">ON</button><br>\n",
    "<button name=\"LED\" value=\"OFF\" type=\"submit\">OFF</button><br>\n",
    "</form>\n",
    "\n",
    "<form>\n",
    "<b>T/H sensor (D1):</b><br>\n",
    "<button name=\"th_sensor\" value=\"read\" type=\"submit\">Read</button><br>\n",
    "T=?degree\n",
    "H=?unit\n",
    "</form>\n",
    "\n",
    "<hr>\n",
    "GPIO Info. :<br>\n",
    "<pre>\n",
    "D0 = 16\n",
    "D1 = 5  #PWM\n",
    "D2 = 4  #PWM\n",
    "D3 = 0  #PWM\n",
    "D4 = 2  #PWM, #Led on board\n",
    "D5 = 14 #PWM\n",
    "D6 = 12 #PWM\n",
    "D7 = 13 #PWM\n",
    "D8 = 15 #PWM\n",
    "</pre>\n",
    "\n",
    "</html>"
   ]
  },
  {
   "cell_type": "code",
   "execution_count": null,
   "metadata": {},
   "outputs": [],
   "source": [
    "%sendtofile webrepl_cfg.py\n",
    "PASS = '1234'"
   ]
  },
  {
   "cell_type": "code",
   "execution_count": null,
   "metadata": {},
   "outputs": [],
   "source": [
    "%rebootdevice"
   ]
  },
  {
   "cell_type": "code",
   "execution_count": null,
   "metadata": {},
   "outputs": [],
   "source": [
    "%sendtofile boot.py\n",
    "# This file is executed on every boot (including wake-boot from deepsleep)\n",
    "#import esp\n",
    "#esp.osdebug(None)\n",
    "import uos, machine\n",
    "#uos.dupterm(None, 1) # disable REPL on UART(0)\n",
    "import gc\n",
    "#import webrepl\n",
    "#webrepl.start()\n",
    "gc.collect()"
   ]
  },
  {
   "cell_type": "code",
   "execution_count": null,
   "metadata": {},
   "outputs": [],
   "source": [
    "%sendtofile boot.py\n",
    "import uos, machine\n",
    "import gc\n",
    "gc.collect()"
   ]
  },
  {
   "cell_type": "code",
   "execution_count": null,
   "metadata": {},
   "outputs": [],
   "source": [
    "%serialconnect to --port COM4"
   ]
  },
  {
   "cell_type": "code",
   "execution_count": null,
   "metadata": {},
   "outputs": [],
   "source": [
    "import time\n",
    "from machine import Pin\n",
    "\n",
    "led = machine.Pin(15, machine.Pin.OUT)\n",
    "for _ in range(10):\n",
    "    led.value(1)\n",
    "    time.sleep(0.5)\n",
    "    led.value(0)\n",
    "    "
   ]
  },
  {
   "cell_type": "code",
   "execution_count": null,
   "metadata": {},
   "outputs": [],
   "source": [
    "led.value(0)"
   ]
  },
  {
   "cell_type": "code",
   "execution_count": null,
   "metadata": {},
   "outputs": [],
   "source": [
    "%sendtofile blink.py\n",
    "from machine import Pin\n",
    "import time\n",
    "\n",
    "p2 = Pin(15, Pin.OUT)\n",
    "\n",
    "for i in range(3):\n",
    "    p2.value(0)\n",
    "    time.sleep(1)\n",
    "    p2.value(1)\n",
    "    time.sleep(1)"
   ]
  },
  {
   "cell_type": "code",
   "execution_count": null,
   "metadata": {},
   "outputs": [],
   "source": [
    "%sendtofile read_dht.py\n",
    "from machine import Pin\n",
    "import dht\n",
    "sensor = dht.DHT11(Pin(5))\n",
    "sensor.measure()\n",
    "print(sensor.temperature())\n",
    "print(sensor.humidity())"
   ]
  },
  {
   "cell_type": "code",
   "execution_count": null,
   "metadata": {},
   "outputs": [],
   "source": [
    "import read_dht"
   ]
  },
  {
   "cell_type": "code",
   "execution_count": null,
   "metadata": {},
   "outputs": [],
   "source": [
    "f = open('blink.py')\n",
    "print(f.read())"
   ]
  },
  {
   "cell_type": "code",
   "execution_count": null,
   "metadata": {},
   "outputs": [],
   "source": [
    "import blink"
   ]
  },
  {
   "cell_type": "markdown",
   "metadata": {},
   "source": [
    "### [官網](http://docs.micropython.org/en/latest/esp8266/quickref.html#adc-analog-to-digital-conversion)"
   ]
  },
  {
   "cell_type": "code",
   "execution_count": null,
   "metadata": {},
   "outputs": [],
   "source": [
    "from machine import ADC\n",
    "\n",
    "adc = ADC(0)                   # create ADC object on ADC pin\n",
    "print(adc.read())              # read value, 0-1024"
   ]
  },
  {
   "cell_type": "code",
   "execution_count": null,
   "metadata": {},
   "outputs": [],
   "source": [
    "%sendtofile read_adc.py\n",
    "from machine import ADC\n",
    "adc = ADC(0)            # create ADC object on ADC pin\n",
    "print(adc.read())              # read value, 0-1024"
   ]
  },
  {
   "cell_type": "code",
   "execution_count": null,
   "metadata": {},
   "outputs": [],
   "source": [
    "import read_adc"
   ]
  },
  {
   "cell_type": "code",
   "execution_count": 3,
   "metadata": {},
   "outputs": [
    {
     "name": "stdout",
     "output_type": "stream",
     "text": [
      "WebREPL daemon started on ws://192.168.4.1:8266\n",
      "WebREPL daemon started on ws://192.168.43.121:8266\n",
      "Started webrepl in normal mode\n"
     ]
    }
   ],
   "source": [
    "import webrepl\n",
    "webrepl.start()"
   ]
  },
  {
   "cell_type": "code",
   "execution_count": 2,
   "metadata": {},
   "outputs": [
    {
     "name": "stdout",
     "output_type": "stream",
     "text": [
      "\u001b[34mConnecting to --port=COM4 --baud=115200 \u001b[0m\n",
      "\u001b[34mReady.\n",
      "\u001b[0m"
     ]
    }
   ],
   "source": [
    "%serialconnect to --port COM4"
   ]
  },
  {
   "cell_type": "code",
   "execution_count": null,
   "metadata": {},
   "outputs": [],
   "source": [
    "%disconnect"
   ]
  },
  {
   "cell_type": "code",
   "execution_count": 1,
   "metadata": {},
   "outputs": [
    {
     "name": "stdout",
     "output_type": "stream",
     "text": [
      "WebSocket OSError [WinError 10061] 無法連線，因為目標電腦拒絕連線。\n"
     ]
    }
   ],
   "source": [
    "%websocketconnect --password 1234 ws://192.168.43.121:8266"
   ]
  },
  {
   "cell_type": "code",
   "execution_count": null,
   "metadata": {},
   "outputs": [],
   "source": [
    "import read_adc"
   ]
  },
  {
   "cell_type": "code",
   "execution_count": null,
   "metadata": {},
   "outputs": [
    {
     "name": "stdout",
     "output_type": "stream",
     "text": [
      ".............................................."
     ]
    }
   ],
   "source": [
    "from machine import Pin\n",
    "from machine import ADC\n",
    "import time\n",
    "p2 = Pin(15, Pin.OUT)\n",
    "adc = ADC(0)            # create ADC object on ADC pin\n",
    "while True:\n",
    "     if adc.read() > 500:\n",
    "            p2.value(1)\n",
    "     time.sleep(2)\n",
    "     p2.value(0)"
   ]
  },
  {
   "cell_type": "code",
   "execution_count": null,
   "metadata": {},
   "outputs": [],
   "source": [
    "%disconnect"
   ]
  },
  {
   "cell_type": "code",
   "execution_count": null,
   "metadata": {},
   "outputs": [],
   "source": [
    "# ampy --port COM4 ls\n",
    "# ampy --port COM4 get boot.py > boot.py\n",
    "# ampy --port COM4 put readDHT.py\n",
    "# ampy --port COM4 run readDHT.py"
   ]
  }
 ],
 "metadata": {
  "kernelspec": {
   "display_name": "MicroPython - USB",
   "language": "micropython",
   "name": "micropython"
  },
  "language_info": {
   "codemirror_mode": "python",
   "file_extension": ".py",
   "mimetype": "text/python",
   "name": "micropython"
  }
 },
 "nbformat": 4,
 "nbformat_minor": 2
}
