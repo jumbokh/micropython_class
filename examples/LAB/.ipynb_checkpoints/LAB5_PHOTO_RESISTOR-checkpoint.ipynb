{
 "cells": [
  {
   "cell_type": "code",
   "execution_count": 1,
   "metadata": {},
   "outputs": [
    {
     "name": "stdout",
     "output_type": "stream",
     "text": [
      "\u001b[34mConnecting to --port=COM13 --baud=115200 \u001b[0m\n",
      "\u001b[34mReady.\n",
      "\u001b[0m"
     ]
    }
   ],
   "source": [
    "%serialconnect to --port COM13"
   ]
  },
  {
   "cell_type": "code",
   "execution_count": null,
   "metadata": {},
   "outputs": [],
   "source": [
    "'''\n",
    "材料清單：\n",
    "光敏電阻 * 1\n",
    "10k歐姆電阻 * 1\n",
    "220歐姆電阻 * 1\n",
    "LED * 1\n",
    "杜邦線 * 4\n",
    "D5 (GPIO14) -- LED\n",
    "A0 -- 光敏電阻\n",
    "'''"
   ]
  },
  {
   "cell_type": "markdown",
   "metadata": {},
   "source": [
    "![光感應電燈](images\\\\LABPhoto_bb.jpg)"
   ]
  },
  {
   "cell_type": "code",
   "execution_count": null,
   "metadata": {},
   "outputs": [],
   "source": [
    "# %websocketconnect --password 1234 ws://192.168.43.121:8266"
   ]
  },
  {
   "cell_type": "code",
   "execution_count": null,
   "metadata": {},
   "outputs": [
    {
     "name": "stdout",
     "output_type": "stream",
     "text": [
      "....................................."
     ]
    }
   ],
   "source": [
    "from machine import Pin\n",
    "from machine import ADC\n",
    "import time\n",
    "p2 = Pin(14, Pin.OUT) # LED: D5 (GPIO14)\n",
    "adc = ADC(0)          # create ADC object on ADC pin\n",
    "while True:\n",
    "     if adc.read() > 500:\n",
    "            p2.value(1)\n",
    "     time.sleep(2)\n",
    "     p2.value(0)"
   ]
  },
  {
   "cell_type": "code",
   "execution_count": null,
   "metadata": {},
   "outputs": [],
   "source": []
  }
 ],
 "metadata": {
  "kernelspec": {
   "display_name": "MicroPython - USB",
   "language": "micropython",
   "name": "micropython"
  },
  "language_info": {
   "codemirror_mode": "python",
   "file_extension": ".py",
   "mimetype": "text/python",
   "name": "micropython"
  }
 },
 "nbformat": 4,
 "nbformat_minor": 2
}
