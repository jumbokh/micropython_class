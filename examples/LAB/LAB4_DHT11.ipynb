{
 "cells": [
  {
   "cell_type": "code",
   "execution_count": 5,
   "metadata": {},
   "outputs": [],
   "source": [
    "'''\n",
    "材料清單：\n",
    "DHT11 * 1\n",
    "10k歐姆電阻 * 1\n",
    "104 (0.1u)電容 * 1\n",
    "杜邦線 * 3\n",
    "data port: D1 (GPIO5)\n",
    "'''"
   ]
  },
  {
   "cell_type": "markdown",
   "metadata": {},
   "source": [
    "![DHT11](https://github.com/jumbokh/micropython_class/blob/master/examples/LAB/images/DHT11.jpg?raw=true)\n",
    "![接線圖](https://github.com/jumbokh/micropython_class/blob/master/examples/LAB/images/MP_DHT11_bb.jpg?raw=true)"
   ]
  },
  {
   "cell_type": "code",
   "execution_count": 1,
   "metadata": {},
   "outputs": [
    {
     "name": "stdout",
     "output_type": "stream",
     "text": [
      "\u001b[34mConnecting to --port=COM9 --baud=115200 \u001b[0m\n",
      "\u001b[34mReady.\n",
      "\u001b[0m"
     ]
    }
   ],
   "source": [
    "%serialconnect --port COM9"
   ]
  },
  {
   "cell_type": "code",
   "execution_count": 2,
   "metadata": {},
   "outputs": [],
   "source": [
    "from machine import Pin\n",
    "import dht\n",
    "import time"
   ]
  },
  {
   "cell_type": "code",
   "execution_count": 3,
   "metadata": {},
   "outputs": [],
   "source": [
    "d = dht.DHT11(Pin(5))"
   ]
  },
  {
   "cell_type": "code",
   "execution_count": null,
   "metadata": {},
   "outputs": [
    {
     "name": "stdout",
     "output_type": "stream",
     "text": [
      "Humidity: 41%\n",
      "Temperature: 29°C\n",
      ".Humidity: 41%\n",
      "Temperature: 29°C\n",
      ".Humidity: 41%\n",
      "Temperature: 29°C\n"
     ]
    }
   ],
   "source": [
    "while True:\n",
    "    d.measure()\n",
    "    temp = d.temperature()\n",
    "    hum = d.humidity()\n",
    "    print('Humidity: {}%'.format(hum))\n",
    "    print('Temperature: {}{}C'.format(temp, '\\u00b0'))\n",
    "    time.sleep(5)"
   ]
  },
  {
   "cell_type": "code",
   "execution_count": null,
   "metadata": {},
   "outputs": [],
   "source": []
  }
 ],
 "metadata": {
  "kernelspec": {
   "display_name": "MicroPython - USB",
   "language": "micropython",
   "name": "micropython"
  },
  "language_info": {
   "codemirror_mode": "python",
   "file_extension": ".py",
   "mimetype": "text/python",
   "name": "micropython"
  }
 },
 "nbformat": 4,
 "nbformat_minor": 2
}
