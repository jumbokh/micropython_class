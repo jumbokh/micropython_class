{
 "cells": [
  {
   "cell_type": "code",
   "execution_count": 1,
   "metadata": {},
   "outputs": [
    {
     "name": "stdout",
     "output_type": "stream",
     "text": [
      "\u001b[34m** WebSocket connected **\n",
      "\u001b[0mPassword: \n",
      "WebREPL connected\n",
      ">>> \u001b[34mReady.\n",
      "\u001b[0m"
     ]
    }
   ],
   "source": [
    "#%serialcnnect to --port COM4\n",
    "%websocketconnect --password 1234 ws://192.168.43.121:8266"
   ]
  },
  {
   "cell_type": "code",
   "execution_count": null,
   "metadata": {},
   "outputs": [
    {
     "name": "stdout",
     "output_type": "stream",
     "text": [
      "Temperature= 26 C Humidity= 64 %\n",
      "Temperature= 26 C Humidity= 63 %\n",
      "Temperature= 26 C Humidity= 63 %\n",
      ".Temperature= 26 C Humidity= 63 %\n",
      "Temperature= 26 C Humidity= 63 %\n",
      "."
     ]
    }
   ],
   "source": [
    "from machine import Pin\n",
    "import dht     \n",
    "import time\n",
    "\n",
    "p5=Pin(14, Pin.IN)\n",
    "d=dht.DHT11(p5)        #建立 DHT11 物件\n",
    "\n",
    "while True:\n",
    "    d.measure()                  #重新測量溫溼度\n",
    "    t=d.temperature()        #讀取攝氏溫度\n",
    "    h=d.humidity()             #讀取相對溼度\n",
    "    print('Temperature=', t, 'C', 'Humidity=', h, '%')\n",
    "    time.sleep(2)                  #暫停 2 秒"
   ]
  },
  {
   "cell_type": "markdown",
   "metadata": {},
   "source": [
    "![Nodemcu腳位](images/NodeMCUv1.0-pinout.jpg)"
   ]
  },
  {
   "cell_type": "markdown",
   "metadata": {},
   "source": [
    "![DHT11](images/DHT11.jpg)"
   ]
  },
  {
   "cell_type": "markdown",
   "metadata": {},
   "source": [
    "![DHT11接線圖](images/MP_DHT11_bb.jpg)"
   ]
  },
  {
   "cell_type": "code",
   "execution_count": null,
   "metadata": {},
   "outputs": [],
   "source": []
  }
 ],
 "metadata": {
  "kernelspec": {
   "display_name": "MicroPython - USB",
   "language": "micropython",
   "name": "micropython"
  },
  "language_info": {
   "codemirror_mode": "python",
   "file_extension": ".py",
   "mimetype": "text/python",
   "name": "micropython"
  }
 },
 "nbformat": 4,
 "nbformat_minor": 2
}
