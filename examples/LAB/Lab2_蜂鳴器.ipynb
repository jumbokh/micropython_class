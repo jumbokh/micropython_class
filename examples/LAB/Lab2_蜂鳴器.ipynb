{
 "cells": [
  {
   "cell_type": "code",
   "execution_count": 10,
   "metadata": {},
   "outputs": [
    {
     "name": "stdout",
     "output_type": "stream",
     "text": [
      "\u001b[34mConnecting to --port=COM6 --baud=115200 \u001b[0m\n",
      "\u001b[34mReady.\n",
      "\u001b[0m"
     ]
    }
   ],
   "source": [
    "%serialconnect to --port=COM6 --baud=115200"
   ]
  },
  {
   "cell_type": "markdown",
   "metadata": {},
   "source": [
    "![蜂鳴器接線圖](https://github.com/jumbokh/micropython_class/blob/master/examples/LAB/images/Lab2_buzzer_bb.jpg?raw=true)"
   ]
  },
  {
   "cell_type": "code",
   "execution_count": 11,
   "metadata": {},
   "outputs": [
    {
     "name": "stdout",
     "output_type": "stream",
     "text": [
      ".."
     ]
    }
   ],
   "source": [
    "from machine import Pin,PWM\n",
    "import time\n",
    "\n",
    "def alarmBeep(beeper):\n",
    "    beeper.freq(1000)   \n",
    "    beeper.duty(512)\n",
    "    time.sleep(1)\n",
    "    beeper.deinit()\n",
    "    time.sleep(2)\n",
    "\n",
    "beeper=PWM(Pin(14)) #D5\n",
    "\n",
    "for i in range(4):\n",
    "    alarmBeep(beeper)"
   ]
  },
  {
   "cell_type": "code",
   "execution_count": 5,
   "metadata": {},
   "outputs": [
    {
     "name": "stdout",
     "output_type": "stream",
     "text": [
      ".."
     ]
    }
   ],
   "source": [
    "# 電話鈴聲\n",
    "\n",
    "from machine import Pin,PWM\n",
    "import time\n",
    "\n",
    "def ringTone(pwm):\n",
    "    for i in range(1,11):\n",
    "        pwm.freq(1000)\n",
    "        pwm.duty(512)\n",
    "        time.sleep_ms(50)\n",
    "        pwm.freq(500)\n",
    "        time.sleep_ms(50)\n",
    "    pwm.deinit()\n",
    "    time.sleep(2)\n",
    "\n",
    "pwm=PWM(Pin(14)) #D5\n",
    "\n",
    "for i in range(4):\n",
    "    ringTone(pwm)"
   ]
  },
  {
   "cell_type": "code",
   "execution_count": 12,
   "metadata": {},
   "outputs": [],
   "source": [
    "# 基本音階\n",
    "from machine import Pin,PWM\n",
    "import time\n",
    "\n",
    "C4=262\n",
    "CS4=277\n",
    "D4=294\n",
    "DS4=311\n",
    "E4=330\n",
    "F4=349\n",
    "FS4=370\n",
    "G4=392\n",
    "GS4=415\n",
    "A4=440\n",
    "AS4=466\n",
    "B4=494\n",
    "C5=523\n",
    "CS5=554\n",
    "D5=587\n",
    "DS5=622\n",
    "E5=659\n",
    "F5=698\n",
    "FS5=740\n",
    "G5=784\n",
    "GS5=831\n",
    "A5=880\n",
    "AS5=932\n",
    "B5=988"
   ]
  },
  {
   "cell_type": "code",
   "execution_count": 15,
   "metadata": {},
   "outputs": [
    {
     "name": "stdout",
     "output_type": "stream",
     "text": [
      "."
     ]
    }
   ],
   "source": [
    "note=(C5, D5, E5, F5, G5, A5, B5)\n",
    "duration=(4, 4, 4, 4, 4, 4, 4)\n",
    "\n",
    "def tone(pwm,note,duration):\n",
    "    if note>0:\n",
    "        pwm.freq(note)           \n",
    "        pwm.duty(512)\n",
    "    time.sleep_ms(duration)\n",
    "    pwm.deinit()\n",
    "    time.sleep_ms(int(duration/4))\n",
    "\n",
    "def music(pwm):\n",
    "    for i in range(0,len(note)):\n",
    "        d=int(1000/duration[i])\n",
    "        tone(pwm, note[i], d)\n",
    "        #p=int(d*1.3)\n",
    "        #time.sleep_ms(p)\n",
    "    time.sleep(1)\n",
    "\n",
    "pwm=PWM(Pin(14)) \n",
    "\n",
    "for i in range(1):\n",
    "    music(pwm)\n"
   ]
  },
  {
   "cell_type": "markdown",
   "metadata": {},
   "source": [
    "### 練習編一首歌，如：小星星\n"
   ]
  },
  {
   "cell_type": "markdown",
   "metadata": {},
   "source": [
    "![小星星簡譜](images\\小星星簡譜.png)"
   ]
  },
  {
   "cell_type": "code",
   "execution_count": 16,
   "metadata": {},
   "outputs": [
    {
     "name": "stdout",
     "output_type": "stream",
     "text": [
      "\u001b[34mattempt to exit paste mode\n",
      "\u001b[0m\u001b[34m[\\r\\x03\\x02] \u001b[0mb'\\r\\nMicroPython v1.9.4-8-ga9a3caad0 on 2018-05-11; ESP module with ESP8266\\r\\nType \"help()\" for more information.\\r\\n>>> '\u001b[34m\n",
      "Closing serial Serial<id=0x4904e90, open=True>(port='COM6', baudrate=115200, bytesize=8, parity='N', stopbits=1, timeout=0.5, xonxoff=False, rtscts=False, dsrdtr=False)\n",
      "\u001b[0m"
     ]
    }
   ],
   "source": [
    "#%rebootdevice\n",
    "%disconnect"
   ]
  },
  {
   "cell_type": "code",
   "execution_count": null,
   "metadata": {},
   "outputs": [],
   "source": []
  }
 ],
 "metadata": {
  "kernelspec": {
   "display_name": "MicroPython - USB",
   "language": "micropython",
   "name": "micropython"
  },
  "language_info": {
   "codemirror_mode": "python",
   "file_extension": ".py",
   "mimetype": "text/python",
   "name": "micropython"
  }
 },
 "nbformat": 4,
 "nbformat_minor": 2
}
