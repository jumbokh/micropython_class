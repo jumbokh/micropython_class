{
 "cells": [
  {
   "cell_type": "code",
   "execution_count": null,
   "metadata": {},
   "outputs": [],
   "source": [
    "%serialconnect to --port COM6 --baud 115200"
   ]
  },
  {
   "cell_type": "markdown",
   "metadata": {},
   "source": [
    "![按鈕](images/Lab3_button_bb.jpg)"
   ]
  },
  {
   "cell_type": "code",
   "execution_count": null,
   "metadata": {},
   "outputs": [],
   "source": [
    "'''\n",
    "按鈕接入 D6 (12)\n",
    "'''\n",
    "import machine\n",
    "button = machine.Pin(12, machine.Pin.IN, machine.Pin.PULL_UP)\n",
    "while True:\n",
    "    if not button.value():\n",
    "        print('Button pressed!')"
   ]
  },
  {
   "cell_type": "code",
   "execution_count": null,
   "metadata": {},
   "outputs": [],
   "source": [
    "import machine\n",
    "import time\n",
    "button = machine.Pin(12, machine.Pin.IN, machine.Pin.PULL_UP)\n",
    "while True:\n",
    "    first = button.value()\n",
    "    time.sleep(0.01)\n",
    "    second = button.value()\n",
    "    if first and not second:\n",
    "        print('Button pressed!')\n",
    "    elif not first and second:\n",
    "        print('Button released!')"
   ]
  },
  {
   "cell_type": "markdown",
   "metadata": {},
   "source": [
    "### 練習：\n",
    "* 按鈕按下去時，點亮 LED燈\n",
    "* 按鈕放開時，熄滅 LED燈"
   ]
  },
  {
   "cell_type": "code",
   "execution_count": null,
   "metadata": {},
   "outputs": [],
   "source": [
    "%disconnect"
   ]
  }
 ],
 "metadata": {
  "kernelspec": {
   "display_name": "MicroPython - USB",
   "language": "micropython",
   "name": "micropython"
  },
  "language_info": {
   "codemirror_mode": "python",
   "file_extension": ".py",
   "mimetype": "text/python",
   "name": "micropython"
  }
 },
 "nbformat": 4,
 "nbformat_minor": 2
}
