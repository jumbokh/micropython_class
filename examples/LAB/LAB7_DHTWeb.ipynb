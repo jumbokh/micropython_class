{
 "cells": [
  {
   "cell_type": "code",
   "execution_count": null,
   "metadata": {},
   "outputs": [],
   "source": [
    "'''\n",
    "材料清單：\n",
    "DHT11 * 1\n",
    "10k歐姆電阻 * 1\n",
    "104 (0.1u)電容 * 1\n",
    "杜邦線 * 3\n",
    "data port: D5 (GPIO14)\n",
    "'''"
   ]
  },
  {
   "cell_type": "code",
   "execution_count": 8,
   "metadata": {},
   "outputs": [
    {
     "name": "stdout",
     "output_type": "stream",
     "text": [
      "\u001b[34mConnecting to --port=COM5 --baud=115200 \u001b[0m\n",
      "\u001b[34mReady.\n",
      "\u001b[0m"
     ]
    }
   ],
   "source": [
    "%serialconnect --port COM5"
   ]
  },
  {
   "cell_type": "code",
   "execution_count": 4,
   "metadata": {},
   "outputs": [
    {
     "name": "stdout",
     "output_type": "stream",
     "text": [
      "Sent 31 lines (459 bytes) to boot.py.\n"
     ]
    }
   ],
   "source": [
    "%sendtofile boot.py\n",
    "try:\n",
    "  import usocket as socket\n",
    "except:\n",
    "  import socket\n",
    "\n",
    "import network\n",
    "from machine import Pin\n",
    "import dht\n",
    "\n",
    "import esp\n",
    "esp.osdebug(None)\n",
    "\n",
    "import gc\n",
    "gc.collect()\n",
    "\n",
    "ssid = 'CHT-10-5'\n",
    "password = '0953313123'\n",
    "\n",
    "station = network.WLAN(network.STA_IF)\n",
    "\n",
    "station.active(True)\n",
    "station.connect(ssid, password)\n",
    "\n",
    "while station.isconnected() == False:\n",
    "  pass\n",
    "\n",
    "print('Connection successful')\n",
    "print(station.ifconfig())\n",
    "\n",
    "#sensor = dht.DHT22(Pin(14))\n",
    "sensor = dht.DHT11(Pin(14))"
   ]
  },
  {
   "cell_type": "code",
   "execution_count": 9,
   "metadata": {},
   "outputs": [
    {
     "name": "stdout",
     "output_type": "stream",
     "text": [
      "Sent 79 lines (2188 bytes) to main.py.\n"
     ]
    }
   ],
   "source": [
    "%sendtofile main.py\n",
    "# Complete project details at https://RandomNerdTutorials.com\n",
    "\n",
    "def read_sensor():\n",
    "  global temp, hum\n",
    "  temp = hum = 0\n",
    "  try:\n",
    "    sensor.measure()\n",
    "    temp = sensor.temperature()\n",
    "    hum = sensor.humidity()\n",
    "    if (isinstance(temp, float) and isinstance(hum, float)) or (isinstance(temp, int) and isinstance(hum, int)):\n",
    "      msg = (b'{0:3.1f},{1:3.1f}'.format(temp, hum))\n",
    "\n",
    "      # uncomment for Fahrenheit\n",
    "      #temp = temp * (9/5) + 32.0\n",
    "\n",
    "      hum = round(hum, 2)\n",
    "      return(msg)\n",
    "    else:\n",
    "      return('Invalid sensor readings.')\n",
    "  except OSError as e:\n",
    "    return('Failed to read sensor.')\n",
    "\n",
    "def web_page():\n",
    "  html = \"\"\"<!DOCTYPE HTML><html>\n",
    "<head>\n",
    "  <meta name=\"viewport\" content=\"width=device-width, initial-scale=1\">\n",
    "  <link rel=\"stylesheet\" href=\"https://use.fontawesome.com/releases/v5.7.2/css/all.css\" integrity=\"sha384-fnmOCqbTlWIlj8LyTjo7mOUStjsKC4pOpQbqyi7RrhN7udi9RwhKkMHpvLbHG9Sr\" crossorigin=\"anonymous\">\n",
    "  <style>\n",
    "    html {\n",
    "     font-family: Arial;\n",
    "     display: inline-block;\n",
    "     margin: 0px auto;\n",
    "     text-align: center;\n",
    "    }\n",
    "    h2 { font-size: 3.0rem; }\n",
    "    p { font-size: 3.0rem; }\n",
    "    .units { font-size: 1.2rem; }\n",
    "    .dht-labels{\n",
    "      font-size: 1.5rem;\n",
    "      vertical-align:middle;\n",
    "      padding-bottom: 15px;\n",
    "    }\n",
    "  </style>\n",
    "</head>\n",
    "<body>\n",
    "  <h2>ESP8266 DHT Server</h2>\n",
    "  <p>\n",
    "    <i class=\"fas fa-thermometer-half\" style=\"color:#059e8a;\"></i> \n",
    "    <span class=\"dht-labels\">Temperature</span> \n",
    "    <span>\"\"\"+str(temp)+\"\"\"</span>\n",
    "    <sup class=\"units\">&deg;C</sup>\n",
    "  </p>\n",
    "  <p>\n",
    "    <i class=\"fas fa-tint\" style=\"color:#00add6;\"></i> \n",
    "    <span class=\"dht-labels\">Humidity</span>\n",
    "    <span>\"\"\"+str(hum)+\"\"\"</span>\n",
    "    <sup class=\"units\">%</sup>\n",
    "  </p>\n",
    "</body>\n",
    "</html>\"\"\"\n",
    "  return html\n",
    "\n",
    "s = socket.socket(socket.AF_INET, socket.SOCK_STREAM)\n",
    "s.bind(('', 80))\n",
    "s.listen(5)\n",
    "\n",
    "while True:\n",
    "  conn, addr = s.accept()\n",
    "  print('Got a connection from %s' % str(addr))\n",
    "  request = conn.recv(1024)\n",
    "  print('Content = %s' % str(request))\n",
    "  sensor_readings = read_sensor()\n",
    "  print(sensor_readings)\n",
    "  response = web_page()\n",
    "  conn.send('HTTP/1.1 200 OK\\n')\n",
    "  conn.send('Content-Type: text/html\\n')\n",
    "  conn.send('Connection: close\\n\\n')\n",
    "  conn.sendall(response)\n",
    "  conn.close()"
   ]
  },
  {
   "cell_type": "code",
   "execution_count": 10,
   "metadata": {},
   "outputs": [
    {
     "name": "stdout",
     "output_type": "stream",
     "text": [
      "normal repl mode not detected b'\\r\\nMicroPython v1.10-8-g8b7039d7d on 2019-01-26; ESP module with ESP8266\\r\\nType \"help()\" for more information.\\r\\n>>> \\r\\n>>> \\r\\nPYB: soft rebConnection successful\\r\\n(\\'192.168.1.112\\', \\'255.255.255.0\\', \\'192.168.1.1\\', \\'192.168.1.1\\')\\r\\nT'\n",
      "not command mode\n",
      "\n",
      "[\\r\\x01] b'raceback (most recent call last):\\r\\n  File \"main.py\", line 68, in <module>\\r\\nKeyboardInterrupt: \\r\\nMicroPython v1.10-8-g8b7039d7d on 2019-01-26; ESP module with ESP8266\\r\\nType \"help()\" for more information.\\r\\n>>> \\r\\n>>> \\r\\n>>> \\r\\nraw REPL; CTRL-B to exit\\r\\n>'"
     ]
    }
   ],
   "source": [
    "%rebootdevice"
   ]
  },
  {
   "cell_type": "code",
   "execution_count": null,
   "metadata": {},
   "outputs": [],
   "source": []
  }
 ],
 "metadata": {
  "kernelspec": {
   "display_name": "MicroPython - USB",
   "language": "micropython",
   "name": "micropython"
  },
  "language_info": {
   "codemirror_mode": "python",
   "file_extension": ".py",
   "mimetype": "text/python",
   "name": "micropython"
  }
 },
 "nbformat": 4,
 "nbformat_minor": 2
}
